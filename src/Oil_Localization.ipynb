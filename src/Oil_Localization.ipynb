{
 "cells": [
  {
   "cell_type": "markdown",
   "metadata": {},
   "source": [
    "Condiciones:\n",
    "<div>\n",
    "  <ul>\n",
    "    <li>Solo se debe usar la regresión lineal para el entrenamiento del modelo.</li>\n",
    "    <li>Al explorar la región, se lleva a cabo un estudio de 500 puntos con la selección de los mejores 200 puntos para el cálculo del beneficio.</li>\n",
    "    <li>El presupuesto para el desarrollo de 200 pozos petroleros es de 100 millones de dólares.</li>\n",
    "    <li>Un barril de materias primas genera 4.5 USD de ingresos. El ingreso de una unidad de producto es de 4500 dólares (el volumen de reservas está expresado en miles de barriles).</li>\n",
    "    <li>Después de la evaluación de riesgo, mantén solo las regiones con riesgo de pérdidas inferior al 2.5%. De las que se ajustan a los criterios, se debe seleccionar la región con el beneficio promedio más alto.</li>      \n",
    "  </ul>\n",
    "</div>\n",
    "Los datos son sintéticos: los detalles del contrato y las características del pozo no se publican.\n",
    "\n",
    "\n",
    "\n",
    "\n",
    "\n"
   ]
  },
  {
   "cell_type": "code",
   "execution_count": 298,
   "metadata": {},
   "outputs": [],
   "source": [
    "import pandas as pd\n",
    "import numpy as np\n",
    "import matplotlib.pyplot as plt\n",
    "from sklearn.model_selection import train_test_split\n",
    "from sklearn.linear_model import LinearRegression\n",
    "from sklearn.metrics import mean_squared_error\n",
    "from scipy import stats as st\n",
    "import math\n",
    "import seaborn as sns"
   ]
  },
  {
   "cell_type": "markdown",
   "metadata": {},
   "source": [
    "<h2>Descarga y prepara los datos. Explica el procedimiento.</h2>"
   ]
  },
  {
   "cell_type": "code",
   "execution_count": 299,
   "metadata": {},
   "outputs": [],
   "source": [
    "data_1 = pd.read_csv('geo_data_0.csv')\n",
    "data_2 = pd.read_csv('geo_data_1.csv')\n",
    "data_3 = pd.read_csv('geo_data_2.csv')\n"
   ]
  },
  {
   "cell_type": "code",
   "execution_count": 300,
   "metadata": {},
   "outputs": [
    {
     "name": "stdout",
     "output_type": "stream",
     "text": [
      "<class 'pandas.core.frame.DataFrame'>\n",
      "RangeIndex: 100000 entries, 0 to 99999\n",
      "Data columns (total 5 columns):\n",
      " #   Column   Non-Null Count   Dtype  \n",
      "---  ------   --------------   -----  \n",
      " 0   id       100000 non-null  object \n",
      " 1   f0       100000 non-null  float64\n",
      " 2   f1       100000 non-null  float64\n",
      " 3   f2       100000 non-null  float64\n",
      " 4   product  100000 non-null  float64\n",
      "dtypes: float64(4), object(1)\n",
      "memory usage: 3.8+ MB\n"
     ]
    }
   ],
   "source": [
    "data_1.info()"
   ]
  },
  {
   "cell_type": "code",
   "execution_count": 301,
   "metadata": {},
   "outputs": [
    {
     "name": "stdout",
     "output_type": "stream",
     "text": [
      "<class 'pandas.core.frame.DataFrame'>\n",
      "RangeIndex: 100000 entries, 0 to 99999\n",
      "Data columns (total 5 columns):\n",
      " #   Column   Non-Null Count   Dtype  \n",
      "---  ------   --------------   -----  \n",
      " 0   id       100000 non-null  object \n",
      " 1   f0       100000 non-null  float64\n",
      " 2   f1       100000 non-null  float64\n",
      " 3   f2       100000 non-null  float64\n",
      " 4   product  100000 non-null  float64\n",
      "dtypes: float64(4), object(1)\n",
      "memory usage: 3.8+ MB\n"
     ]
    }
   ],
   "source": [
    "data_2.info()"
   ]
  },
  {
   "cell_type": "code",
   "execution_count": 302,
   "metadata": {},
   "outputs": [
    {
     "name": "stdout",
     "output_type": "stream",
     "text": [
      "<class 'pandas.core.frame.DataFrame'>\n",
      "RangeIndex: 100000 entries, 0 to 99999\n",
      "Data columns (total 5 columns):\n",
      " #   Column   Non-Null Count   Dtype  \n",
      "---  ------   --------------   -----  \n",
      " 0   id       100000 non-null  object \n",
      " 1   f0       100000 non-null  float64\n",
      " 2   f1       100000 non-null  float64\n",
      " 3   f2       100000 non-null  float64\n",
      " 4   product  100000 non-null  float64\n",
      "dtypes: float64(4), object(1)\n",
      "memory usage: 3.8+ MB\n"
     ]
    }
   ],
   "source": [
    "data_3.info()"
   ]
  },
  {
   "cell_type": "code",
   "execution_count": 303,
   "metadata": {},
   "outputs": [
    {
     "data": {
      "text/html": [
       "<div>\n",
       "<style scoped>\n",
       "    .dataframe tbody tr th:only-of-type {\n",
       "        vertical-align: middle;\n",
       "    }\n",
       "\n",
       "    .dataframe tbody tr th {\n",
       "        vertical-align: top;\n",
       "    }\n",
       "\n",
       "    .dataframe thead th {\n",
       "        text-align: right;\n",
       "    }\n",
       "</style>\n",
       "<table border=\"1\" class=\"dataframe\">\n",
       "  <thead>\n",
       "    <tr style=\"text-align: right;\">\n",
       "      <th></th>\n",
       "      <th>id</th>\n",
       "      <th>f0</th>\n",
       "      <th>f1</th>\n",
       "      <th>f2</th>\n",
       "      <th>product</th>\n",
       "    </tr>\n",
       "  </thead>\n",
       "  <tbody>\n",
       "    <tr>\n",
       "      <th>0</th>\n",
       "      <td>txEyH</td>\n",
       "      <td>0.705745</td>\n",
       "      <td>-0.497823</td>\n",
       "      <td>1.221170</td>\n",
       "      <td>105.280062</td>\n",
       "    </tr>\n",
       "    <tr>\n",
       "      <th>1</th>\n",
       "      <td>2acmU</td>\n",
       "      <td>1.334711</td>\n",
       "      <td>-0.340164</td>\n",
       "      <td>4.365080</td>\n",
       "      <td>73.037750</td>\n",
       "    </tr>\n",
       "    <tr>\n",
       "      <th>2</th>\n",
       "      <td>409Wp</td>\n",
       "      <td>1.022732</td>\n",
       "      <td>0.151990</td>\n",
       "      <td>1.419926</td>\n",
       "      <td>85.265647</td>\n",
       "    </tr>\n",
       "    <tr>\n",
       "      <th>3</th>\n",
       "      <td>iJLyR</td>\n",
       "      <td>-0.032172</td>\n",
       "      <td>0.139033</td>\n",
       "      <td>2.978566</td>\n",
       "      <td>168.620776</td>\n",
       "    </tr>\n",
       "    <tr>\n",
       "      <th>4</th>\n",
       "      <td>Xdl7t</td>\n",
       "      <td>1.988431</td>\n",
       "      <td>0.155413</td>\n",
       "      <td>4.751769</td>\n",
       "      <td>154.036647</td>\n",
       "    </tr>\n",
       "  </tbody>\n",
       "</table>\n",
       "</div>"
      ],
      "text/plain": [
       "      id        f0        f1        f2     product\n",
       "0  txEyH  0.705745 -0.497823  1.221170  105.280062\n",
       "1  2acmU  1.334711 -0.340164  4.365080   73.037750\n",
       "2  409Wp  1.022732  0.151990  1.419926   85.265647\n",
       "3  iJLyR -0.032172  0.139033  2.978566  168.620776\n",
       "4  Xdl7t  1.988431  0.155413  4.751769  154.036647"
      ]
     },
     "execution_count": 303,
     "metadata": {},
     "output_type": "execute_result"
    }
   ],
   "source": [
    "data_1.head()"
   ]
  },
  {
   "cell_type": "code",
   "execution_count": 304,
   "metadata": {},
   "outputs": [
    {
     "data": {
      "text/html": [
       "<div>\n",
       "<style scoped>\n",
       "    .dataframe tbody tr th:only-of-type {\n",
       "        vertical-align: middle;\n",
       "    }\n",
       "\n",
       "    .dataframe tbody tr th {\n",
       "        vertical-align: top;\n",
       "    }\n",
       "\n",
       "    .dataframe thead th {\n",
       "        text-align: right;\n",
       "    }\n",
       "</style>\n",
       "<table border=\"1\" class=\"dataframe\">\n",
       "  <thead>\n",
       "    <tr style=\"text-align: right;\">\n",
       "      <th></th>\n",
       "      <th>id</th>\n",
       "      <th>f0</th>\n",
       "      <th>f1</th>\n",
       "      <th>f2</th>\n",
       "      <th>product</th>\n",
       "    </tr>\n",
       "  </thead>\n",
       "  <tbody>\n",
       "    <tr>\n",
       "      <th>0</th>\n",
       "      <td>kBEdx</td>\n",
       "      <td>-15.001348</td>\n",
       "      <td>-8.276000</td>\n",
       "      <td>-0.005876</td>\n",
       "      <td>3.179103</td>\n",
       "    </tr>\n",
       "    <tr>\n",
       "      <th>1</th>\n",
       "      <td>62mP7</td>\n",
       "      <td>14.272088</td>\n",
       "      <td>-3.475083</td>\n",
       "      <td>0.999183</td>\n",
       "      <td>26.953261</td>\n",
       "    </tr>\n",
       "    <tr>\n",
       "      <th>2</th>\n",
       "      <td>vyE1P</td>\n",
       "      <td>6.263187</td>\n",
       "      <td>-5.948386</td>\n",
       "      <td>5.001160</td>\n",
       "      <td>134.766305</td>\n",
       "    </tr>\n",
       "    <tr>\n",
       "      <th>3</th>\n",
       "      <td>KcrkZ</td>\n",
       "      <td>-13.081196</td>\n",
       "      <td>-11.506057</td>\n",
       "      <td>4.999415</td>\n",
       "      <td>137.945408</td>\n",
       "    </tr>\n",
       "    <tr>\n",
       "      <th>4</th>\n",
       "      <td>AHL4O</td>\n",
       "      <td>12.702195</td>\n",
       "      <td>-8.147433</td>\n",
       "      <td>5.004363</td>\n",
       "      <td>134.766305</td>\n",
       "    </tr>\n",
       "  </tbody>\n",
       "</table>\n",
       "</div>"
      ],
      "text/plain": [
       "      id         f0         f1        f2     product\n",
       "0  kBEdx -15.001348  -8.276000 -0.005876    3.179103\n",
       "1  62mP7  14.272088  -3.475083  0.999183   26.953261\n",
       "2  vyE1P   6.263187  -5.948386  5.001160  134.766305\n",
       "3  KcrkZ -13.081196 -11.506057  4.999415  137.945408\n",
       "4  AHL4O  12.702195  -8.147433  5.004363  134.766305"
      ]
     },
     "execution_count": 304,
     "metadata": {},
     "output_type": "execute_result"
    }
   ],
   "source": [
    "data_2.head()"
   ]
  },
  {
   "cell_type": "code",
   "execution_count": 305,
   "metadata": {},
   "outputs": [
    {
     "data": {
      "text/html": [
       "<div>\n",
       "<style scoped>\n",
       "    .dataframe tbody tr th:only-of-type {\n",
       "        vertical-align: middle;\n",
       "    }\n",
       "\n",
       "    .dataframe tbody tr th {\n",
       "        vertical-align: top;\n",
       "    }\n",
       "\n",
       "    .dataframe thead th {\n",
       "        text-align: right;\n",
       "    }\n",
       "</style>\n",
       "<table border=\"1\" class=\"dataframe\">\n",
       "  <thead>\n",
       "    <tr style=\"text-align: right;\">\n",
       "      <th></th>\n",
       "      <th>id</th>\n",
       "      <th>f0</th>\n",
       "      <th>f1</th>\n",
       "      <th>f2</th>\n",
       "      <th>product</th>\n",
       "    </tr>\n",
       "  </thead>\n",
       "  <tbody>\n",
       "    <tr>\n",
       "      <th>0</th>\n",
       "      <td>fwXo0</td>\n",
       "      <td>-1.146987</td>\n",
       "      <td>0.963328</td>\n",
       "      <td>-0.828965</td>\n",
       "      <td>27.758673</td>\n",
       "    </tr>\n",
       "    <tr>\n",
       "      <th>1</th>\n",
       "      <td>WJtFt</td>\n",
       "      <td>0.262778</td>\n",
       "      <td>0.269839</td>\n",
       "      <td>-2.530187</td>\n",
       "      <td>56.069697</td>\n",
       "    </tr>\n",
       "    <tr>\n",
       "      <th>2</th>\n",
       "      <td>ovLUW</td>\n",
       "      <td>0.194587</td>\n",
       "      <td>0.289035</td>\n",
       "      <td>-5.586433</td>\n",
       "      <td>62.871910</td>\n",
       "    </tr>\n",
       "    <tr>\n",
       "      <th>3</th>\n",
       "      <td>q6cA6</td>\n",
       "      <td>2.236060</td>\n",
       "      <td>-0.553760</td>\n",
       "      <td>0.930038</td>\n",
       "      <td>114.572842</td>\n",
       "    </tr>\n",
       "    <tr>\n",
       "      <th>4</th>\n",
       "      <td>WPMUX</td>\n",
       "      <td>-0.515993</td>\n",
       "      <td>1.716266</td>\n",
       "      <td>5.899011</td>\n",
       "      <td>149.600746</td>\n",
       "    </tr>\n",
       "  </tbody>\n",
       "</table>\n",
       "</div>"
      ],
      "text/plain": [
       "      id        f0        f1        f2     product\n",
       "0  fwXo0 -1.146987  0.963328 -0.828965   27.758673\n",
       "1  WJtFt  0.262778  0.269839 -2.530187   56.069697\n",
       "2  ovLUW  0.194587  0.289035 -5.586433   62.871910\n",
       "3  q6cA6  2.236060 -0.553760  0.930038  114.572842\n",
       "4  WPMUX -0.515993  1.716266  5.899011  149.600746"
      ]
     },
     "execution_count": 305,
     "metadata": {},
     "output_type": "execute_result"
    }
   ],
   "source": [
    "data_3.head()"
   ]
  },
  {
   "cell_type": "code",
   "execution_count": 306,
   "metadata": {},
   "outputs": [
    {
     "data": {
      "text/plain": [
       "0"
      ]
     },
     "execution_count": 306,
     "metadata": {},
     "output_type": "execute_result"
    }
   ],
   "source": [
    "data_1.duplicated().sum()"
   ]
  },
  {
   "cell_type": "code",
   "execution_count": 307,
   "metadata": {},
   "outputs": [
    {
     "data": {
      "text/plain": [
       "0"
      ]
     },
     "execution_count": 307,
     "metadata": {},
     "output_type": "execute_result"
    }
   ],
   "source": [
    "data_2.duplicated().sum()"
   ]
  },
  {
   "cell_type": "code",
   "execution_count": 308,
   "metadata": {},
   "outputs": [
    {
     "data": {
      "text/plain": [
       "0"
      ]
     },
     "execution_count": 308,
     "metadata": {},
     "output_type": "execute_result"
    }
   ],
   "source": [
    "data_3.duplicated().sum()"
   ]
  },
  {
   "cell_type": "code",
   "execution_count": 309,
   "metadata": {},
   "outputs": [],
   "source": [
    "columns=['f0','f1','f2','product']"
   ]
  },
  {
   "cell_type": "code",
   "execution_count": 103,
   "metadata": {},
   "outputs": [
    {
     "data": {
      "image/png": "[encoded data removed]",
      "text/plain": [
       "<Figure size 2000x500 with 4 Axes>"
      ]
     },
     "metadata": {},
     "output_type": "display_data"
    }
   ],
   "source": [
    "plt.subplots(figsize=(20,5))\n",
    "for indice,columna in enumerate(columns):\n",
    "    grafico=sns.histplot(data=data_1, x=columna, bins=50, ax=plt.subplot(1,len(columns), indice+1))"
   ]
  },
  {
   "cell_type": "code",
   "execution_count": 104,
   "metadata": {},
   "outputs": [
    {
     "data": {
      "image/png": "[encoded data removed]",
      "text/plain": [
       "<Figure size 2000x500 with 4 Axes>"
      ]
     },
     "metadata": {},
     "output_type": "display_data"
    }
   ],
   "source": [
    "plt.subplots(figsize=(20,5))\n",
    "for indice,columna in enumerate(columns):\n",
    "    grafico=sns.histplot(data=data_2, x=columna, bins=50, ax=plt.subplot(1,len(columns), indice+1))"
   ]
  },
  {
   "cell_type": "code",
   "execution_count": 105,
   "metadata": {},
   "outputs": [
    {
     "data": {
      "image/png": "[encoded data removed]",
      "text/plain": [
       "<Figure size 2000x500 with 4 Axes>"
      ]
     },
     "metadata": {},
     "output_type": "display_data"
    }
   ],
   "source": [
    "plt.subplots(figsize=(20,5))\n",
    "for indice,columna in enumerate(columns):\n",
    "    grafico=sns.histplot(data=data_3, x=columna, bins=50, ax=plt.subplot(1,len(columns), indice+1))"
   ]
  },
  {
   "cell_type": "code",
   "execution_count": 158,
   "metadata": {},
   "outputs": [
    {
     "name": "stdout",
     "output_type": "stream",
     "text": [
      "Scatter Region 1,f0\n"
     ]
    },
    {
     "data": {
      "text/plain": [
       "<matplotlib.collections.PathCollection at 0x7fd21adc83a0>"
      ]
     },
     "execution_count": 158,
     "metadata": {},
     "output_type": "execute_result"
    },
    {
     "data": {
      "image/png": "[encoded data removed]",
      "text/plain": [
       "<Figure size 640x480 with 1 Axes>"
      ]
     },
     "metadata": {},
     "output_type": "display_data"
    }
   ],
   "source": [
    "print('Scatter Region 1,f0')\n",
    "\n",
    "fig, ax=plt.subplots()\n",
    "ax.scatter(data_1['f0'], data_1['product'])\n"
   ]
  },
  {
   "cell_type": "code",
   "execution_count": 162,
   "metadata": {},
   "outputs": [
    {
     "name": "stdout",
     "output_type": "stream",
     "text": [
      "Scatter Region 1,f1\n"
     ]
    },
    {
     "data": {
      "text/plain": [
       "<matplotlib.collections.PathCollection at 0x7fd21add9580>"
      ]
     },
     "execution_count": 162,
     "metadata": {},
     "output_type": "execute_result"
    },
    {
     "data": {
      "image/png": "[encoded data removed]",
      "text/plain": [
       "<Figure size 640x480 with 1 Axes>"
      ]
     },
     "metadata": {},
     "output_type": "display_data"
    }
   ],
   "source": [
    "print('Scatter Region 1,f1')\n",
    "fig, ax=plt.subplots()\n",
    "ax.scatter(data_1['f1'], data_1['product'])"
   ]
  },
  {
   "cell_type": "code",
   "execution_count": 163,
   "metadata": {},
   "outputs": [
    {
     "name": "stdout",
     "output_type": "stream",
     "text": [
      "Scatter Region 1, f2\n"
     ]
    },
    {
     "data": {
      "text/plain": [
       "<matplotlib.collections.PathCollection at 0x7fd212e2c520>"
      ]
     },
     "execution_count": 163,
     "metadata": {},
     "output_type": "execute_result"
    },
    {
     "data": {
      "image/png": "[encoded data removed]",
      "text/plain": [
       "<Figure size 640x480 with 1 Axes>"
      ]
     },
     "metadata": {},
     "output_type": "display_data"
    }
   ],
   "source": [
    "print('Scatter Region 1, f2')\n",
    "\n",
    "fig, ax=plt.subplots()\n",
    "ax.scatter(data_1['f2'], data_1['product'])"
   ]
  },
  {
   "cell_type": "code",
   "execution_count": 164,
   "metadata": {},
   "outputs": [
    {
     "data": {
      "text/html": [
       "<div>\n",
       "<style scoped>\n",
       "    .dataframe tbody tr th:only-of-type {\n",
       "        vertical-align: middle;\n",
       "    }\n",
       "\n",
       "    .dataframe tbody tr th {\n",
       "        vertical-align: top;\n",
       "    }\n",
       "\n",
       "    .dataframe thead th {\n",
       "        text-align: right;\n",
       "    }\n",
       "</style>\n",
       "<table border=\"1\" class=\"dataframe\">\n",
       "  <thead>\n",
       "    <tr style=\"text-align: right;\">\n",
       "      <th></th>\n",
       "      <th>f0</th>\n",
       "      <th>f1</th>\n",
       "      <th>f2</th>\n",
       "      <th>product</th>\n",
       "    </tr>\n",
       "  </thead>\n",
       "  <tbody>\n",
       "    <tr>\n",
       "      <th>f0</th>\n",
       "      <td>1.000000</td>\n",
       "      <td>-0.440723</td>\n",
       "      <td>-0.003153</td>\n",
       "      <td>0.143536</td>\n",
       "    </tr>\n",
       "    <tr>\n",
       "      <th>f1</th>\n",
       "      <td>-0.440723</td>\n",
       "      <td>1.000000</td>\n",
       "      <td>0.001724</td>\n",
       "      <td>-0.192356</td>\n",
       "    </tr>\n",
       "    <tr>\n",
       "      <th>f2</th>\n",
       "      <td>-0.003153</td>\n",
       "      <td>0.001724</td>\n",
       "      <td>1.000000</td>\n",
       "      <td>0.483663</td>\n",
       "    </tr>\n",
       "    <tr>\n",
       "      <th>product</th>\n",
       "      <td>0.143536</td>\n",
       "      <td>-0.192356</td>\n",
       "      <td>0.483663</td>\n",
       "      <td>1.000000</td>\n",
       "    </tr>\n",
       "  </tbody>\n",
       "</table>\n",
       "</div>"
      ],
      "text/plain": [
       "               f0        f1        f2   product\n",
       "f0       1.000000 -0.440723 -0.003153  0.143536\n",
       "f1      -0.440723  1.000000  0.001724 -0.192356\n",
       "f2      -0.003153  0.001724  1.000000  0.483663\n",
       "product  0.143536 -0.192356  0.483663  1.000000"
      ]
     },
     "execution_count": 164,
     "metadata": {},
     "output_type": "execute_result"
    }
   ],
   "source": [
    "data_1.corr()"
   ]
  },
  {
   "cell_type": "code",
   "execution_count": 165,
   "metadata": {},
   "outputs": [
    {
     "data": {
      "text/html": [
       "<div>\n",
       "<style scoped>\n",
       "    .dataframe tbody tr th:only-of-type {\n",
       "        vertical-align: middle;\n",
       "    }\n",
       "\n",
       "    .dataframe tbody tr th {\n",
       "        vertical-align: top;\n",
       "    }\n",
       "\n",
       "    .dataframe thead th {\n",
       "        text-align: right;\n",
       "    }\n",
       "</style>\n",
       "<table border=\"1\" class=\"dataframe\">\n",
       "  <thead>\n",
       "    <tr style=\"text-align: right;\">\n",
       "      <th></th>\n",
       "      <th>f0</th>\n",
       "      <th>f1</th>\n",
       "      <th>f2</th>\n",
       "      <th>product</th>\n",
       "    </tr>\n",
       "  </thead>\n",
       "  <tbody>\n",
       "    <tr>\n",
       "      <th>f0</th>\n",
       "      <td>1.000000</td>\n",
       "      <td>0.182287</td>\n",
       "      <td>-0.001777</td>\n",
       "      <td>-0.030491</td>\n",
       "    </tr>\n",
       "    <tr>\n",
       "      <th>f1</th>\n",
       "      <td>0.182287</td>\n",
       "      <td>1.000000</td>\n",
       "      <td>-0.002595</td>\n",
       "      <td>-0.010155</td>\n",
       "    </tr>\n",
       "    <tr>\n",
       "      <th>f2</th>\n",
       "      <td>-0.001777</td>\n",
       "      <td>-0.002595</td>\n",
       "      <td>1.000000</td>\n",
       "      <td>0.999397</td>\n",
       "    </tr>\n",
       "    <tr>\n",
       "      <th>product</th>\n",
       "      <td>-0.030491</td>\n",
       "      <td>-0.010155</td>\n",
       "      <td>0.999397</td>\n",
       "      <td>1.000000</td>\n",
       "    </tr>\n",
       "  </tbody>\n",
       "</table>\n",
       "</div>"
      ],
      "text/plain": [
       "               f0        f1        f2   product\n",
       "f0       1.000000  0.182287 -0.001777 -0.030491\n",
       "f1       0.182287  1.000000 -0.002595 -0.010155\n",
       "f2      -0.001777 -0.002595  1.000000  0.999397\n",
       "product -0.030491 -0.010155  0.999397  1.000000"
      ]
     },
     "execution_count": 165,
     "metadata": {},
     "output_type": "execute_result"
    }
   ],
   "source": [
    "data_2.corr()"
   ]
  },
  {
   "cell_type": "code",
   "execution_count": 166,
   "metadata": {},
   "outputs": [
    {
     "data": {
      "text/html": [
       "<div>\n",
       "<style scoped>\n",
       "    .dataframe tbody tr th:only-of-type {\n",
       "        vertical-align: middle;\n",
       "    }\n",
       "\n",
       "    .dataframe tbody tr th {\n",
       "        vertical-align: top;\n",
       "    }\n",
       "\n",
       "    .dataframe thead th {\n",
       "        text-align: right;\n",
       "    }\n",
       "</style>\n",
       "<table border=\"1\" class=\"dataframe\">\n",
       "  <thead>\n",
       "    <tr style=\"text-align: right;\">\n",
       "      <th></th>\n",
       "      <th>f0</th>\n",
       "      <th>f1</th>\n",
       "      <th>f2</th>\n",
       "      <th>product</th>\n",
       "    </tr>\n",
       "  </thead>\n",
       "  <tbody>\n",
       "    <tr>\n",
       "      <th>f0</th>\n",
       "      <td>1.000000</td>\n",
       "      <td>0.000528</td>\n",
       "      <td>-0.000448</td>\n",
       "      <td>-0.001987</td>\n",
       "    </tr>\n",
       "    <tr>\n",
       "      <th>f1</th>\n",
       "      <td>0.000528</td>\n",
       "      <td>1.000000</td>\n",
       "      <td>0.000779</td>\n",
       "      <td>-0.001012</td>\n",
       "    </tr>\n",
       "    <tr>\n",
       "      <th>f2</th>\n",
       "      <td>-0.000448</td>\n",
       "      <td>0.000779</td>\n",
       "      <td>1.000000</td>\n",
       "      <td>0.445871</td>\n",
       "    </tr>\n",
       "    <tr>\n",
       "      <th>product</th>\n",
       "      <td>-0.001987</td>\n",
       "      <td>-0.001012</td>\n",
       "      <td>0.445871</td>\n",
       "      <td>1.000000</td>\n",
       "    </tr>\n",
       "  </tbody>\n",
       "</table>\n",
       "</div>"
      ],
      "text/plain": [
       "               f0        f1        f2   product\n",
       "f0       1.000000  0.000528 -0.000448 -0.001987\n",
       "f1       0.000528  1.000000  0.000779 -0.001012\n",
       "f2      -0.000448  0.000779  1.000000  0.445871\n",
       "product -0.001987 -0.001012  0.445871  1.000000"
      ]
     },
     "execution_count": 166,
     "metadata": {},
     "output_type": "execute_result"
    }
   ],
   "source": [
    "data_3.corr()"
   ]
  },
  {
   "cell_type": "code",
   "execution_count": 167,
   "metadata": {},
   "outputs": [
    {
     "name": "stdout",
     "output_type": "stream",
     "text": [
      "Scatter Region 2,f0\n"
     ]
    },
    {
     "data": {
      "text/plain": [
       "<matplotlib.collections.PathCollection at 0x7fd21c32adf0>"
      ]
     },
     "execution_count": 167,
     "metadata": {},
     "output_type": "execute_result"
    },
    {
     "data": {
      "image/png": "[encoded data removed]",
      "text/plain": [
       "<Figure size 640x480 with 1 Axes>"
      ]
     },
     "metadata": {},
     "output_type": "display_data"
    }
   ],
   "source": [
    "print('Scatter Region 2,f0')\n",
    "\n",
    "fig, ax=plt.subplots()\n",
    "ax.scatter(data_2['f0'], data_2['product'])"
   ]
  },
  {
   "cell_type": "code",
   "execution_count": 168,
   "metadata": {},
   "outputs": [
    {
     "name": "stdout",
     "output_type": "stream",
     "text": [
      "Scatter Region 2,f1\n"
     ]
    },
    {
     "data": {
      "text/plain": [
       "<matplotlib.collections.PathCollection at 0x7fd230d78460>"
      ]
     },
     "execution_count": 168,
     "metadata": {},
     "output_type": "execute_result"
    },
    {
     "data": {
      "image/png": "[encoded data removed]",
      "text/plain": [
       "<Figure size 640x480 with 1 Axes>"
      ]
     },
     "metadata": {},
     "output_type": "display_data"
    }
   ],
   "source": [
    "print('Scatter Region 2,f1')\n",
    "\n",
    "fig, ax=plt.subplots()\n",
    "ax.scatter(data_2['f1'], data_2['product'])"
   ]
  },
  {
   "cell_type": "code",
   "execution_count": 169,
   "metadata": {},
   "outputs": [
    {
     "name": "stdout",
     "output_type": "stream",
     "text": [
      "Scatter Region 2, f2 \n"
     ]
    },
    {
     "data": {
      "text/plain": [
       "<matplotlib.collections.PathCollection at 0x7fd21adeec40>"
      ]
     },
     "execution_count": 169,
     "metadata": {},
     "output_type": "execute_result"
    },
    {
     "data": {
      "image/png": "[encoded data removed]",
      "text/plain": [
       "<Figure size 640x480 with 1 Axes>"
      ]
     },
     "metadata": {},
     "output_type": "display_data"
    }
   ],
   "source": [
    "print('Scatter Region 2, f2 ')\n",
    "\n",
    "fig, ax=plt.subplots()\n",
    "ax.scatter(data_2['f2'], data_2['product'])"
   ]
  },
  {
   "cell_type": "code",
   "execution_count": 170,
   "metadata": {},
   "outputs": [
    {
     "name": "stdout",
     "output_type": "stream",
     "text": [
      "Scatter REgion 3,f0\n"
     ]
    },
    {
     "data": {
      "text/plain": [
       "<matplotlib.collections.PathCollection at 0x7fd230bbd550>"
      ]
     },
     "execution_count": 170,
     "metadata": {},
     "output_type": "execute_result"
    },
    {
     "data": {
      "image/png": "[encoded data removed]",
      "text/plain": [
       "<Figure size 640x480 with 1 Axes>"
      ]
     },
     "metadata": {},
     "output_type": "display_data"
    }
   ],
   "source": [
    "print('Scatter REgion 3,f0')\n",
    "\n",
    "fig, ax=plt.subplots()\n",
    "ax.scatter(data_3['f0'], data_3['product'])"
   ]
  },
  {
   "cell_type": "code",
   "execution_count": 171,
   "metadata": {},
   "outputs": [
    {
     "name": "stdout",
     "output_type": "stream",
     "text": [
      "Scatter Region 3 , f1\n"
     ]
    },
    {
     "data": {
      "text/plain": [
       "<matplotlib.collections.PathCollection at 0x7fd21329df70>"
      ]
     },
     "execution_count": 171,
     "metadata": {},
     "output_type": "execute_result"
    },
    {
     "data": {
      "image/png": "[encoded data removed]",
      "text/plain": [
       "<Figure size 640x480 with 1 Axes>"
      ]
     },
     "metadata": {},
     "output_type": "display_data"
    }
   ],
   "source": [
    "print('Scatter Region 3 , f1')\n",
    "\n",
    "fig, ax=plt.subplots()\n",
    "ax.scatter(data_3['f1'], data_3['product'])"
   ]
  },
  {
   "cell_type": "code",
   "execution_count": 310,
   "metadata": {},
   "outputs": [
    {
     "name": "stdout",
     "output_type": "stream",
     "text": [
      "Scatter Region 3, f2\n"
     ]
    },
    {
     "data": {
      "text/plain": [
       "<matplotlib.collections.PathCollection at 0x7fd212a98cd0>"
      ]
     },
     "execution_count": 310,
     "metadata": {},
     "output_type": "execute_result"
    },
    {
     "data": {
      "image/png": "[encoded data removed]",
      "text/plain": [
       "<Figure size 640x480 with 1 Axes>"
      ]
     },
     "metadata": {},
     "output_type": "display_data"
    }
   ],
   "source": [
    "print('Scatter Region 3, f2')\n",
    "\n",
    "fig, ax=plt.subplots()\n",
    "ax.scatter(data_3['f2'], data_3['product'])"
   ]
  },
  {
   "cell_type": "markdown",
   "metadata": {},
   "source": [
    "<B><FONT COLOR=blue>NO HAY TANTO DATOS REPETIDOS , NI NULOS, ADEMÁS PODEMOS NOTAR LA CORRELACION ENTRE CADA REGION Y SU PRODUCTO, AUNQUE TENEMOS LA OBSERVACION SOBRE LA REGION 2 EN F2 Y SU PRODUCTO LA CUAL TIENE UNA CORRELACION BASTANTE ALTA , EN CUANTO A LOS DATOS , SOLO HABRA QUE MODIFICAR EL ID DE LOS 3 CONJUNTOS A QUE ES IRRELEVANTE PARA LA TAREA. </B></FONT>"
   ]
  },
  {
   "cell_type": "markdown",
   "metadata": {},
   "source": [
    "<h2>Entrena y prueba el modelo para cada región en geo_data_0.csv:</h2>\n",
    "\n",
    "\n"
   ]
  },
  {
   "cell_type": "markdown",
   "metadata": {},
   "source": [
    "<h3>Divide los datos en un conjunto de entrenamiento y un conjunto de validación en una proporción de 75:25</h3>\n"
   ]
  },
  {
   "cell_type": "code",
   "execution_count": 311,
   "metadata": {},
   "outputs": [],
   "source": [
    "state=np.random.RandomState(12345)"
   ]
  },
  {
   "cell_type": "code",
   "execution_count": 312,
   "metadata": {},
   "outputs": [
    {
     "name": "stdout",
     "output_type": "stream",
     "text": [
      "225000\n",
      "75000\n"
     ]
    }
   ],
   "source": [
    "data_1_p=data_1.drop('id',axis=1)\n",
    "data_1_p\n",
    "target_d1 = data_1_p['product']\n",
    "features_d1 = data_1_p.drop('product', axis=1)\n",
    "features_d1\n",
    "features_train_d1, features_valid_d1, target_train_d1, target_valid_d1 = train_test_split(\n",
    "features_d1, target_d1, test_size=0.25, random_state=state)\n",
    "print(features_train_d1.size)\n",
    "print(target_train_d1.size)"
   ]
  },
  {
   "cell_type": "markdown",
   "metadata": {},
   "source": [
    "<h3>Entrena el modelo y haz predicciones para el conjunto de validación.</h3>\n"
   ]
  },
  {
   "cell_type": "code",
   "execution_count": 313,
   "metadata": {},
   "outputs": [
    {
     "name": "stdout",
     "output_type": "stream",
     "text": [
      "RSME_REGION_1:  37.5794217150813\n",
      "VOLUMEN MEDIO REGION_1: 92.59256778438035\n"
     ]
    }
   ],
   "source": [
    "model=LinearRegression()\n",
    "model.fit(features_train_d1,target_train_d1)\n",
    "predict_d1=model.predict(features_valid_d1)\n",
    "rsme=mean_squared_error(target_valid_d1, predict_d1,squared=False)\n",
    "print('RSME_REGION_1: ',rsme)\n",
    "mean_pred=predict_d1.mean()\n",
    "print('VOLUMEN MEDIO REGION_1:',mean_pred)"
   ]
  },
  {
   "cell_type": "markdown",
   "metadata": {},
   "source": [
    "<h3>Guarda las predicciones y las respuestas correctas para el conjunto de validación.</h3>\n",
    "<h3>Muestra el volumen medio de reservas predicho y RMSE del modelo.</h3>\n",
    "<h3>Analiza los resultados.</h3>\n",
    "<h3>Coloca todos los pasos previos en funciones, realiza y ejecuta los pasos 2.1-2.5 para los archivos 'geo_data_1.csv' y 'geo_data_2.csv'.</h3>"
   ]
  },
  {
   "cell_type": "markdown",
   "metadata": {},
   "source": [
    "<B><FONT COLOR=blue> se hace el entrenamiento del modelo en conjunto con la funcion para los datos de cada region<B></FONT>"
   ]
  },
  {
   "cell_type": "code",
   "execution_count": 315,
   "metadata": {},
   "outputs": [],
   "source": [
    "state=np.random.RandomState(54321)"
   ]
  },
  {
   "cell_type": "code",
   "execution_count": 316,
   "metadata": {},
   "outputs": [],
   "source": [
    "\n",
    "def entr(geo_data, random_state=state):\n",
    "    target = geo_data['product']\n",
    "    features = geo_data.drop('product', axis=1)\n",
    "    features_train, features_valid, target_train, target_valid = train_test_split(features, target, test_size=0.25, random_state=state)\n",
    "    model=LinearRegression()\n",
    "    model.fit(features_train,target_train)\n",
    "    predict_m=model.predict(features_valid)\n",
    "    rsme=mean_squared_error(target_valid, predict_m,squared=False)\n",
    "    print('RSME: ',rsme)\n",
    "    mean_pred_m=predict_m.mean()\n",
    "    print('VOLUMEN PROMEDIO: ',mean_pred_m)\n",
    "    precio_total__m=mean_pred_m *74.59*1000\n",
    "    print('Precio total promedio: ', mean_pred_m *74.59*1000)\n",
    "   \n",
    "    print()\n",
    "    return rsme, mean_pred_m,precio_total__m,pd.DataFrame(dict(valor_pred=predict_m, valor_real=target_valid))"
   ]
  },
  {
   "cell_type": "code",
   "execution_count": 317,
   "metadata": {},
   "outputs": [],
   "source": [
    "data_2_p=data_2.drop('id',axis=1)\n",
    "data_3_p=data_3.drop('id',axis=1)"
   ]
  },
  {
   "cell_type": "code",
   "execution_count": 318,
   "metadata": {},
   "outputs": [
    {
     "name": "stdout",
     "output_type": "stream",
     "text": [
      "RSME:  37.68341093860808\n",
      "VOLUMEN PROMEDIO:  92.15921155743655\n",
      "Precio total promedio:  6874155.590069192\n",
      "\n"
     ]
    },
    {
     "data": {
      "text/plain": [
       "(37.68341093860808,\n",
       " 92.15921155743655,\n",
       " 6874155.590069192,\n",
       "        valor_pred  valor_real\n",
       " 47590  110.101190   96.485709\n",
       " 39469  122.700895  155.642351\n",
       " 88291   84.023603   78.784777\n",
       " 46565   95.975692  120.530381\n",
       " 55316   83.437307   99.818807\n",
       " ...           ...         ...\n",
       " 27645  121.352066  157.240437\n",
       " 57064  107.131396  143.443160\n",
       " 73541   97.346248  117.909556\n",
       " 10466  131.189324  130.134401\n",
       " 14296  112.040388  128.887513\n",
       " \n",
       " [25000 rows x 2 columns])"
      ]
     },
     "execution_count": 318,
     "metadata": {},
     "output_type": "execute_result"
    }
   ],
   "source": [
    "entr(data_1_p)"
   ]
  },
  {
   "cell_type": "code",
   "execution_count": 319,
   "metadata": {},
   "outputs": [
    {
     "name": "stdout",
     "output_type": "stream",
     "text": [
      "RSME:  0.8885222400411976\n",
      "VOLUMEN PROMEDIO:  68.88432201515047\n",
      "Precio total promedio:  5138081.579110074\n",
      "\n"
     ]
    },
    {
     "data": {
      "text/plain": [
       "(0.8885222400411976,\n",
       " 68.88432201515047,\n",
       " 5138081.579110074,\n",
       "        valor_pred  valor_real\n",
       " 14659    3.400360    3.179103\n",
       " 91053   56.352065   57.085625\n",
       " 57960   56.093832   57.085625\n",
       " 13247   27.939544   30.132364\n",
       " 32713   81.275973   80.859783\n",
       " ...           ...         ...\n",
       " 67274  138.654853  137.945408\n",
       " 50689   54.556852   53.906522\n",
       " 65130   54.277772   53.906522\n",
       " 41863   80.867665   80.859783\n",
       " 93742  109.849964  110.992147\n",
       " \n",
       " [25000 rows x 2 columns])"
      ]
     },
     "execution_count": 319,
     "metadata": {},
     "output_type": "execute_result"
    }
   ],
   "source": [
    "entr(data_2_p)"
   ]
  },
  {
   "cell_type": "code",
   "execution_count": 320,
   "metadata": {},
   "outputs": [
    {
     "name": "stdout",
     "output_type": "stream",
     "text": [
      "RSME:  40.136726733973994\n",
      "VOLUMEN PROMEDIO:  95.17807449209\n",
      "Precio total promedio:  7099332.576364994\n",
      "\n"
     ]
    },
    {
     "data": {
      "text/plain": [
       "(40.136726733973994,\n",
       " 95.17807449209,\n",
       " 7099332.576364994,\n",
       "        valor_pred  valor_real\n",
       " 61174   78.440289  130.976266\n",
       " 30172  132.796129  155.460159\n",
       " 61787   54.414898   28.412122\n",
       " 23654  101.673526  122.149695\n",
       " 14464  107.593360  189.976606\n",
       " ...           ...         ...\n",
       " 42018  115.280467  103.068660\n",
       " 48596   90.029759  164.365798\n",
       " 67116   97.338276    6.310441\n",
       " 31027   97.628004   44.910670\n",
       " 67206  131.985493  167.230750\n",
       " \n",
       " [25000 rows x 2 columns])"
      ]
     },
     "execution_count": 320,
     "metadata": {},
     "output_type": "execute_result"
    }
   ],
   "source": [
    "entr(data_3_p)"
   ]
  },
  {
   "cell_type": "markdown",
   "metadata": {},
   "source": [
    " <B><FONT COLOR=blue>EN CUANTO A LAS REGIONES QUE SE DEDUCEN, SE PUEDE DECIR QUE LA SEGUNDA REGION MANEJA UN ERROR MENOR A COMPARACION DE LAS OTRAS DOS, LA TERCERA REGION TIENE UN PROMEDIO DE GANANCIA SUPERIOR, SIN EMBARGO SU RIESGO DE PERDIDA ES MAYOR CONSIDERANDO EL ERROR QUE MANEJA, POR LO TANTO LA REGION MAS FACTIBLE DE INVERSION ES LA PRIMERA REGION, YA QUE NOS MUESTRA UN VOLUMEN A CONSIDERAR Y SU ERROR ES MENOR A LA TERCERA REGION. </B></FONT>"
   ]
  },
  {
   "cell_type": "markdown",
   "metadata": {},
   "source": [
    "RSME:  37.68341093860808\n",
    "VOLUMEN PROMEDIO:  92.15921155743655\n",
    "Precio total promedio:  6874155.590069192\n",
    "    \n",
    "RSME:  0.8885222400411976\n",
    "VOLUMEN PROMEDIO:  68.88432201515047\n",
    "Precio total promedio:  5138081.579110074\n",
    "\n",
    "RSME:  40.136726733973994\n",
    "VOLUMEN PROMEDIO:  95.17807449209\n",
    "Precio total promedio:  7099332.576364994   "
   ]
  },
  {
   "cell_type": "markdown",
   "metadata": {},
   "source": [
    "<H2>\tPrepárate para el cálculo de ganancias:</H2>\n",
    "<H3>\tAlmacena todos los valores necesarios para los cálculos en variables separadas.</H3>\n",
    "<H3>\tDada la inversión de 100 millones por 200 pozos petrolíferos, de media un pozo petrolífero debe producir al menos un valor de 500,000 dólares en unidades para evitar pérdidas (esto es equivalente a 111.1 unidades). Compara esta cantidad con la cantidad media de reservas en cada región.</H3>\n",
    "<H3>Presenta conclusiones sobre cómo preparar el paso para calcular el beneficio.</H3>\n"
   ]
  },
  {
   "cell_type": "markdown",
   "metadata": {},
   "source": [
    "<H2>\tEscribe una función para calcular la ganancia de un conjunto de pozos de petróleo seleccionados y modela las predicciones:</H2>\n",
    "<H3>\tElige los 200 pozos con los valores de predicción más altos de cada una de las 3 regiones (es decir, archivos 'csv').</H3>\n",
    "<H3>\tResume el volumen objetivo de reservas según dichas predicciones. Almacena las predicciones para los 200 pozos para cada una de las 3 regiones.</H3>\n",
    "<H3>\tCalcula la ganancia potencial de los 200 pozos principales por región. Presenta tus conclusiones: propón una región para el desarrollo de pozos petrolíferos y justifica tu elección.</H3>\n"
   ]
  },
  {
   "cell_type": "code",
   "execution_count": 321,
   "metadata": {},
   "outputs": [],
   "source": [
    "inversion=100000000 #100 millones\n",
    "ingreso= 4500 #4.5 por 1000 \n",
    "pozos=200 \n",
    "unidades_min=111.11 #produccion minima en unidades para evitar perdidas "
   ]
  },
  {
   "cell_type": "code",
   "execution_count": 322,
   "metadata": {},
   "outputs": [
    {
     "data": {
      "text/plain": [
       "22222.222222222223"
      ]
     },
     "execution_count": 322,
     "metadata": {},
     "output_type": "execute_result"
    }
   ],
   "source": [
    "vol_min =inversion / ingreso\n",
    "vol_min"
   ]
  },
  {
   "cell_type": "code",
   "execution_count": 323,
   "metadata": {},
   "outputs": [
    {
     "data": {
      "text/plain": [
       "111.11111111111111"
      ]
     },
     "execution_count": 323,
     "metadata": {},
     "output_type": "execute_result"
    }
   ],
   "source": [
    "vol_min /pozos"
   ]
  },
  {
   "cell_type": "code",
   "execution_count": 324,
   "metadata": {},
   "outputs": [
    {
     "data": {
      "text/plain": [
       "500000.0"
      ]
     },
     "execution_count": 324,
     "metadata": {},
     "output_type": "execute_result"
    }
   ],
   "source": [
    "produccion_pozo_valor=inversion/pozos\n",
    "produccion_pozo_valor"
   ]
  },
  {
   "cell_type": "code",
   "execution_count": 325,
   "metadata": {},
   "outputs": [
    {
     "name": "stdout",
     "output_type": "stream",
     "text": [
      "RSME:  37.828054194058865\n",
      "VOLUMEN PROMEDIO:  92.54347378351981\n",
      "Precio total promedio:  6902817.709512743\n",
      "\n"
     ]
    },
    {
     "data": {
      "text/html": [
       "<div>\n",
       "<style scoped>\n",
       "    .dataframe tbody tr th:only-of-type {\n",
       "        vertical-align: middle;\n",
       "    }\n",
       "\n",
       "    .dataframe tbody tr th {\n",
       "        vertical-align: top;\n",
       "    }\n",
       "\n",
       "    .dataframe thead th {\n",
       "        text-align: right;\n",
       "    }\n",
       "</style>\n",
       "<table border=\"1\" class=\"dataframe\">\n",
       "  <thead>\n",
       "    <tr style=\"text-align: right;\">\n",
       "      <th></th>\n",
       "      <th>valor_pred</th>\n",
       "      <th>valor_real</th>\n",
       "    </tr>\n",
       "  </thead>\n",
       "  <tbody>\n",
       "    <tr>\n",
       "      <th>22111</th>\n",
       "      <td>115.427928</td>\n",
       "      <td>84.554116</td>\n",
       "    </tr>\n",
       "    <tr>\n",
       "      <th>45173</th>\n",
       "      <td>84.270188</td>\n",
       "      <td>126.322591</td>\n",
       "    </tr>\n",
       "    <tr>\n",
       "      <th>99924</th>\n",
       "      <td>79.046902</td>\n",
       "      <td>105.436458</td>\n",
       "    </tr>\n",
       "    <tr>\n",
       "      <th>22202</th>\n",
       "      <td>62.327578</td>\n",
       "      <td>37.545972</td>\n",
       "    </tr>\n",
       "    <tr>\n",
       "      <th>61276</th>\n",
       "      <td>104.907424</td>\n",
       "      <td>112.600782</td>\n",
       "    </tr>\n",
       "    <tr>\n",
       "      <th>...</th>\n",
       "      <td>...</td>\n",
       "      <td>...</td>\n",
       "    </tr>\n",
       "    <tr>\n",
       "      <th>27536</th>\n",
       "      <td>72.395865</td>\n",
       "      <td>97.692185</td>\n",
       "    </tr>\n",
       "    <tr>\n",
       "      <th>4097</th>\n",
       "      <td>101.598541</td>\n",
       "      <td>84.586256</td>\n",
       "    </tr>\n",
       "    <tr>\n",
       "      <th>55464</th>\n",
       "      <td>86.677294</td>\n",
       "      <td>112.840776</td>\n",
       "    </tr>\n",
       "    <tr>\n",
       "      <th>96830</th>\n",
       "      <td>108.396844</td>\n",
       "      <td>48.153943</td>\n",
       "    </tr>\n",
       "    <tr>\n",
       "      <th>81541</th>\n",
       "      <td>56.038453</td>\n",
       "      <td>53.893426</td>\n",
       "    </tr>\n",
       "  </tbody>\n",
       "</table>\n",
       "<p>25000 rows × 2 columns</p>\n",
       "</div>"
      ],
      "text/plain": [
       "       valor_pred  valor_real\n",
       "22111  115.427928   84.554116\n",
       "45173   84.270188  126.322591\n",
       "99924   79.046902  105.436458\n",
       "22202   62.327578   37.545972\n",
       "61276  104.907424  112.600782\n",
       "...           ...         ...\n",
       "27536   72.395865   97.692185\n",
       "4097   101.598541   84.586256\n",
       "55464   86.677294  112.840776\n",
       "96830  108.396844   48.153943\n",
       "81541   56.038453   53.893426\n",
       "\n",
       "[25000 rows x 2 columns]"
      ]
     },
     "execution_count": 325,
     "metadata": {},
     "output_type": "execute_result"
    }
   ],
   "source": [
    "entr(data_1_p)[3]"
   ]
  },
  {
   "cell_type": "code",
   "execution_count": 326,
   "metadata": {},
   "outputs": [],
   "source": [
    "regiones=['R_1','R_2','R_3']\n",
    "datas=[data_1_p,data_2_p,data_3_p]"
   ]
  },
  {
   "cell_type": "code",
   "execution_count": 327,
   "metadata": {},
   "outputs": [],
   "source": [
    "pred_3r={}"
   ]
  },
  {
   "cell_type": "code",
   "execution_count": 328,
   "metadata": {},
   "outputs": [
    {
     "name": "stdout",
     "output_type": "stream",
     "text": [
      "RSME:  37.55600449983178\n",
      "VOLUMEN PROMEDIO:  92.5482626174188\n",
      "Precio total promedio:  6903174.908633268\n",
      "\n",
      "RSME:  0.8891564796270996\n",
      "VOLUMEN PROMEDIO:  68.97189337967805\n",
      "Precio total promedio:  5144613.527190186\n",
      "\n",
      "RSME:  39.92653558125212\n",
      "VOLUMEN PROMEDIO:  95.01388147598429\n",
      "Precio total promedio:  7087085.419293668\n",
      "\n"
     ]
    }
   ],
   "source": [
    "for data, region in zip(datas, regiones):\n",
    "    pred_3r[region]=entr(data)[3]"
   ]
  },
  {
   "cell_type": "markdown",
   "metadata": {},
   "source": [
    "4.1   Elige los 200 pozos con los valores de predicción más altos de cada una de las 3 regiones (es decir, archivos 'csv')."
   ]
  },
  {
   "cell_type": "code",
   "execution_count": 330,
   "metadata": {},
   "outputs": [],
   "source": [
    "r1_200_pred=pred_3r['R_1'].sort_values(by='valor_pred', ascending=False)['valor_real'].head(200)"
   ]
  },
  {
   "cell_type": "code",
   "execution_count": 331,
   "metadata": {},
   "outputs": [],
   "source": [
    "r2_200_pred=pred_3r['R_2'].sort_values(by='valor_pred', ascending=False)['valor_real'].head(200)"
   ]
  },
  {
   "cell_type": "code",
   "execution_count": 332,
   "metadata": {},
   "outputs": [],
   "source": [
    "r3_200_pred=pred_3r['R_3'].sort_values(by='valor_pred', ascending=False)['valor_real'].head(200)"
   ]
  },
  {
   "cell_type": "code",
   "execution_count": 333,
   "metadata": {},
   "outputs": [
    {
     "name": "stdout",
     "output_type": "stream",
     "text": [
      "52356    123.920559\n",
      "27658    140.631646\n",
      "78948    162.153488\n",
      "16373    116.045820\n",
      "6496     178.879516\n",
      "            ...    \n",
      "37605    144.227824\n",
      "53028    121.869044\n",
      "86613    154.989134\n",
      "45791    157.384580\n",
      "28147    143.811663\n",
      "Name: valor_real, Length: 200, dtype: float64\n"
     ]
    }
   ],
   "source": [
    "print(r1_200_pred)"
   ]
  },
  {
   "cell_type": "code",
   "execution_count": 334,
   "metadata": {},
   "outputs": [
    {
     "name": "stdout",
     "output_type": "stream",
     "text": [
      "38665    137.945408\n",
      "19483    137.945408\n",
      "24274    137.945408\n",
      "2242     137.945408\n",
      "42432    137.945408\n",
      "            ...    \n",
      "60139    137.945408\n",
      "10366    137.945408\n",
      "61326    137.945408\n",
      "42400    137.945408\n",
      "76025    137.945408\n",
      "Name: valor_real, Length: 200, dtype: float64\n"
     ]
    }
   ],
   "source": [
    "print(r2_200_pred)"
   ]
  },
  {
   "cell_type": "code",
   "execution_count": 335,
   "metadata": {},
   "outputs": [
    {
     "name": "stdout",
     "output_type": "stream",
     "text": [
      "89165     97.775979\n",
      "75079    181.617067\n",
      "82661    141.160070\n",
      "63953    174.710804\n",
      "40231     90.980193\n",
      "            ...    \n",
      "14680    167.801336\n",
      "21142    134.738129\n",
      "20733    151.822825\n",
      "61199    141.625329\n",
      "29594    151.726598\n",
      "Name: valor_real, Length: 200, dtype: float64\n"
     ]
    }
   ],
   "source": [
    "print(r3_200_pred)"
   ]
  },
  {
   "cell_type": "code",
   "execution_count": 336,
   "metadata": {},
   "outputs": [
    {
     "data": {
      "text/plain": [
       "29365.580530940657"
      ]
     },
     "execution_count": 336,
     "metadata": {},
     "output_type": "execute_result"
    }
   ],
   "source": [
    "r1_sum=r1_200_pred.sum()\n",
    "r1_sum"
   ]
  },
  {
   "cell_type": "code",
   "execution_count": 337,
   "metadata": {},
   "outputs": [
    {
     "data": {
      "text/plain": [
       "27589.081548181137"
      ]
     },
     "execution_count": 337,
     "metadata": {},
     "output_type": "execute_result"
    }
   ],
   "source": [
    "r2_sum=r2_200_pred.sum()\n",
    "r2_sum"
   ]
  },
  {
   "cell_type": "code",
   "execution_count": 341,
   "metadata": {},
   "outputs": [
    {
     "data": {
      "text/plain": [
       "27457.334639849974"
      ]
     },
     "execution_count": 341,
     "metadata": {},
     "output_type": "execute_result"
    }
   ],
   "source": [
    "r3_sum=r3_200_pred.sum()\n",
    "r3_sum"
   ]
  },
  {
   "cell_type": "code",
   "execution_count": 342,
   "metadata": {},
   "outputs": [
    {
     "name": "stdout",
     "output_type": "stream",
     "text": [
      "32145112.389232963\n",
      "24150866.966815114\n",
      "23558005.879324883\n"
     ]
    }
   ],
   "source": [
    "print((r1_sum*ingreso)-inversion)\n",
    "print((r2_sum*ingreso)-inversion)\n",
    "print((r3_sum*ingreso)-inversion)"
   ]
  },
  {
   "cell_type": "markdown",
   "metadata": {},
   "source": [
    "\n",
    " <B><FONT COLOR=blue>LA REGION 1 TIENE MAYOR BENEFICIO Y RIESGO SIGNIFICATIVO PERO TAMPOCO SE PUEDE APOSTAR POR EL MENOR RIESGO, CON LA MENOR GANANCIA O EL MAYOR RIESGO CON LA MAYOR GANANCIA COMO EN LAS OTRAS 2 REGIONES SI ES QUE SE QUIERE HACER UNA INVERSION MILLONARIA </B></FONT>\n"
   ]
  },
  {
   "cell_type": "markdown",
   "metadata": {},
   "source": [
    "<H2>\tCalcula riesgos y ganancias para cada región:</H2>\n",
    "<H3>\tUtilizando las predicciones que almacenaste en el paso 4.2, emplea la técnica del bootstrapping con 1000 muestras para hallar la distribución de los beneficios.</H3>\n",
    "<H3>\tEncuentra el beneficio promedio, el intervalo de confianza del 95% y el riesgo de pérdidas. La pérdida es una ganancia negativa, calcúlala como una probabilidad y luego exprésala como un porcentaje.</H3>\n",
    "<H3>\tPresenta tus conclusiones: propón una región para el desarrollo de pozos petrolíferos y justifica tu elección. ¿Coincide tu elección con la elección anterior en el punto 4.3?</H3>\n"
   ]
  },
  {
   "cell_type": "code",
   "execution_count": 266,
   "metadata": {},
   "outputs": [],
   "source": [
    "state=np.random.RandomState(12345)"
   ]
  },
  {
   "cell_type": "code",
   "execution_count": 347,
   "metadata": {},
   "outputs": [],
   "source": [
    "def bootstr(datos, n_muestras=1000):\n",
    "    beneficio_muestra =[]\n",
    "    \n",
    "    for i in range(n_muestras):\n",
    "        sample=datos.sample(n=500, replace= True, random_state=state)\n",
    "        beneficio_muestra.append(margen(sample))\n",
    "    \n",
    "    beneficio =pd.Series(beneficio_muestra)\n",
    "    return beneficio\n",
    "        "
   ]
  },
  {
   "cell_type": "code",
   "execution_count": 348,
   "metadata": {},
   "outputs": [
    {
     "data": {
      "text/plain": [
       "0      5.617523e+06\n",
       "1      5.426940e+06\n",
       "2      7.346744e+06\n",
       "3      5.505287e+06\n",
       "4      3.164555e+06\n",
       "           ...     \n",
       "995    2.747677e+06\n",
       "996    6.675029e+06\n",
       "997    4.829204e+06\n",
       "998    8.986735e+06\n",
       "999    8.668642e+05\n",
       "Length: 1000, dtype: float64"
      ]
     },
     "execution_count": 348,
     "metadata": {},
     "output_type": "execute_result"
    }
   ],
   "source": [
    "bootstr(pred_3r['R_1'])"
   ]
  },
  {
   "cell_type": "code",
   "execution_count": 349,
   "metadata": {},
   "outputs": [
    {
     "data": {
      "text/plain": [
       "0      3.093113e+06\n",
       "1      3.792240e+06\n",
       "2      6.731804e+06\n",
       "3      1.309222e+06\n",
       "4      6.411475e+06\n",
       "           ...     \n",
       "995    5.262022e+06\n",
       "996    2.073658e+06\n",
       "997    5.897082e+06\n",
       "998    2.986130e+06\n",
       "999    2.807616e+06\n",
       "Length: 1000, dtype: float64"
      ]
     },
     "execution_count": 349,
     "metadata": {},
     "output_type": "execute_result"
    }
   ],
   "source": [
    "bootstr(pred_3r['R_2'])"
   ]
  },
  {
   "cell_type": "code",
   "execution_count": 350,
   "metadata": {},
   "outputs": [
    {
     "data": {
      "text/plain": [
       "0      2.333060e+06\n",
       "1      2.237519e+06\n",
       "2      5.985592e+06\n",
       "3      4.431763e+06\n",
       "4      3.768808e+06\n",
       "           ...     \n",
       "995    4.159500e+06\n",
       "996    7.169001e+05\n",
       "997    2.238029e+06\n",
       "998    1.516244e+06\n",
       "999   -1.582610e+06\n",
       "Length: 1000, dtype: float64"
      ]
     },
     "execution_count": 350,
     "metadata": {},
     "output_type": "execute_result"
    }
   ],
   "source": [
    "bootstr(pred_3r['R_3'])"
   ]
  },
  {
   "cell_type": "code",
   "execution_count": 351,
   "metadata": {},
   "outputs": [
    {
     "data": {
      "text/plain": [
       "4647414.96140543"
      ]
     },
     "execution_count": 351,
     "metadata": {},
     "output_type": "execute_result"
    }
   ],
   "source": [
    "bootstr(pred_3r['R_1']).mean()"
   ]
  },
  {
   "cell_type": "code",
   "execution_count": 352,
   "metadata": {},
   "outputs": [
    {
     "data": {
      "text/plain": [
       "4333093.251751145"
      ]
     },
     "execution_count": 352,
     "metadata": {},
     "output_type": "execute_result"
    }
   ],
   "source": [
    "bootstr(pred_3r['R_2']).mean()"
   ]
  },
  {
   "cell_type": "code",
   "execution_count": 353,
   "metadata": {},
   "outputs": [
    {
     "data": {
      "text/plain": [
       "4272541.714179905"
      ]
     },
     "execution_count": 353,
     "metadata": {},
     "output_type": "execute_result"
    }
   ],
   "source": [
    "bootstr(pred_3r['R_2']).mean()"
   ]
  },
  {
   "cell_type": "markdown",
   "metadata": {},
   "source": [
    "5.2   Encuentra el beneficio promedio, el intervalo de confianza del 95% y el riesgo de pérdidas. La pérdida es una ganancia negativa, calcúlala como una probabilidad y luego exprésala como un porcentaje"
   ]
  },
  {
   "cell_type": "code",
   "execution_count": 358,
   "metadata": {},
   "outputs": [],
   "source": [
    "def calculo_confianza(serie_beneficio, region):\n",
    "    alpha=0.05 #intevalo de confianza 95%\n",
    "    interval=st.t.interval(alpha,df=len(pred_3r[region])-1,loc=pred_3r[region].mean(),scale=st.sem(pred_3r[region]))\n",
    "    lower = serie_beneficio.quantile(0.025)#definir el intervalo inferior  al alpha \n",
    "    upper = serie_beneficio.quantile(0.95) ##definir el intervalo superior al alpha\n",
    "    boot_mean=bootstr(pred_3r[region]).mean()#calculamos el promedio del beneficio estresado\n",
    "    perdida=((boot_mean-inversion)/inversion)*100\n",
    "    #Calculamos las perdidas \n",
    "    \n",
    "    #imprimimos el intervalo de confianza \n",
    "    # imprimimos el beneficio promedio \n",
    "    #imprimimos la perdida \n",
    "    print(lower)\n",
    "    print(upper)\n",
    "    print(f\"Intervalo de confianza para la region {region} : {interval}\")\n",
    "    print(f\"beneficio promedio de la region {region}: {boot_mean}\")\n",
    "    print(f\"perdida de la region {region}: {perdida} %\")"
   ]
  },
  {
   "cell_type": "code",
   "execution_count": 359,
   "metadata": {},
   "outputs": [
    {
     "name": "stdout",
     "output_type": "stream",
     "text": [
      "12525.726839271561\n",
      "9185716.66051331\n",
      "Intervalo de confianza para la region R_1 : (array([92.53916338, 92.87316855]), array([92.55736185, 92.90833179]))\n",
      "beneficio promedio de la region R_1: 4571327.572760407\n",
      "perdida de la region R_1: -95.42867242723959 %\n"
     ]
    }
   ],
   "source": [
    "\n",
    "calculo_confianza(bootstr(pred_3r['R_1']), 'R_1')"
   ]
  },
  {
   "cell_type": "code",
   "execution_count": 360,
   "metadata": {},
   "outputs": [
    {
     "name": "stdout",
     "output_type": "stream",
     "text": [
      "-60604.686207786195\n",
      "7766902.216600524\n",
      "Intervalo de confianza para la region R_2 : (array([68.95378029, 68.93937721]), array([68.99000647, 68.97561067]))\n",
      "beneficio promedio de la region R_2: 4212434.283417354\n",
      "perdida de la region R_2: -95.78756571658265 %\n"
     ]
    }
   ],
   "source": [
    "calculo_confianza(bootstr(pred_3r['R_2']), 'R_2')"
   ]
  },
  {
   "cell_type": "code",
   "execution_count": 361,
   "metadata": {},
   "outputs": [
    {
     "name": "stdout",
     "output_type": "stream",
     "text": [
      "-1523421.5517726634\n",
      "7807152.388320881\n",
      "Intervalo de confianza para la region R_3 : (array([95.00603321, 94.60302445]), array([95.02172974, 94.63849057]))\n",
      "beneficio promedio de la region R_3: 3459094.4235124993\n",
      "perdida de la region R_3: -96.5409055764875 %\n"
     ]
    }
   ],
   "source": [
    "calculo_confianza(bootstr(pred_3r['R_3']), 'R_3')"
   ]
  },
  {
   "cell_type": "markdown",
   "metadata": {},
   "source": [
    " <B><FONT COLOR=blue>HAY UNA PERDIDA DEL 95% EN LA INVERSION LA CUAL ES MUY RIESGOSA, PERO A COMPARACION DE LAS OTRAS REGIONES ES MEJOR YA QUE EN LAS OTRAS REGIONES SE PUEDE VER QUE HAY UNAS PERDIDAS MAS NOTABLES PERO UN BENEFICIO MENOR , EN LA REGION 1 TENEMOS UN BENEFICIO DE 4.5 MILLONES </B></FONT>"
   ]
  }
 ],
 "metadata": {
  "ExecuteTimeLog": [
   {
    "duration": 6,
    "start_time": "2024-12-24T23:26:07.447Z"
   },
   {
    "duration": 2531,
    "start_time": "2024-12-24T23:26:21.735Z"
   },
   {
    "duration": 302,
    "start_time": "2024-12-24T23:33:19.902Z"
   },
   {
    "duration": 13,
    "start_time": "2024-12-24T23:33:24.447Z"
   },
   {
    "duration": 9,
    "start_time": "2024-12-24T23:33:33.902Z"
   },
   {
    "duration": 9,
    "start_time": "2024-12-24T23:33:41.186Z"
   },
   {
    "duration": 6,
    "start_time": "2024-12-24T23:42:23.333Z"
   },
   {
    "duration": 6,
    "start_time": "2024-12-24T23:49:37.734Z"
   },
   {
    "duration": 4,
    "start_time": "2024-12-24T23:49:44.745Z"
   },
   {
    "duration": 9,
    "start_time": "2024-12-24T23:53:08.838Z"
   },
   {
    "duration": 161,
    "start_time": "2024-12-26T01:08:20.523Z"
   },
   {
    "duration": 2857,
    "start_time": "2024-12-26T01:08:23.376Z"
   },
   {
    "duration": 398,
    "start_time": "2024-12-26T01:08:26.235Z"
   },
   {
    "duration": 0,
    "start_time": "2024-12-26T01:08:26.634Z"
   },
   {
    "duration": 4,
    "start_time": "2024-12-26T01:09:23.673Z"
   },
   {
    "duration": 59,
    "start_time": "2024-12-26T01:09:25.546Z"
   },
   {
    "duration": 65,
    "start_time": "2024-12-26T01:09:36.836Z"
   },
   {
    "duration": 1062,
    "start_time": "2024-12-26T01:10:19.647Z"
   },
   {
    "duration": 544,
    "start_time": "2024-12-26T01:10:20.712Z"
   },
   {
    "duration": 3,
    "start_time": "2024-12-26T01:11:29.518Z"
   },
   {
    "duration": 61,
    "start_time": "2024-12-26T01:13:45.665Z"
   },
   {
    "duration": 141,
    "start_time": "2024-12-26T01:13:51.365Z"
   },
   {
    "duration": 66,
    "start_time": "2024-12-26T01:14:28.819Z"
   },
   {
    "duration": 64,
    "start_time": "2024-12-26T01:15:30.090Z"
   },
   {
    "duration": 59,
    "start_time": "2024-12-26T01:15:44.613Z"
   },
   {
    "duration": 3,
    "start_time": "2024-12-26T01:16:56.462Z"
   },
   {
    "duration": 78,
    "start_time": "2024-12-26T01:16:57.849Z"
   },
   {
    "duration": 228,
    "start_time": "2024-12-26T01:17:16.375Z"
   },
   {
    "duration": 12,
    "start_time": "2024-12-26T01:17:16.733Z"
   },
   {
    "duration": 14,
    "start_time": "2024-12-26T01:17:31.351Z"
   },
   {
    "duration": 12,
    "start_time": "2024-12-26T01:17:34.350Z"
   },
   {
    "duration": 13,
    "start_time": "2024-12-26T01:17:41.589Z"
   },
   {
    "duration": 12,
    "start_time": "2024-12-26T01:17:47.765Z"
   },
   {
    "duration": 2764,
    "start_time": "2024-12-27T22:09:23.347Z"
   },
   {
    "duration": 294,
    "start_time": "2024-12-27T22:09:26.114Z"
   },
   {
    "duration": 12,
    "start_time": "2024-12-27T22:09:26.409Z"
   },
   {
    "duration": 11,
    "start_time": "2024-12-27T22:09:26.423Z"
   },
   {
    "duration": 10,
    "start_time": "2024-12-27T22:09:26.435Z"
   },
   {
    "duration": 12,
    "start_time": "2024-12-27T22:15:25.542Z"
   },
   {
    "duration": 3,
    "start_time": "2024-12-27T22:17:05.868Z"
   },
   {
    "duration": 10,
    "start_time": "2024-12-27T22:17:11.088Z"
   },
   {
    "duration": 5,
    "start_time": "2024-12-27T22:17:46.421Z"
   },
   {
    "duration": 9,
    "start_time": "2024-12-27T22:17:52.641Z"
   },
   {
    "duration": 12,
    "start_time": "2024-12-27T22:18:02.957Z"
   },
   {
    "duration": 14,
    "start_time": "2024-12-27T22:19:06.680Z"
   },
   {
    "duration": 17,
    "start_time": "2024-12-27T22:19:23.125Z"
   },
   {
    "duration": 14,
    "start_time": "2024-12-27T22:19:31.596Z"
   },
   {
    "duration": 15,
    "start_time": "2024-12-27T22:20:08.999Z"
   },
   {
    "duration": 4,
    "start_time": "2024-12-27T22:22:31.088Z"
   },
   {
    "duration": 219,
    "start_time": "2024-12-27T22:22:31.758Z"
   },
   {
    "duration": 11,
    "start_time": "2024-12-27T22:22:32.166Z"
   },
   {
    "duration": 11,
    "start_time": "2024-12-27T22:22:32.440Z"
   },
   {
    "duration": 10,
    "start_time": "2024-12-27T22:22:32.659Z"
   },
   {
    "duration": 13,
    "start_time": "2024-12-27T22:22:33.499Z"
   },
   {
    "duration": 3,
    "start_time": "2024-12-27T22:51:11.806Z"
   },
   {
    "duration": 11,
    "start_time": "2024-12-27T23:02:21.303Z"
   },
   {
    "duration": 8,
    "start_time": "2024-12-28T01:17:43.025Z"
   },
   {
    "duration": 10,
    "start_time": "2024-12-28T01:17:50.843Z"
   },
   {
    "duration": 392,
    "start_time": "2024-12-28T01:20:29.886Z"
   },
   {
    "duration": 24,
    "start_time": "2024-12-28T01:20:35.170Z"
   },
   {
    "duration": 4,
    "start_time": "2024-12-28T01:21:26.329Z"
   },
   {
    "duration": 24,
    "start_time": "2024-12-28T01:21:30.957Z"
   },
   {
    "duration": 8,
    "start_time": "2024-12-28T01:21:35.131Z"
   },
   {
    "duration": 10,
    "start_time": "2024-12-28T01:21:39.487Z"
   },
   {
    "duration": 14,
    "start_time": "2024-12-28T01:25:15.106Z"
   },
   {
    "duration": 10,
    "start_time": "2024-12-28T01:25:16.742Z"
   },
   {
    "duration": 12,
    "start_time": "2024-12-28T01:25:21.528Z"
   },
   {
    "duration": 14,
    "start_time": "2024-12-28T01:26:03.748Z"
   },
   {
    "duration": 10,
    "start_time": "2024-12-28T01:26:19.055Z"
   },
   {
    "duration": 13,
    "start_time": "2024-12-28T01:26:34.533Z"
   },
   {
    "duration": 13,
    "start_time": "2024-12-28T01:26:35.400Z"
   },
   {
    "duration": 2717,
    "start_time": "2024-12-28T23:15:02.231Z"
   },
   {
    "duration": 289,
    "start_time": "2024-12-28T23:15:04.951Z"
   },
   {
    "duration": 12,
    "start_time": "2024-12-28T23:15:05.242Z"
   },
   {
    "duration": 10,
    "start_time": "2024-12-28T23:15:05.256Z"
   },
   {
    "duration": 11,
    "start_time": "2024-12-28T23:15:05.268Z"
   },
   {
    "duration": 15,
    "start_time": "2024-12-28T23:15:07.500Z"
   },
   {
    "duration": 32,
    "start_time": "2024-12-28T23:15:08.376Z"
   },
   {
    "duration": 5,
    "start_time": "2024-12-28T23:30:55.185Z"
   },
   {
    "duration": 3,
    "start_time": "2024-12-28T23:31:04.170Z"
   },
   {
    "duration": 15,
    "start_time": "2024-12-28T23:31:27.276Z"
   },
   {
    "duration": 5,
    "start_time": "2024-12-28T23:31:44.252Z"
   },
   {
    "duration": 6,
    "start_time": "2024-12-28T23:31:55.905Z"
   },
   {
    "duration": 11,
    "start_time": "2024-12-28T23:32:05.632Z"
   },
   {
    "duration": 4,
    "start_time": "2024-12-28T23:32:30.421Z"
   },
   {
    "duration": 3,
    "start_time": "2024-12-28T23:32:35.053Z"
   },
   {
    "duration": 6,
    "start_time": "2024-12-28T23:32:36.731Z"
   },
   {
    "duration": 8,
    "start_time": "2024-12-28T23:32:37.127Z"
   },
   {
    "duration": 277,
    "start_time": "2024-12-28T23:32:45.661Z"
   },
   {
    "duration": 14,
    "start_time": "2024-12-28T23:32:52.596Z"
   },
   {
    "duration": 13,
    "start_time": "2024-12-28T23:33:00.233Z"
   },
   {
    "duration": 3,
    "start_time": "2024-12-28T23:33:04.254Z"
   },
   {
    "duration": 6,
    "start_time": "2024-12-28T23:33:04.497Z"
   },
   {
    "duration": 12,
    "start_time": "2024-12-28T23:33:05.101Z"
   },
   {
    "duration": 10,
    "start_time": "2024-12-28T23:33:05.792Z"
   },
   {
    "duration": 8,
    "start_time": "2024-12-28T23:33:15.148Z"
   },
   {
    "duration": 4,
    "start_time": "2024-12-28T23:33:33.056Z"
   },
   {
    "duration": 217,
    "start_time": "2024-12-28T23:33:33.470Z"
   },
   {
    "duration": 11,
    "start_time": "2024-12-28T23:33:34.056Z"
   },
   {
    "duration": 12,
    "start_time": "2024-12-28T23:33:34.661Z"
   },
   {
    "duration": 15,
    "start_time": "2024-12-28T23:33:35.287Z"
   },
   {
    "duration": 13,
    "start_time": "2024-12-28T23:33:37.640Z"
   },
   {
    "duration": 9,
    "start_time": "2024-12-28T23:33:39.173Z"
   },
   {
    "duration": 3,
    "start_time": "2024-12-28T23:33:41.115Z"
   },
   {
    "duration": 4,
    "start_time": "2024-12-28T23:33:41.912Z"
   },
   {
    "duration": 8,
    "start_time": "2024-12-28T23:33:43.193Z"
   },
   {
    "duration": 9,
    "start_time": "2024-12-28T23:33:44.221Z"
   },
   {
    "duration": 8,
    "start_time": "2024-12-28T23:33:45.135Z"
   },
   {
    "duration": 4,
    "start_time": "2024-12-29T00:57:31.905Z"
   },
   {
    "duration": 4,
    "start_time": "2024-12-29T00:57:35.001Z"
   },
   {
    "duration": 17,
    "start_time": "2024-12-29T00:57:37.369Z"
   },
   {
    "duration": 19,
    "start_time": "2024-12-29T00:57:39.767Z"
   },
   {
    "duration": 15,
    "start_time": "2024-12-29T00:57:40.813Z"
   },
   {
    "duration": 3,
    "start_time": "2024-12-29T00:58:25.581Z"
   },
   {
    "duration": 5,
    "start_time": "2024-12-29T00:58:26.989Z"
   },
   {
    "duration": 15,
    "start_time": "2024-12-29T00:58:28.613Z"
   },
   {
    "duration": 15,
    "start_time": "2024-12-29T00:58:30.034Z"
   },
   {
    "duration": 17,
    "start_time": "2024-12-29T00:58:31.311Z"
   },
   {
    "duration": 4,
    "start_time": "2024-12-29T01:14:59.281Z"
   },
   {
    "duration": 219,
    "start_time": "2024-12-29T01:14:59.287Z"
   },
   {
    "duration": 11,
    "start_time": "2024-12-29T01:14:59.508Z"
   },
   {
    "duration": 10,
    "start_time": "2024-12-29T01:14:59.522Z"
   },
   {
    "duration": 10,
    "start_time": "2024-12-29T01:14:59.534Z"
   },
   {
    "duration": 11,
    "start_time": "2024-12-29T01:14:59.545Z"
   },
   {
    "duration": 51,
    "start_time": "2024-12-29T01:14:59.558Z"
   },
   {
    "duration": 5,
    "start_time": "2024-12-29T01:14:59.610Z"
   },
   {
    "duration": 7,
    "start_time": "2024-12-29T01:14:59.617Z"
   },
   {
    "duration": 89,
    "start_time": "2024-12-29T01:14:59.628Z"
   },
   {
    "duration": 17,
    "start_time": "2024-12-29T01:14:59.719Z"
   },
   {
    "duration": 18,
    "start_time": "2024-12-29T01:14:59.810Z"
   },
   {
    "duration": 4,
    "start_time": "2024-12-29T01:15:03.895Z"
   },
   {
    "duration": 211,
    "start_time": "2024-12-29T01:15:04.542Z"
   },
   {
    "duration": 11,
    "start_time": "2024-12-29T01:15:04.754Z"
   },
   {
    "duration": 11,
    "start_time": "2024-12-29T01:15:04.986Z"
   },
   {
    "duration": 11,
    "start_time": "2024-12-29T01:15:05.203Z"
   },
   {
    "duration": 12,
    "start_time": "2024-12-29T01:15:05.899Z"
   },
   {
    "duration": 11,
    "start_time": "2024-12-29T01:15:06.546Z"
   },
   {
    "duration": 4,
    "start_time": "2024-12-29T01:15:07.574Z"
   },
   {
    "duration": 4,
    "start_time": "2024-12-29T01:15:08.206Z"
   },
   {
    "duration": 16,
    "start_time": "2024-12-29T01:15:08.873Z"
   },
   {
    "duration": 20,
    "start_time": "2024-12-29T01:15:09.454Z"
   },
   {
    "duration": 16,
    "start_time": "2024-12-29T01:15:10.017Z"
   },
   {
    "duration": 3,
    "start_time": "2024-12-29T05:48:36.451Z"
   },
   {
    "duration": 4,
    "start_time": "2024-12-29T05:48:36.813Z"
   },
   {
    "duration": 17,
    "start_time": "2024-12-29T05:48:37.443Z"
   },
   {
    "duration": 18,
    "start_time": "2024-12-29T05:48:38.355Z"
   },
   {
    "duration": 16,
    "start_time": "2024-12-29T05:48:38.902Z"
   },
   {
    "duration": 2731,
    "start_time": "2025-01-01T20:26:55.026Z"
   },
   {
    "duration": 282,
    "start_time": "2025-01-01T20:26:57.759Z"
   },
   {
    "duration": 13,
    "start_time": "2025-01-01T20:26:58.043Z"
   },
   {
    "duration": 16,
    "start_time": "2025-01-01T20:26:58.058Z"
   },
   {
    "duration": 10,
    "start_time": "2025-01-01T20:26:58.076Z"
   },
   {
    "duration": 13,
    "start_time": "2025-01-01T20:27:01.292Z"
   },
   {
    "duration": 13,
    "start_time": "2025-01-01T20:27:02.556Z"
   },
   {
    "duration": 3,
    "start_time": "2025-01-01T20:27:03.787Z"
   },
   {
    "duration": 5,
    "start_time": "2025-01-01T20:27:04.674Z"
   },
   {
    "duration": 20,
    "start_time": "2025-01-01T20:27:05.242Z"
   },
   {
    "duration": 18,
    "start_time": "2025-01-01T20:27:06.151Z"
   },
   {
    "duration": 17,
    "start_time": "2025-01-01T20:27:06.700Z"
   },
   {
    "duration": 2746,
    "start_time": "2025-01-02T19:31:19.597Z"
   },
   {
    "duration": 316,
    "start_time": "2025-01-02T19:31:22.345Z"
   },
   {
    "duration": 12,
    "start_time": "2025-01-02T19:31:22.663Z"
   },
   {
    "duration": 10,
    "start_time": "2025-01-02T19:31:22.678Z"
   },
   {
    "duration": 23,
    "start_time": "2025-01-02T19:31:22.690Z"
   },
   {
    "duration": 14,
    "start_time": "2025-01-02T19:31:25.666Z"
   },
   {
    "duration": 67,
    "start_time": "2025-01-02T19:31:27.147Z"
   },
   {
    "duration": 4,
    "start_time": "2025-01-02T19:31:28.300Z"
   },
   {
    "duration": 5,
    "start_time": "2025-01-02T19:31:28.859Z"
   },
   {
    "duration": 20,
    "start_time": "2025-01-02T19:31:29.341Z"
   },
   {
    "duration": 20,
    "start_time": "2025-01-02T19:31:29.921Z"
   },
   {
    "duration": 20,
    "start_time": "2025-01-02T19:31:30.417Z"
   },
   {
    "duration": 2780,
    "start_time": "2025-01-07T04:27:50.552Z"
   },
   {
    "duration": 299,
    "start_time": "2025-01-07T04:27:53.334Z"
   },
   {
    "duration": 12,
    "start_time": "2025-01-07T04:27:53.635Z"
   },
   {
    "duration": 10,
    "start_time": "2025-01-07T04:27:53.650Z"
   },
   {
    "duration": 11,
    "start_time": "2025-01-07T04:27:53.662Z"
   },
   {
    "duration": 16,
    "start_time": "2025-01-07T04:27:55.628Z"
   },
   {
    "duration": 74,
    "start_time": "2025-01-07T04:27:56.735Z"
   },
   {
    "duration": 4,
    "start_time": "2025-01-07T04:27:58.375Z"
   },
   {
    "duration": 7,
    "start_time": "2025-01-07T04:27:59.224Z"
   },
   {
    "duration": 20,
    "start_time": "2025-01-07T04:27:59.858Z"
   },
   {
    "duration": 21,
    "start_time": "2025-01-07T04:28:00.885Z"
   },
   {
    "duration": 20,
    "start_time": "2025-01-07T04:28:01.839Z"
   },
   {
    "duration": 22,
    "start_time": "2025-01-07T05:55:07.654Z"
   },
   {
    "duration": 135,
    "start_time": "2025-01-07T06:51:36.296Z"
   },
   {
    "duration": 3,
    "start_time": "2025-01-07T07:16:25.358Z"
   },
   {
    "duration": 5,
    "start_time": "2025-01-07T07:16:26.370Z"
   },
   {
    "duration": 33,
    "start_time": "2025-01-07T07:16:27.094Z"
   },
   {
    "duration": 25,
    "start_time": "2025-01-07T07:16:29.433Z"
   },
   {
    "duration": 23,
    "start_time": "2025-01-07T07:16:30.900Z"
   },
   {
    "duration": 2,
    "start_time": "2025-01-07T07:21:14.745Z"
   },
   {
    "duration": 3,
    "start_time": "2025-01-07T07:21:40.720Z"
   },
   {
    "duration": 7,
    "start_time": "2025-01-07T07:34:59.503Z"
   },
   {
    "duration": 4,
    "start_time": "2025-01-07T07:35:12.926Z"
   },
   {
    "duration": 372,
    "start_time": "2025-01-07T07:35:37.738Z"
   },
   {
    "duration": 3,
    "start_time": "2025-01-07T07:35:42.709Z"
   },
   {
    "duration": 3,
    "start_time": "2025-01-07T07:35:43.020Z"
   },
   {
    "duration": 54,
    "start_time": "2025-01-07T07:35:43.562Z"
   },
   {
    "duration": 4,
    "start_time": "2025-01-07T07:35:57.991Z"
   },
   {
    "duration": 7,
    "start_time": "2025-01-07T07:36:03.125Z"
   },
   {
    "duration": 57,
    "start_time": "2025-01-07T07:36:45.767Z"
   },
   {
    "duration": 5,
    "start_time": "2025-01-07T07:37:00.738Z"
   },
   {
    "duration": 5,
    "start_time": "2025-01-07T07:37:01.318Z"
   },
   {
    "duration": 23,
    "start_time": "2025-01-07T07:37:01.908Z"
   },
   {
    "duration": 22,
    "start_time": "2025-01-07T07:37:02.504Z"
   },
   {
    "duration": 25,
    "start_time": "2025-01-07T07:37:02.990Z"
   },
   {
    "duration": 2,
    "start_time": "2025-01-07T07:37:03.652Z"
   },
   {
    "duration": 3,
    "start_time": "2025-01-07T07:37:04.859Z"
   },
   {
    "duration": 49,
    "start_time": "2025-01-07T07:37:05.276Z"
   },
   {
    "duration": 8,
    "start_time": "2025-01-07T07:38:19.247Z"
   },
   {
    "duration": 8,
    "start_time": "2025-01-07T07:38:25.740Z"
   },
   {
    "duration": 9,
    "start_time": "2025-01-07T07:38:29.176Z"
   },
   {
    "duration": 5,
    "start_time": "2025-01-07T07:38:56.014Z"
   },
   {
    "duration": 8,
    "start_time": "2025-01-07T07:38:59.109Z"
   },
   {
    "duration": 8,
    "start_time": "2025-01-07T07:39:11.305Z"
   },
   {
    "duration": 8,
    "start_time": "2025-01-07T07:39:14.324Z"
   },
   {
    "duration": 5,
    "start_time": "2025-01-07T07:40:23.674Z"
   },
   {
    "duration": 7,
    "start_time": "2025-01-07T07:40:30.994Z"
   },
   {
    "duration": 5,
    "start_time": "2025-01-07T07:40:37.237Z"
   },
   {
    "duration": 5,
    "start_time": "2025-01-07T07:41:13.001Z"
   },
   {
    "duration": 2,
    "start_time": "2025-01-07T07:42:35.072Z"
   },
   {
    "duration": 3,
    "start_time": "2025-01-07T07:54:37.922Z"
   },
   {
    "duration": 3,
    "start_time": "2025-01-07T07:55:18.562Z"
   },
   {
    "duration": 3,
    "start_time": "2025-01-07T07:55:27.244Z"
   },
   {
    "duration": 15,
    "start_time": "2025-01-07T07:55:52.678Z"
   },
   {
    "duration": 2,
    "start_time": "2025-01-07T07:55:57.716Z"
   },
   {
    "duration": 2,
    "start_time": "2025-01-07T07:55:57.905Z"
   },
   {
    "duration": 4,
    "start_time": "2025-01-07T07:55:58.567Z"
   },
   {
    "duration": 2,
    "start_time": "2025-01-07T07:56:12.653Z"
   },
   {
    "duration": 5,
    "start_time": "2025-01-07T07:56:20.897Z"
   },
   {
    "duration": 3,
    "start_time": "2025-01-07T08:03:48.967Z"
   },
   {
    "duration": 3,
    "start_time": "2025-01-07T08:03:49.278Z"
   },
   {
    "duration": 4,
    "start_time": "2025-01-07T08:03:49.900Z"
   },
   {
    "duration": 3,
    "start_time": "2025-01-07T08:03:50.928Z"
   },
   {
    "duration": 4,
    "start_time": "2025-01-07T08:03:51.610Z"
   },
   {
    "duration": 6,
    "start_time": "2025-01-07T08:14:14.082Z"
   },
   {
    "duration": 12,
    "start_time": "2025-01-07T08:14:17.410Z"
   },
   {
    "duration": 5,
    "start_time": "2025-01-07T08:14:56.567Z"
   },
   {
    "duration": 5,
    "start_time": "2025-01-07T08:15:05.050Z"
   },
   {
    "duration": 5,
    "start_time": "2025-01-07T08:15:08.990Z"
   },
   {
    "duration": 23,
    "start_time": "2025-01-07T08:15:09.828Z"
   },
   {
    "duration": 25,
    "start_time": "2025-01-07T08:15:17.901Z"
   },
   {
    "duration": 23,
    "start_time": "2025-01-07T08:15:25.850Z"
   },
   {
    "duration": 3,
    "start_time": "2025-01-07T08:15:34.624Z"
   },
   {
    "duration": 3,
    "start_time": "2025-01-07T08:15:34.900Z"
   },
   {
    "duration": 47,
    "start_time": "2025-01-07T08:15:35.573Z"
   },
   {
    "duration": 6,
    "start_time": "2025-01-07T08:15:36.358Z"
   },
   {
    "duration": 5,
    "start_time": "2025-01-07T08:15:37.819Z"
   },
   {
    "duration": 5,
    "start_time": "2025-01-07T08:15:39.443Z"
   },
   {
    "duration": 7,
    "start_time": "2025-01-07T08:16:01.936Z"
   },
   {
    "duration": 3215,
    "start_time": "2025-01-07T23:37:51.512Z"
   },
   {
    "duration": 345,
    "start_time": "2025-01-07T23:37:54.729Z"
   },
   {
    "duration": 13,
    "start_time": "2025-01-07T23:37:55.076Z"
   },
   {
    "duration": 17,
    "start_time": "2025-01-07T23:37:55.091Z"
   },
   {
    "duration": 12,
    "start_time": "2025-01-07T23:37:55.111Z"
   },
   {
    "duration": 13,
    "start_time": "2025-01-07T23:37:55.125Z"
   },
   {
    "duration": 17,
    "start_time": "2025-01-07T23:37:55.633Z"
   },
   {
    "duration": 4,
    "start_time": "2025-01-07T23:37:57.215Z"
   },
   {
    "duration": 5,
    "start_time": "2025-01-07T23:37:57.733Z"
   },
   {
    "duration": 41,
    "start_time": "2025-01-07T23:37:58.115Z"
   },
   {
    "duration": 23,
    "start_time": "2025-01-07T23:37:58.551Z"
   },
   {
    "duration": 31,
    "start_time": "2025-01-07T23:37:59.097Z"
   },
   {
    "duration": 3,
    "start_time": "2025-01-07T23:37:59.755Z"
   },
   {
    "duration": 2,
    "start_time": "2025-01-07T23:38:00.245Z"
   },
   {
    "duration": 57,
    "start_time": "2025-01-07T23:38:01.252Z"
   },
   {
    "duration": 6,
    "start_time": "2025-01-07T23:38:02.200Z"
   },
   {
    "duration": 5,
    "start_time": "2025-01-07T23:38:03.630Z"
   },
   {
    "duration": 5,
    "start_time": "2025-01-07T23:38:04.131Z"
   },
   {
    "duration": 3,
    "start_time": "2025-01-07T23:38:07.074Z"
   },
   {
    "duration": 3,
    "start_time": "2025-01-08T06:22:18.961Z"
   },
   {
    "duration": 2,
    "start_time": "2025-01-08T06:28:05.483Z"
   },
   {
    "duration": 2,
    "start_time": "2025-01-08T06:28:12.346Z"
   },
   {
    "duration": 3,
    "start_time": "2025-01-08T06:28:17.641Z"
   },
   {
    "duration": 4,
    "start_time": "2025-01-08T06:28:40.808Z"
   },
   {
    "duration": 4,
    "start_time": "2025-01-08T06:30:36.341Z"
   },
   {
    "duration": 49,
    "start_time": "2025-01-08T06:40:39.473Z"
   },
   {
    "duration": 893,
    "start_time": "2025-01-08T06:45:55.962Z"
   },
   {
    "duration": 29,
    "start_time": "2025-01-08T06:46:08.479Z"
   },
   {
    "duration": 18,
    "start_time": "2025-01-08T06:49:16.377Z"
   },
   {
    "duration": 32,
    "start_time": "2025-01-08T06:49:24.110Z"
   },
   {
    "duration": 8,
    "start_time": "2025-01-08T07:08:00.775Z"
   },
   {
    "duration": 14,
    "start_time": "2025-01-08T07:08:10.529Z"
   },
   {
    "duration": 8,
    "start_time": "2025-01-08T07:08:26.878Z"
   },
   {
    "duration": 6,
    "start_time": "2025-01-08T07:12:06.598Z"
   },
   {
    "duration": 6,
    "start_time": "2025-01-08T07:12:08.366Z"
   },
   {
    "duration": 21,
    "start_time": "2025-01-08T07:12:08.904Z"
   },
   {
    "duration": 20,
    "start_time": "2025-01-08T07:12:09.868Z"
   },
   {
    "duration": 24,
    "start_time": "2025-01-08T07:12:10.604Z"
   },
   {
    "duration": 2,
    "start_time": "2025-01-08T07:12:38.319Z"
   },
   {
    "duration": 2,
    "start_time": "2025-01-08T07:12:42.228Z"
   },
   {
    "duration": 3,
    "start_time": "2025-01-08T07:12:44.524Z"
   },
   {
    "duration": 2,
    "start_time": "2025-01-08T07:12:48.640Z"
   },
   {
    "duration": 21,
    "start_time": "2025-01-08T07:19:13.660Z"
   },
   {
    "duration": 27,
    "start_time": "2025-01-08T07:19:26.399Z"
   },
   {
    "duration": 60,
    "start_time": "2025-01-08T07:19:37.379Z"
   },
   {
    "duration": 37,
    "start_time": "2025-01-08T07:19:52.005Z"
   },
   {
    "duration": 34,
    "start_time": "2025-01-08T07:19:58.723Z"
   },
   {
    "duration": 4,
    "start_time": "2025-01-08T07:20:42.633Z"
   },
   {
    "duration": 7,
    "start_time": "2025-01-08T07:20:44.411Z"
   },
   {
    "duration": 23,
    "start_time": "2025-01-08T07:20:45.441Z"
   },
   {
    "duration": 39,
    "start_time": "2025-01-08T07:20:53.691Z"
   },
   {
    "duration": 29,
    "start_time": "2025-01-08T07:21:05.794Z"
   },
   {
    "duration": 22,
    "start_time": "2025-01-08T07:21:09.337Z"
   },
   {
    "duration": 21,
    "start_time": "2025-01-08T07:21:12.426Z"
   },
   {
    "duration": 3,
    "start_time": "2025-01-08T07:21:27.888Z"
   },
   {
    "duration": 3,
    "start_time": "2025-01-08T07:21:28.627Z"
   },
   {
    "duration": 8,
    "start_time": "2025-01-08T07:21:30.002Z"
   },
   {
    "duration": 19,
    "start_time": "2025-01-08T07:21:31.124Z"
   },
   {
    "duration": 18,
    "start_time": "2025-01-08T07:21:35.127Z"
   },
   {
    "duration": 21,
    "start_time": "2025-01-08T07:21:37.450Z"
   },
   {
    "duration": 19,
    "start_time": "2025-01-08T07:21:44.709Z"
   },
   {
    "duration": 4,
    "start_time": "2025-01-08T07:22:00.932Z"
   },
   {
    "duration": 4,
    "start_time": "2025-01-08T07:22:01.659Z"
   },
   {
    "duration": 34,
    "start_time": "2025-01-08T07:22:02.787Z"
   },
   {
    "duration": 41,
    "start_time": "2025-01-08T07:22:06.187Z"
   },
   {
    "duration": 21,
    "start_time": "2025-01-08T07:22:27.530Z"
   },
   {
    "duration": 20,
    "start_time": "2025-01-08T07:22:28.613Z"
   },
   {
    "duration": 21,
    "start_time": "2025-01-08T07:22:31.338Z"
   },
   {
    "duration": 39,
    "start_time": "2025-01-08T07:23:18.297Z"
   },
   {
    "duration": 20,
    "start_time": "2025-01-08T07:23:28.635Z"
   },
   {
    "duration": 20,
    "start_time": "2025-01-08T07:23:34.757Z"
   },
   {
    "duration": 21,
    "start_time": "2025-01-08T07:23:49.716Z"
   },
   {
    "duration": 21,
    "start_time": "2025-01-08T07:23:58.316Z"
   },
   {
    "duration": 21,
    "start_time": "2025-01-08T07:24:02.426Z"
   },
   {
    "duration": 25,
    "start_time": "2025-01-08T07:24:05.132Z"
   },
   {
    "duration": 19,
    "start_time": "2025-01-08T07:25:33.320Z"
   },
   {
    "duration": 4,
    "start_time": "2025-01-08T07:25:45.089Z"
   },
   {
    "duration": 226,
    "start_time": "2025-01-08T07:26:07.481Z"
   },
   {
    "duration": 74,
    "start_time": "2025-01-08T07:26:21.037Z"
   },
   {
    "duration": 4,
    "start_time": "2025-01-08T07:26:34.870Z"
   },
   {
    "duration": 3,
    "start_time": "2025-01-08T07:27:00.135Z"
   },
   {
    "duration": 4,
    "start_time": "2025-01-08T07:27:37.157Z"
   },
   {
    "duration": 3,
    "start_time": "2025-01-08T07:28:48.036Z"
   },
   {
    "duration": 3,
    "start_time": "2025-01-08T07:29:14.845Z"
   },
   {
    "duration": 3,
    "start_time": "2025-01-08T07:29:48.073Z"
   },
   {
    "duration": 82,
    "start_time": "2025-01-08T07:29:48.440Z"
   },
   {
    "duration": 3,
    "start_time": "2025-01-08T07:29:49.275Z"
   },
   {
    "duration": 3,
    "start_time": "2025-01-08T07:29:49.839Z"
   },
   {
    "duration": 2,
    "start_time": "2025-01-08T07:32:52.444Z"
   },
   {
    "duration": 2,
    "start_time": "2025-01-08T07:32:52.926Z"
   },
   {
    "duration": 125,
    "start_time": "2025-01-08T07:32:53.469Z"
   },
   {
    "duration": 3,
    "start_time": "2025-01-08T07:32:57.553Z"
   },
   {
    "duration": 3,
    "start_time": "2025-01-08T07:32:58.374Z"
   },
   {
    "duration": 3,
    "start_time": "2025-01-08T07:32:59.166Z"
   },
   {
    "duration": 4,
    "start_time": "2025-01-08T07:33:34.680Z"
   },
   {
    "duration": 9,
    "start_time": "2025-01-08T07:33:35.887Z"
   },
   {
    "duration": 20,
    "start_time": "2025-01-08T07:33:36.568Z"
   },
   {
    "duration": 34,
    "start_time": "2025-01-08T07:33:37.973Z"
   },
   {
    "duration": 23,
    "start_time": "2025-01-08T07:33:38.734Z"
   },
   {
    "duration": 3,
    "start_time": "2025-01-08T07:33:40.422Z"
   },
   {
    "duration": 127,
    "start_time": "2025-01-08T07:33:41.764Z"
   },
   {
    "duration": 3,
    "start_time": "2025-01-08T07:33:42.573Z"
   },
   {
    "duration": 3,
    "start_time": "2025-01-08T07:33:43.232Z"
   },
   {
    "duration": 2,
    "start_time": "2025-01-08T07:33:45.185Z"
   },
   {
    "duration": 2,
    "start_time": "2025-01-08T07:33:45.968Z"
   },
   {
    "duration": 49,
    "start_time": "2025-01-08T07:33:46.540Z"
   },
   {
    "duration": 4,
    "start_time": "2025-01-08T07:33:49.209Z"
   },
   {
    "duration": 3,
    "start_time": "2025-01-08T07:33:49.844Z"
   },
   {
    "duration": 3,
    "start_time": "2025-01-08T07:33:50.067Z"
   },
   {
    "duration": 4,
    "start_time": "2025-01-08T07:34:40.684Z"
   },
   {
    "duration": 4,
    "start_time": "2025-01-08T07:34:41.483Z"
   },
   {
    "duration": 21,
    "start_time": "2025-01-08T07:34:42.459Z"
   },
   {
    "duration": 23,
    "start_time": "2025-01-08T07:34:47.540Z"
   },
   {
    "duration": 21,
    "start_time": "2025-01-08T07:34:48.036Z"
   },
   {
    "duration": 3,
    "start_time": "2025-01-08T07:34:51.258Z"
   },
   {
    "duration": 127,
    "start_time": "2025-01-08T07:34:51.878Z"
   },
   {
    "duration": 3,
    "start_time": "2025-01-08T07:34:52.931Z"
   },
   {
    "duration": 5,
    "start_time": "2025-01-08T07:34:56.799Z"
   },
   {
    "duration": 3,
    "start_time": "2025-01-08T07:35:00.253Z"
   },
   {
    "duration": 3,
    "start_time": "2025-01-08T07:35:01.205Z"
   },
   {
    "duration": 74,
    "start_time": "2025-01-08T07:35:03.327Z"
   },
   {
    "duration": 5,
    "start_time": "2025-01-08T07:35:04.300Z"
   },
   {
    "duration": 50,
    "start_time": "2025-01-08T07:35:32.875Z"
   },
   {
    "duration": 2,
    "start_time": "2025-01-08T07:35:50.270Z"
   },
   {
    "duration": 2,
    "start_time": "2025-01-08T07:35:50.559Z"
   },
   {
    "duration": 59,
    "start_time": "2025-01-08T07:35:51.072Z"
   },
   {
    "duration": 112,
    "start_time": "2025-01-08T07:36:29.976Z"
   },
   {
    "duration": 5,
    "start_time": "2025-01-08T07:36:34.638Z"
   },
   {
    "duration": 62,
    "start_time": "2025-01-08T07:36:47.971Z"
   },
   {
    "duration": 5,
    "start_time": "2025-01-08T07:36:50.015Z"
   },
   {
    "duration": 5,
    "start_time": "2025-01-08T07:36:52.645Z"
   },
   {
    "duration": 4,
    "start_time": "2025-01-08T07:36:53.015Z"
   },
   {
    "duration": 5,
    "start_time": "2025-01-08T07:37:25.987Z"
   },
   {
    "duration": 5,
    "start_time": "2025-01-08T07:37:33.437Z"
   },
   {
    "duration": 5,
    "start_time": "2025-01-08T07:37:54.657Z"
   },
   {
    "duration": 4,
    "start_time": "2025-01-08T07:37:55.381Z"
   },
   {
    "duration": 19,
    "start_time": "2025-01-08T07:37:55.625Z"
   },
   {
    "duration": 28,
    "start_time": "2025-01-08T07:37:55.795Z"
   },
   {
    "duration": 19,
    "start_time": "2025-01-08T07:37:56.005Z"
   },
   {
    "duration": 2,
    "start_time": "2025-01-08T07:37:57.016Z"
   },
   {
    "duration": 90,
    "start_time": "2025-01-08T07:37:57.507Z"
   },
   {
    "duration": 3,
    "start_time": "2025-01-08T07:37:58.060Z"
   },
   {
    "duration": 4,
    "start_time": "2025-01-08T07:37:58.608Z"
   },
   {
    "duration": 20,
    "start_time": "2025-01-08T07:38:00.552Z"
   },
   {
    "duration": 2,
    "start_time": "2025-01-08T07:38:02.276Z"
   },
   {
    "duration": 3,
    "start_time": "2025-01-08T07:38:03.155Z"
   },
   {
    "duration": 94,
    "start_time": "2025-01-08T07:38:03.704Z"
   },
   {
    "duration": 5,
    "start_time": "2025-01-08T07:38:04.655Z"
   },
   {
    "duration": 5,
    "start_time": "2025-01-08T07:38:05.760Z"
   },
   {
    "duration": 5,
    "start_time": "2025-01-08T07:38:06.618Z"
   },
   {
    "duration": 194,
    "start_time": "2025-01-10T05:08:30.680Z"
   },
   {
    "duration": 2789,
    "start_time": "2025-01-10T05:08:39.294Z"
   },
   {
    "duration": 337,
    "start_time": "2025-01-10T05:08:42.086Z"
   },
   {
    "duration": 12,
    "start_time": "2025-01-10T05:08:42.425Z"
   },
   {
    "duration": 10,
    "start_time": "2025-01-10T05:08:42.440Z"
   },
   {
    "duration": 28,
    "start_time": "2025-01-10T05:08:42.452Z"
   },
   {
    "duration": 14,
    "start_time": "2025-01-10T05:08:44.066Z"
   },
   {
    "duration": 29,
    "start_time": "2025-01-10T05:08:50.457Z"
   },
   {
    "duration": 3,
    "start_time": "2025-01-10T05:08:53.799Z"
   },
   {
    "duration": 4,
    "start_time": "2025-01-10T05:09:17.634Z"
   },
   {
    "duration": 6,
    "start_time": "2025-01-10T05:09:18.472Z"
   },
   {
    "duration": 28,
    "start_time": "2025-01-10T05:09:18.920Z"
   },
   {
    "duration": 23,
    "start_time": "2025-01-10T05:09:19.354Z"
   },
   {
    "duration": 27,
    "start_time": "2025-01-10T05:09:19.983Z"
   },
   {
    "duration": 3,
    "start_time": "2025-01-10T05:09:22.097Z"
   },
   {
    "duration": 88,
    "start_time": "2025-01-10T05:09:22.595Z"
   },
   {
    "duration": 3,
    "start_time": "2025-01-10T05:09:23.324Z"
   },
   {
    "duration": 3,
    "start_time": "2025-01-10T05:09:24.011Z"
   },
   {
    "duration": 3,
    "start_time": "2025-01-10T05:09:26.097Z"
   },
   {
    "duration": 3,
    "start_time": "2025-01-10T05:09:26.930Z"
   },
   {
    "duration": 50,
    "start_time": "2025-01-10T05:09:27.526Z"
   },
   {
    "duration": 6,
    "start_time": "2025-01-10T05:09:28.294Z"
   },
   {
    "duration": 5,
    "start_time": "2025-01-10T05:10:12.182Z"
   },
   {
    "duration": 7,
    "start_time": "2025-01-10T05:10:12.798Z"
   },
   {
    "duration": 3,
    "start_time": "2025-01-10T05:13:15.043Z"
   },
   {
    "duration": 146,
    "start_time": "2025-01-10T05:13:18.730Z"
   },
   {
    "duration": 3,
    "start_time": "2025-01-10T05:14:19.062Z"
   },
   {
    "duration": 3,
    "start_time": "2025-01-10T05:14:19.684Z"
   },
   {
    "duration": 4,
    "start_time": "2025-01-10T05:14:55.112Z"
   },
   {
    "duration": 3,
    "start_time": "2025-01-10T05:14:55.446Z"
   },
   {
    "duration": 50,
    "start_time": "2025-01-10T05:14:55.933Z"
   },
   {
    "duration": 21,
    "start_time": "2025-01-10T05:18:54.407Z"
   },
   {
    "duration": 5,
    "start_time": "2025-01-10T05:20:32.400Z"
   },
   {
    "duration": 272,
    "start_time": "2025-01-10T05:20:34.049Z"
   },
   {
    "duration": 13,
    "start_time": "2025-01-10T05:21:29.999Z"
   },
   {
    "duration": 13,
    "start_time": "2025-01-10T05:21:30.667Z"
   },
   {
    "duration": 14,
    "start_time": "2025-01-10T05:21:31.544Z"
   },
   {
    "duration": 13,
    "start_time": "2025-01-10T05:24:12.304Z"
   },
   {
    "duration": 10,
    "start_time": "2025-01-10T05:24:38.994Z"
   },
   {
    "duration": 3,
    "start_time": "2025-01-10T05:24:52.417Z"
   },
   {
    "duration": 4,
    "start_time": "2025-01-10T05:24:53.275Z"
   },
   {
    "duration": 6,
    "start_time": "2025-01-10T05:24:53.907Z"
   },
   {
    "duration": 31,
    "start_time": "2025-01-10T05:24:54.544Z"
   },
   {
    "duration": 26,
    "start_time": "2025-01-10T05:24:55.255Z"
   },
   {
    "duration": 25,
    "start_time": "2025-01-10T05:24:56.206Z"
   },
   {
    "duration": 3,
    "start_time": "2025-01-10T05:36:16.842Z"
   },
   {
    "duration": 3,
    "start_time": "2025-01-10T06:05:56.063Z"
   },
   {
    "duration": 4,
    "start_time": "2025-01-10T06:05:56.662Z"
   },
   {
    "duration": 5,
    "start_time": "2025-01-10T06:05:57.917Z"
   },
   {
    "duration": 20,
    "start_time": "2025-01-10T06:05:59.327Z"
   },
   {
    "duration": 24,
    "start_time": "2025-01-10T06:06:00.587Z"
   },
   {
    "duration": 31,
    "start_time": "2025-01-10T06:06:01.478Z"
   },
   {
    "duration": 3,
    "start_time": "2025-01-10T06:10:50.594Z"
   },
   {
    "duration": 5,
    "start_time": "2025-01-10T06:10:50.814Z"
   },
   {
    "duration": 6,
    "start_time": "2025-01-10T06:10:51.035Z"
   },
   {
    "duration": 19,
    "start_time": "2025-01-10T06:10:51.356Z"
   },
   {
    "duration": 5,
    "start_time": "2025-01-10T06:14:15.256Z"
   },
   {
    "duration": 4,
    "start_time": "2025-01-10T06:14:15.796Z"
   },
   {
    "duration": 53,
    "start_time": "2025-01-10T06:14:16.325Z"
   },
   {
    "duration": 20,
    "start_time": "2025-01-10T06:14:16.782Z"
   },
   {
    "duration": 31,
    "start_time": "2025-01-10T06:14:17.442Z"
   },
   {
    "duration": 159,
    "start_time": "2025-01-10T06:15:35.411Z"
   },
   {
    "duration": 8,
    "start_time": "2025-01-10T06:16:05.674Z"
   },
   {
    "duration": 6,
    "start_time": "2025-01-10T06:17:41.656Z"
   },
   {
    "duration": 6,
    "start_time": "2025-01-10T06:17:57.712Z"
   },
   {
    "duration": 5,
    "start_time": "2025-01-10T06:18:01.408Z"
   },
   {
    "duration": 4,
    "start_time": "2025-01-10T06:18:01.824Z"
   },
   {
    "duration": 22,
    "start_time": "2025-01-10T06:18:02.541Z"
   },
   {
    "duration": 24,
    "start_time": "2025-01-10T06:18:03.044Z"
   },
   {
    "duration": 24,
    "start_time": "2025-01-10T06:18:03.259Z"
   },
   {
    "duration": 2,
    "start_time": "2025-01-10T06:18:05.462Z"
   },
   {
    "duration": 4,
    "start_time": "2025-01-10T06:18:06.229Z"
   },
   {
    "duration": 146,
    "start_time": "2025-01-10T06:18:07.723Z"
   },
   {
    "duration": 3,
    "start_time": "2025-01-10T06:18:09.617Z"
   },
   {
    "duration": 3,
    "start_time": "2025-01-10T06:18:52.737Z"
   },
   {
    "duration": 3,
    "start_time": "2025-01-10T06:18:59.309Z"
   },
   {
    "duration": 97,
    "start_time": "2025-01-10T06:19:47.935Z"
   },
   {
    "duration": 4,
    "start_time": "2025-01-10T06:19:54.848Z"
   },
   {
    "duration": 3,
    "start_time": "2025-01-10T06:20:55.068Z"
   },
   {
    "duration": 16,
    "start_time": "2025-01-10T06:27:55.421Z"
   },
   {
    "duration": 8,
    "start_time": "2025-01-10T06:28:39.208Z"
   },
   {
    "duration": 8,
    "start_time": "2025-01-10T06:28:47.423Z"
   },
   {
    "duration": 9,
    "start_time": "2025-01-10T06:28:55.135Z"
   },
   {
    "duration": 9,
    "start_time": "2025-01-10T06:29:32.690Z"
   },
   {
    "duration": 9,
    "start_time": "2025-01-10T06:29:34.905Z"
   },
   {
    "duration": 2890,
    "start_time": "2025-01-13T20:58:20.099Z"
   },
   {
    "duration": 306,
    "start_time": "2025-01-13T20:58:22.992Z"
   },
   {
    "duration": 13,
    "start_time": "2025-01-13T20:58:23.301Z"
   },
   {
    "duration": 15,
    "start_time": "2025-01-13T20:58:23.317Z"
   },
   {
    "duration": 12,
    "start_time": "2025-01-13T20:58:23.334Z"
   },
   {
    "duration": 16,
    "start_time": "2025-01-13T20:58:23.348Z"
   },
   {
    "duration": 63,
    "start_time": "2025-01-13T20:58:23.366Z"
   },
   {
    "duration": 3,
    "start_time": "2025-01-13T20:58:23.431Z"
   },
   {
    "duration": 7,
    "start_time": "2025-01-13T20:58:23.435Z"
   },
   {
    "duration": 80,
    "start_time": "2025-01-13T20:58:23.445Z"
   },
   {
    "duration": 29,
    "start_time": "2025-01-13T20:58:23.527Z"
   },
   {
    "duration": 22,
    "start_time": "2025-01-13T20:58:23.625Z"
   },
   {
    "duration": 25,
    "start_time": "2025-01-13T20:58:23.904Z"
   },
   {
    "duration": 3,
    "start_time": "2025-01-13T20:58:25.172Z"
   },
   {
    "duration": 4,
    "start_time": "2025-01-13T20:58:25.513Z"
   },
   {
    "duration": 111,
    "start_time": "2025-01-13T20:58:33.529Z"
   },
   {
    "duration": 3,
    "start_time": "2025-01-13T20:58:33.901Z"
   },
   {
    "duration": 3,
    "start_time": "2025-01-13T20:58:34.769Z"
   },
   {
    "duration": 285,
    "start_time": "2025-01-13T21:00:21.937Z"
   },
   {
    "duration": 14,
    "start_time": "2025-01-13T21:00:22.328Z"
   },
   {
    "duration": 4,
    "start_time": "2025-01-13T21:00:31.337Z"
   },
   {
    "duration": 227,
    "start_time": "2025-01-13T21:00:31.903Z"
   },
   {
    "duration": 14,
    "start_time": "2025-01-13T21:00:32.134Z"
   },
   {
    "duration": 12,
    "start_time": "2025-01-13T21:00:32.352Z"
   },
   {
    "duration": 11,
    "start_time": "2025-01-13T21:00:32.728Z"
   },
   {
    "duration": 15,
    "start_time": "2025-01-13T21:00:34.229Z"
   },
   {
    "duration": 12,
    "start_time": "2025-01-13T21:00:35.036Z"
   },
   {
    "duration": 3,
    "start_time": "2025-01-13T21:00:36.153Z"
   },
   {
    "duration": 6,
    "start_time": "2025-01-13T21:00:36.521Z"
   },
   {
    "duration": 5,
    "start_time": "2025-01-13T21:00:36.946Z"
   },
   {
    "duration": 26,
    "start_time": "2025-01-13T21:00:37.615Z"
   },
   {
    "duration": 18,
    "start_time": "2025-01-13T21:00:38.260Z"
   },
   {
    "duration": 17,
    "start_time": "2025-01-13T21:00:38.889Z"
   },
   {
    "duration": 4,
    "start_time": "2025-01-13T21:00:40.427Z"
   },
   {
    "duration": 4,
    "start_time": "2025-01-13T21:00:41.356Z"
   },
   {
    "duration": 70,
    "start_time": "2025-01-13T21:00:43.869Z"
   },
   {
    "duration": 3,
    "start_time": "2025-01-13T21:00:44.646Z"
   },
   {
    "duration": 4,
    "start_time": "2025-01-13T21:00:45.538Z"
   },
   {
    "duration": 17,
    "start_time": "2025-01-13T21:00:47.495Z"
   },
   {
    "duration": 3,
    "start_time": "2025-01-13T21:01:46.597Z"
   },
   {
    "duration": 2,
    "start_time": "2025-01-13T21:01:47.344Z"
   },
   {
    "duration": 127,
    "start_time": "2025-01-13T21:01:47.800Z"
   },
   {
    "duration": 14,
    "start_time": "2025-01-13T21:01:48.751Z"
   },
   {
    "duration": 16,
    "start_time": "2025-01-13T21:01:52.164Z"
   },
   {
    "duration": 15,
    "start_time": "2025-01-13T21:01:52.788Z"
   },
   {
    "duration": 3,
    "start_time": "2025-01-13T21:01:57.102Z"
   },
   {
    "duration": 3,
    "start_time": "2025-01-13T21:01:57.843Z"
   },
   {
    "duration": 3,
    "start_time": "2025-01-13T21:01:58.645Z"
   },
   {
    "duration": 3,
    "start_time": "2025-01-13T22:26:09.477Z"
   },
   {
    "duration": 3,
    "start_time": "2025-01-13T22:26:09.772Z"
   },
   {
    "duration": 51,
    "start_time": "2025-01-13T22:26:10.294Z"
   },
   {
    "duration": 13,
    "start_time": "2025-01-13T22:26:15.942Z"
   },
   {
    "duration": 118,
    "start_time": "2025-01-13T22:26:28.314Z"
   },
   {
    "duration": 19,
    "start_time": "2025-01-13T22:33:52.619Z"
   },
   {
    "duration": 16,
    "start_time": "2025-01-13T22:33:58.375Z"
   },
   {
    "duration": 20,
    "start_time": "2025-01-13T22:34:04.734Z"
   },
   {
    "duration": 77,
    "start_time": "2025-01-13T22:34:13.858Z"
   },
   {
    "duration": 7,
    "start_time": "2025-01-13T22:34:14.858Z"
   },
   {
    "duration": 7,
    "start_time": "2025-01-13T22:34:15.835Z"
   },
   {
    "duration": 8,
    "start_time": "2025-01-13T22:34:16.521Z"
   },
   {
    "duration": 5,
    "start_time": "2025-01-13T22:34:17.446Z"
   },
   {
    "duration": 7,
    "start_time": "2025-01-13T22:34:18.396Z"
   },
   {
    "duration": 5,
    "start_time": "2025-01-13T22:34:19.151Z"
   },
   {
    "duration": 5,
    "start_time": "2025-01-14T07:00:34.175Z"
   },
   {
    "duration": 6,
    "start_time": "2025-01-14T07:00:35.227Z"
   },
   {
    "duration": 5,
    "start_time": "2025-01-14T07:00:44.991Z"
   },
   {
    "duration": 5,
    "start_time": "2025-01-14T07:00:57.183Z"
   },
   {
    "duration": 4,
    "start_time": "2025-01-14T07:01:13.732Z"
   },
   {
    "duration": 4,
    "start_time": "2025-01-14T07:01:36.030Z"
   },
   {
    "duration": 4,
    "start_time": "2025-01-14T07:01:36.301Z"
   },
   {
    "duration": 4,
    "start_time": "2025-01-14T07:01:37.132Z"
   },
   {
    "duration": 2648,
    "start_time": "2025-01-22T06:22:14.982Z"
   },
   {
    "duration": 4,
    "start_time": "2025-01-22T06:22:41.989Z"
   },
   {
    "duration": 325,
    "start_time": "2025-01-22T06:22:44.619Z"
   },
   {
    "duration": 13,
    "start_time": "2025-01-22T06:22:46.548Z"
   },
   {
    "duration": 11,
    "start_time": "2025-01-22T06:22:49.926Z"
   },
   {
    "duration": 11,
    "start_time": "2025-01-22T06:22:50.342Z"
   },
   {
    "duration": 59,
    "start_time": "2025-01-22T06:23:48.235Z"
   },
   {
    "duration": 8,
    "start_time": "2025-01-22T06:24:07.989Z"
   },
   {
    "duration": 9,
    "start_time": "2025-01-22T06:24:14.901Z"
   },
   {
    "duration": 34,
    "start_time": "2025-01-22T06:24:25.701Z"
   },
   {
    "duration": 223,
    "start_time": "2025-01-22T06:24:44.220Z"
   },
   {
    "duration": 12,
    "start_time": "2025-01-22T06:24:50.351Z"
   },
   {
    "duration": 34,
    "start_time": "2025-01-22T06:25:08.887Z"
   },
   {
    "duration": 41,
    "start_time": "2025-01-22T06:25:18.257Z"
   },
   {
    "duration": 43,
    "start_time": "2025-01-22T06:25:41.654Z"
   },
   {
    "duration": 41,
    "start_time": "2025-01-22T06:25:48.950Z"
   },
   {
    "duration": 41,
    "start_time": "2025-01-22T06:25:56.935Z"
   },
   {
    "duration": 42,
    "start_time": "2025-01-22T06:26:00.963Z"
   },
   {
    "duration": 48,
    "start_time": "2025-01-22T06:26:09.935Z"
   },
   {
    "duration": 33,
    "start_time": "2025-01-22T06:27:10.271Z"
   },
   {
    "duration": 43,
    "start_time": "2025-01-22T06:27:20.262Z"
   },
   {
    "duration": 13,
    "start_time": "2025-01-22T06:27:29.228Z"
   },
   {
    "duration": 12,
    "start_time": "2025-01-22T06:27:34.105Z"
   },
   {
    "duration": 12,
    "start_time": "2025-01-22T06:28:26.027Z"
   },
   {
    "duration": 15,
    "start_time": "2025-01-22T06:29:34.984Z"
   },
   {
    "duration": 34,
    "start_time": "2025-01-22T06:29:43.794Z"
   },
   {
    "duration": 33,
    "start_time": "2025-01-22T06:29:47.714Z"
   },
   {
    "duration": 31,
    "start_time": "2025-01-22T06:36:33.656Z"
   },
   {
    "duration": 34,
    "start_time": "2025-01-22T06:36:49.538Z"
   },
   {
    "duration": 13,
    "start_time": "2025-01-22T06:36:56.054Z"
   },
   {
    "duration": 12,
    "start_time": "2025-01-22T06:41:40.299Z"
   },
   {
    "duration": 3,
    "start_time": "2025-01-22T06:41:41.607Z"
   },
   {
    "duration": 4,
    "start_time": "2025-01-22T06:41:42.285Z"
   },
   {
    "duration": 5,
    "start_time": "2025-01-22T06:41:42.929Z"
   },
   {
    "duration": 21,
    "start_time": "2025-01-22T06:41:43.634Z"
   },
   {
    "duration": 19,
    "start_time": "2025-01-22T06:41:44.221Z"
   },
   {
    "duration": 18,
    "start_time": "2025-01-22T06:41:44.664Z"
   },
   {
    "duration": 2,
    "start_time": "2025-01-22T07:19:34.779Z"
   },
   {
    "duration": 624,
    "start_time": "2025-01-22T07:21:56.990Z"
   },
   {
    "duration": 589,
    "start_time": "2025-01-22T07:22:34.523Z"
   },
   {
    "duration": 557,
    "start_time": "2025-01-22T07:22:44.876Z"
   },
   {
    "duration": 341,
    "start_time": "2025-01-22T07:25:44.410Z"
   },
   {
    "duration": 309,
    "start_time": "2025-01-22T07:26:37.555Z"
   },
   {
    "duration": 315,
    "start_time": "2025-01-22T07:26:48.515Z"
   },
   {
    "duration": 12,
    "start_time": "2025-01-22T07:28:56.270Z"
   },
   {
    "duration": 11,
    "start_time": "2025-01-22T07:29:07.186Z"
   },
   {
    "duration": 10,
    "start_time": "2025-01-22T07:29:13.255Z"
   },
   {
    "duration": 307,
    "start_time": "2025-01-22T07:30:27.368Z"
   },
   {
    "duration": 319,
    "start_time": "2025-01-22T07:30:43.199Z"
   },
   {
    "duration": 423,
    "start_time": "2025-01-22T07:30:48.237Z"
   },
   {
    "duration": 317,
    "start_time": "2025-01-22T07:30:58.704Z"
   },
   {
    "duration": 327,
    "start_time": "2025-01-22T07:31:12.210Z"
   },
   {
    "duration": 306,
    "start_time": "2025-01-22T07:31:26.359Z"
   },
   {
    "duration": 315,
    "start_time": "2025-01-22T07:31:31.809Z"
   },
   {
    "duration": 319,
    "start_time": "2025-01-22T07:31:35.990Z"
   },
   {
    "duration": 314,
    "start_time": "2025-01-22T07:31:50.121Z"
   },
   {
    "duration": 312,
    "start_time": "2025-01-22T07:32:03.421Z"
   },
   {
    "duration": 316,
    "start_time": "2025-01-22T07:34:40.810Z"
   },
   {
    "duration": 308,
    "start_time": "2025-01-22T07:34:45.743Z"
   },
   {
    "duration": 299,
    "start_time": "2025-01-22T07:34:50.149Z"
   },
   {
    "duration": 316,
    "start_time": "2025-01-22T07:34:53.497Z"
   },
   {
    "duration": 319,
    "start_time": "2025-01-22T07:34:58.468Z"
   },
   {
    "duration": 338,
    "start_time": "2025-01-22T07:35:06.990Z"
   },
   {
    "duration": 309,
    "start_time": "2025-01-22T07:35:26.675Z"
   },
   {
    "duration": 2788,
    "start_time": "2025-01-22T20:45:33.041Z"
   },
   {
    "duration": 296,
    "start_time": "2025-01-22T20:45:35.831Z"
   },
   {
    "duration": 14,
    "start_time": "2025-01-22T20:45:36.129Z"
   },
   {
    "duration": 11,
    "start_time": "2025-01-22T20:45:36.146Z"
   },
   {
    "duration": 11,
    "start_time": "2025-01-22T20:45:36.159Z"
   },
   {
    "duration": 16,
    "start_time": "2025-01-22T20:45:36.171Z"
   },
   {
    "duration": 8,
    "start_time": "2025-01-22T20:45:36.189Z"
   },
   {
    "duration": 7,
    "start_time": "2025-01-22T20:45:36.199Z"
   },
   {
    "duration": 35,
    "start_time": "2025-01-22T20:45:37.022Z"
   },
   {
    "duration": 30,
    "start_time": "2025-01-22T20:45:37.719Z"
   },
   {
    "duration": 35,
    "start_time": "2025-01-22T20:45:38.176Z"
   },
   {
    "duration": 2,
    "start_time": "2025-01-22T20:45:38.758Z"
   },
   {
    "duration": 663,
    "start_time": "2025-01-22T20:45:39.494Z"
   },
   {
    "duration": 594,
    "start_time": "2025-01-22T20:45:40.160Z"
   },
   {
    "duration": 589,
    "start_time": "2025-01-22T20:45:40.756Z"
   },
   {
    "duration": 344,
    "start_time": "2025-01-22T20:45:41.347Z"
   },
   {
    "duration": 441,
    "start_time": "2025-01-22T20:45:41.693Z"
   },
   {
    "duration": 328,
    "start_time": "2025-01-22T20:45:42.137Z"
   },
   {
    "duration": 11,
    "start_time": "2025-01-22T20:45:42.467Z"
   },
   {
    "duration": 10,
    "start_time": "2025-01-22T20:45:42.480Z"
   },
   {
    "duration": 11,
    "start_time": "2025-01-22T20:45:43.217Z"
   },
   {
    "duration": 315,
    "start_time": "2025-01-22T20:45:43.795Z"
   },
   {
    "duration": 306,
    "start_time": "2025-01-22T20:45:44.403Z"
   },
   {
    "duration": 306,
    "start_time": "2025-01-22T20:45:45.428Z"
   },
   {
    "duration": 324,
    "start_time": "2025-01-22T20:45:45.893Z"
   },
   {
    "duration": 321,
    "start_time": "2025-01-22T20:45:46.356Z"
   },
   {
    "duration": 331,
    "start_time": "2025-01-22T20:45:47.002Z"
   },
   {
    "duration": 16,
    "start_time": "2025-01-22T22:12:40.935Z"
   },
   {
    "duration": 2914,
    "start_time": "2025-01-24T18:17:31.396Z"
   },
   {
    "duration": 375,
    "start_time": "2025-01-24T18:17:34.313Z"
   },
   {
    "duration": 13,
    "start_time": "2025-01-24T18:17:34.690Z"
   },
   {
    "duration": 14,
    "start_time": "2025-01-24T18:17:34.706Z"
   },
   {
    "duration": 27,
    "start_time": "2025-01-24T18:17:34.738Z"
   },
   {
    "duration": 11,
    "start_time": "2025-01-24T18:17:34.767Z"
   },
   {
    "duration": 7,
    "start_time": "2025-01-24T18:17:34.780Z"
   },
   {
    "duration": 7,
    "start_time": "2025-01-24T18:17:34.788Z"
   },
   {
    "duration": 59,
    "start_time": "2025-01-24T18:17:34.797Z"
   },
   {
    "duration": 29,
    "start_time": "2025-01-24T18:17:34.858Z"
   },
   {
    "duration": 32,
    "start_time": "2025-01-24T18:17:34.889Z"
   },
   {
    "duration": 2,
    "start_time": "2025-01-24T18:17:34.923Z"
   },
   {
    "duration": 701,
    "start_time": "2025-01-24T18:17:35.094Z"
   },
   {
    "duration": 611,
    "start_time": "2025-01-24T18:17:35.797Z"
   },
   {
    "duration": 608,
    "start_time": "2025-01-24T18:17:36.410Z"
   },
   {
    "duration": 345,
    "start_time": "2025-01-24T18:17:37.020Z"
   },
   {
    "duration": 435,
    "start_time": "2025-01-24T18:17:37.367Z"
   },
   {
    "duration": 362,
    "start_time": "2025-01-24T18:17:37.804Z"
   },
   {
    "duration": 10,
    "start_time": "2025-01-24T18:17:38.616Z"
   },
   {
    "duration": 37,
    "start_time": "2025-01-24T18:17:40.428Z"
   },
   {
    "duration": 12,
    "start_time": "2025-01-24T18:17:41.093Z"
   },
   {
    "duration": 334,
    "start_time": "2025-01-24T18:17:41.868Z"
   },
   {
    "duration": 353,
    "start_time": "2025-01-24T18:17:42.204Z"
   },
   {
    "duration": 319,
    "start_time": "2025-01-24T18:17:42.560Z"
   },
   {
    "duration": 382,
    "start_time": "2025-01-24T18:17:42.881Z"
   },
   {
    "duration": 334,
    "start_time": "2025-01-24T18:17:43.266Z"
   },
   {
    "duration": 349,
    "start_time": "2025-01-24T18:17:43.602Z"
   },
   {
    "duration": 14,
    "start_time": "2025-01-24T18:17:49.656Z"
   },
   {
    "duration": 2,
    "start_time": "2025-01-24T20:41:32.915Z"
   },
   {
    "duration": 240,
    "start_time": "2025-01-24T20:42:46.357Z"
   },
   {
    "duration": 4,
    "start_time": "2025-01-24T20:42:54.861Z"
   },
   {
    "duration": 232,
    "start_time": "2025-01-24T20:42:55.168Z"
   },
   {
    "duration": 12,
    "start_time": "2025-01-24T20:42:55.402Z"
   },
   {
    "duration": 11,
    "start_time": "2025-01-24T20:42:55.475Z"
   },
   {
    "duration": 11,
    "start_time": "2025-01-24T20:42:55.510Z"
   },
   {
    "duration": 10,
    "start_time": "2025-01-24T20:42:55.737Z"
   },
   {
    "duration": 8,
    "start_time": "2025-01-24T20:42:55.941Z"
   },
   {
    "duration": 8,
    "start_time": "2025-01-24T20:42:56.257Z"
   },
   {
    "duration": 32,
    "start_time": "2025-01-24T20:42:56.407Z"
   },
   {
    "duration": 28,
    "start_time": "2025-01-24T20:42:56.690Z"
   },
   {
    "duration": 31,
    "start_time": "2025-01-24T20:42:56.751Z"
   },
   {
    "duration": 2,
    "start_time": "2025-01-24T20:42:57.355Z"
   },
   {
    "duration": 698,
    "start_time": "2025-01-24T20:42:57.547Z"
   },
   {
    "duration": 600,
    "start_time": "2025-01-24T20:42:58.247Z"
   },
   {
    "duration": 579,
    "start_time": "2025-01-24T20:42:58.849Z"
   },
   {
    "duration": 457,
    "start_time": "2025-01-24T20:42:59.430Z"
   },
   {
    "duration": 320,
    "start_time": "2025-01-24T20:42:59.888Z"
   },
   {
    "duration": 331,
    "start_time": "2025-01-24T20:43:00.210Z"
   },
   {
    "duration": 12,
    "start_time": "2025-01-24T20:43:00.543Z"
   },
   {
    "duration": 11,
    "start_time": "2025-01-24T20:43:00.557Z"
   },
   {
    "duration": 11,
    "start_time": "2025-01-24T20:43:00.570Z"
   },
   {
    "duration": 346,
    "start_time": "2025-01-24T20:43:00.585Z"
   },
   {
    "duration": 317,
    "start_time": "2025-01-24T20:43:00.933Z"
   },
   {
    "duration": 322,
    "start_time": "2025-01-24T20:43:01.252Z"
   },
   {
    "duration": 341,
    "start_time": "2025-01-24T20:43:01.577Z"
   },
   {
    "duration": 338,
    "start_time": "2025-01-24T20:43:01.919Z"
   },
   {
    "duration": 336,
    "start_time": "2025-01-24T20:43:02.259Z"
   },
   {
    "duration": 13,
    "start_time": "2025-01-24T20:43:02.599Z"
   },
   {
    "duration": 25,
    "start_time": "2025-01-24T20:43:02.614Z"
   },
   {
    "duration": 3,
    "start_time": "2025-01-24T20:43:03.570Z"
   },
   {
    "duration": 4,
    "start_time": "2025-01-24T20:43:03.998Z"
   },
   {
    "duration": 6,
    "start_time": "2025-01-24T20:43:04.493Z"
   },
   {
    "duration": 21,
    "start_time": "2025-01-24T20:43:04.973Z"
   },
   {
    "duration": 20,
    "start_time": "2025-01-24T20:43:05.413Z"
   },
   {
    "duration": 22,
    "start_time": "2025-01-24T20:43:05.856Z"
   },
   {
    "duration": 3,
    "start_time": "2025-01-24T20:43:07.334Z"
   },
   {
    "duration": 5,
    "start_time": "2025-01-24T20:43:08.138Z"
   },
   {
    "duration": 4,
    "start_time": "2025-01-24T20:43:53.701Z"
   },
   {
    "duration": 2,
    "start_time": "2025-01-24T20:48:53.818Z"
   },
   {
    "duration": 3,
    "start_time": "2025-01-24T20:56:55.765Z"
   },
   {
    "duration": 15,
    "start_time": "2025-01-24T20:58:17.719Z"
   },
   {
    "duration": 14,
    "start_time": "2025-01-24T20:58:38.115Z"
   },
   {
    "duration": 14,
    "start_time": "2025-01-24T20:59:15.612Z"
   },
   {
    "duration": 13,
    "start_time": "2025-01-24T20:59:26.927Z"
   },
   {
    "duration": 3,
    "start_time": "2025-01-24T20:59:35.105Z"
   },
   {
    "duration": 225,
    "start_time": "2025-01-24T20:59:35.460Z"
   },
   {
    "duration": 12,
    "start_time": "2025-01-24T20:59:35.687Z"
   },
   {
    "duration": 11,
    "start_time": "2025-01-24T20:59:36.057Z"
   },
   {
    "duration": 11,
    "start_time": "2025-01-24T20:59:36.540Z"
   },
   {
    "duration": 9,
    "start_time": "2025-01-24T20:59:36.893Z"
   },
   {
    "duration": 8,
    "start_time": "2025-01-24T20:59:37.373Z"
   },
   {
    "duration": 8,
    "start_time": "2025-01-24T20:59:37.878Z"
   },
   {
    "duration": 38,
    "start_time": "2025-01-24T20:59:38.329Z"
   },
   {
    "duration": 28,
    "start_time": "2025-01-24T20:59:38.924Z"
   },
   {
    "duration": 30,
    "start_time": "2025-01-24T20:59:39.175Z"
   },
   {
    "duration": 3,
    "start_time": "2025-01-24T20:59:39.379Z"
   },
   {
    "duration": 563,
    "start_time": "2025-01-24T20:59:39.577Z"
   },
   {
    "duration": 708,
    "start_time": "2025-01-24T20:59:40.142Z"
   },
   {
    "duration": 565,
    "start_time": "2025-01-24T20:59:40.852Z"
   },
   {
    "duration": 354,
    "start_time": "2025-01-24T20:59:41.418Z"
   },
   {
    "duration": 328,
    "start_time": "2025-01-24T20:59:41.775Z"
   },
   {
    "duration": 329,
    "start_time": "2025-01-24T20:59:42.105Z"
   },
   {
    "duration": 11,
    "start_time": "2025-01-24T20:59:42.436Z"
   },
   {
    "duration": 11,
    "start_time": "2025-01-24T20:59:42.988Z"
   },
   {
    "duration": 12,
    "start_time": "2025-01-24T20:59:44.109Z"
   },
   {
    "duration": 326,
    "start_time": "2025-01-24T20:59:44.605Z"
   },
   {
    "duration": 304,
    "start_time": "2025-01-24T20:59:45.267Z"
   },
   {
    "duration": 309,
    "start_time": "2025-01-24T20:59:45.978Z"
   },
   {
    "duration": 465,
    "start_time": "2025-01-24T20:59:47.134Z"
   },
   {
    "duration": 318,
    "start_time": "2025-01-24T20:59:48.538Z"
   },
   {
    "duration": 318,
    "start_time": "2025-01-24T20:59:49.595Z"
   },
   {
    "duration": 12,
    "start_time": "2025-01-24T20:59:59.325Z"
   },
   {
    "duration": 11,
    "start_time": "2025-01-24T21:00:08.473Z"
   },
   {
    "duration": 3,
    "start_time": "2025-01-24T21:00:11.689Z"
   },
   {
    "duration": 5,
    "start_time": "2025-01-24T21:00:28.223Z"
   },
   {
    "duration": 5,
    "start_time": "2025-01-24T21:00:30.512Z"
   },
   {
    "duration": 23,
    "start_time": "2025-01-24T21:00:32.120Z"
   },
   {
    "duration": 19,
    "start_time": "2025-01-24T21:00:32.827Z"
   },
   {
    "duration": 20,
    "start_time": "2025-01-24T21:00:33.867Z"
   },
   {
    "duration": 3,
    "start_time": "2025-01-24T21:00:37.452Z"
   },
   {
    "duration": 3,
    "start_time": "2025-01-24T21:00:38.181Z"
   },
   {
    "duration": 4,
    "start_time": "2025-01-24T21:00:38.486Z"
   },
   {
    "duration": 4,
    "start_time": "2025-01-24T21:00:38.955Z"
   },
   {
    "duration": 3,
    "start_time": "2025-01-24T21:00:39.758Z"
   },
   {
    "duration": 23,
    "start_time": "2025-01-24T21:00:43.195Z"
   },
   {
    "duration": 14,
    "start_time": "2025-01-24T21:00:54.052Z"
   },
   {
    "duration": 13,
    "start_time": "2025-01-24T21:01:05.757Z"
   },
   {
    "duration": 20,
    "start_time": "2025-01-24T21:01:16.484Z"
   },
   {
    "duration": 3,
    "start_time": "2025-01-24T21:01:32.523Z"
   },
   {
    "duration": 40,
    "start_time": "2025-01-24T21:01:36.306Z"
   },
   {
    "duration": 39,
    "start_time": "2025-01-24T21:01:44.525Z"
   },
   {
    "duration": 33,
    "start_time": "2025-01-24T21:01:48.425Z"
   },
   {
    "duration": 81,
    "start_time": "2025-01-24T21:01:52.252Z"
   },
   {
    "duration": 19,
    "start_time": "2025-01-24T21:29:10.665Z"
   },
   {
    "duration": 18,
    "start_time": "2025-01-24T21:29:19.329Z"
   },
   {
    "duration": 17,
    "start_time": "2025-01-24T21:29:23.150Z"
   },
   {
    "duration": 18,
    "start_time": "2025-01-24T21:29:45.186Z"
   },
   {
    "duration": 21,
    "start_time": "2025-01-24T21:29:53.608Z"
   },
   {
    "duration": 17,
    "start_time": "2025-01-27T01:31:37.927Z"
   },
   {
    "duration": 4,
    "start_time": "2025-01-27T01:31:44.516Z"
   },
   {
    "duration": 236,
    "start_time": "2025-01-27T01:31:44.820Z"
   },
   {
    "duration": 11,
    "start_time": "2025-01-27T01:31:45.058Z"
   },
   {
    "duration": 11,
    "start_time": "2025-01-27T01:31:45.094Z"
   },
   {
    "duration": 11,
    "start_time": "2025-01-27T01:31:45.217Z"
   },
   {
    "duration": 8,
    "start_time": "2025-01-27T01:31:45.791Z"
   },
   {
    "duration": 7,
    "start_time": "2025-01-27T01:31:45.953Z"
   },
   {
    "duration": 8,
    "start_time": "2025-01-27T01:31:46.240Z"
   },
   {
    "duration": 33,
    "start_time": "2025-01-27T01:31:46.441Z"
   },
   {
    "duration": 28,
    "start_time": "2025-01-27T01:31:46.624Z"
   },
   {
    "duration": 30,
    "start_time": "2025-01-27T01:31:46.842Z"
   },
   {
    "duration": 3,
    "start_time": "2025-01-27T01:31:47.024Z"
   },
   {
    "duration": 572,
    "start_time": "2025-01-27T01:31:47.176Z"
   },
   {
    "duration": 629,
    "start_time": "2025-01-27T01:31:47.750Z"
   },
   {
    "duration": 745,
    "start_time": "2025-01-27T01:31:48.381Z"
   },
   {
    "duration": 342,
    "start_time": "2025-01-27T01:31:49.131Z"
   },
   {
    "duration": 337,
    "start_time": "2025-01-27T01:31:49.475Z"
   },
   {
    "duration": 320,
    "start_time": "2025-01-27T01:31:49.815Z"
   },
   {
    "duration": 10,
    "start_time": "2025-01-27T01:31:50.138Z"
   },
   {
    "duration": 10,
    "start_time": "2025-01-27T01:31:50.150Z"
   },
   {
    "duration": 11,
    "start_time": "2025-01-27T01:31:50.161Z"
   },
   {
    "duration": 344,
    "start_time": "2025-01-27T01:31:50.175Z"
   },
   {
    "duration": 322,
    "start_time": "2025-01-27T01:31:50.520Z"
   },
   {
    "duration": 316,
    "start_time": "2025-01-27T01:31:50.844Z"
   },
   {
    "duration": 342,
    "start_time": "2025-01-27T01:31:51.162Z"
   },
   {
    "duration": 331,
    "start_time": "2025-01-27T01:31:51.505Z"
   },
   {
    "duration": 328,
    "start_time": "2025-01-27T01:31:51.838Z"
   },
   {
    "duration": 13,
    "start_time": "2025-01-27T01:31:52.169Z"
   },
   {
    "duration": 11,
    "start_time": "2025-01-27T01:31:52.184Z"
   },
   {
    "duration": 38,
    "start_time": "2025-01-27T01:31:52.197Z"
   },
   {
    "duration": 8,
    "start_time": "2025-01-27T01:31:52.237Z"
   },
   {
    "duration": 5,
    "start_time": "2025-01-27T01:31:52.247Z"
   },
   {
    "duration": 92,
    "start_time": "2025-01-27T01:31:52.254Z"
   },
   {
    "duration": 89,
    "start_time": "2025-01-27T01:31:52.348Z"
   },
   {
    "duration": 98,
    "start_time": "2025-01-27T01:31:52.441Z"
   },
   {
    "duration": 3,
    "start_time": "2025-01-27T01:31:53.043Z"
   },
   {
    "duration": 4,
    "start_time": "2025-01-27T01:31:53.236Z"
   },
   {
    "duration": 3,
    "start_time": "2025-01-27T01:31:53.510Z"
   },
   {
    "duration": 3,
    "start_time": "2025-01-27T01:31:54.088Z"
   },
   {
    "duration": 2,
    "start_time": "2025-01-27T01:31:54.344Z"
   },
   {
    "duration": 22,
    "start_time": "2025-01-27T01:31:54.791Z"
   },
   {
    "duration": 2,
    "start_time": "2025-01-27T01:31:55.100Z"
   },
   {
    "duration": 2,
    "start_time": "2025-01-27T01:31:55.312Z"
   },
   {
    "duration": 96,
    "start_time": "2025-01-27T01:31:55.542Z"
   },
   {
    "duration": 5,
    "start_time": "2025-01-27T01:31:56.222Z"
   },
   {
    "duration": 6,
    "start_time": "2025-01-27T01:31:56.583Z"
   },
   {
    "duration": 6,
    "start_time": "2025-01-27T01:31:56.986Z"
   },
   {
    "duration": 4,
    "start_time": "2025-01-27T01:31:57.484Z"
   },
   {
    "duration": 5,
    "start_time": "2025-01-27T01:31:57.971Z"
   },
   {
    "duration": 4,
    "start_time": "2025-01-27T01:31:58.647Z"
   },
   {
    "duration": 4,
    "start_time": "2025-01-27T01:31:59.525Z"
   },
   {
    "duration": 5,
    "start_time": "2025-01-27T01:32:08.832Z"
   },
   {
    "duration": 4,
    "start_time": "2025-01-27T01:32:12.895Z"
   },
   {
    "duration": 5,
    "start_time": "2025-01-27T01:32:19.487Z"
   },
   {
    "duration": 4,
    "start_time": "2025-01-27T01:32:24.224Z"
   },
   {
    "duration": 3,
    "start_time": "2025-01-27T01:42:56.507Z"
   },
   {
    "duration": 4,
    "start_time": "2025-01-27T01:43:01.707Z"
   },
   {
    "duration": 3,
    "start_time": "2025-01-27T01:43:14.588Z"
   },
   {
    "duration": 4,
    "start_time": "2025-01-27T01:43:19.423Z"
   },
   {
    "duration": 3,
    "start_time": "2025-01-27T01:43:24.926Z"
   },
   {
    "duration": 4,
    "start_time": "2025-01-27T01:43:32.703Z"
   },
   {
    "duration": 4,
    "start_time": "2025-01-27T05:25:05.074Z"
   },
   {
    "duration": 3,
    "start_time": "2025-01-27T06:29:20.345Z"
   },
   {
    "duration": 7,
    "start_time": "2025-01-27T06:35:22.088Z"
   },
   {
    "duration": 3,
    "start_time": "2025-01-27T06:35:28.397Z"
   },
   {
    "duration": 6,
    "start_time": "2025-01-27T06:36:06.522Z"
   },
   {
    "duration": 12,
    "start_time": "2025-01-27T06:36:26.622Z"
   },
   {
    "duration": 4,
    "start_time": "2025-01-27T06:36:59.886Z"
   },
   {
    "duration": 14,
    "start_time": "2025-01-27T06:37:07.651Z"
   },
   {
    "duration": 12,
    "start_time": "2025-01-27T06:37:30.601Z"
   },
   {
    "duration": 4,
    "start_time": "2025-01-27T06:38:55.186Z"
   },
   {
    "duration": 4,
    "start_time": "2025-01-27T06:39:05.915Z"
   },
   {
    "duration": 232,
    "start_time": "2025-01-27T06:39:05.921Z"
   },
   {
    "duration": 11,
    "start_time": "2025-01-27T06:39:06.154Z"
   },
   {
    "duration": 11,
    "start_time": "2025-01-27T06:39:06.168Z"
   },
   {
    "duration": 11,
    "start_time": "2025-01-27T06:39:06.181Z"
   },
   {
    "duration": 7,
    "start_time": "2025-01-27T06:39:06.193Z"
   },
   {
    "duration": 35,
    "start_time": "2025-01-27T06:39:06.202Z"
   },
   {
    "duration": 7,
    "start_time": "2025-01-27T06:39:06.239Z"
   },
   {
    "duration": 31,
    "start_time": "2025-01-27T06:39:06.248Z"
   },
   {
    "duration": 51,
    "start_time": "2025-01-27T06:39:06.281Z"
   },
   {
    "duration": 29,
    "start_time": "2025-01-27T06:39:06.333Z"
   },
   {
    "duration": 3,
    "start_time": "2025-01-27T06:39:06.364Z"
   },
   {
    "duration": 684,
    "start_time": "2025-01-27T06:39:06.369Z"
   },
   {
    "duration": 568,
    "start_time": "2025-01-27T06:39:07.055Z"
   },
   {
    "duration": 572,
    "start_time": "2025-01-27T06:39:07.631Z"
   },
   {
    "duration": 336,
    "start_time": "2025-01-27T06:39:08.205Z"
   },
   {
    "duration": 314,
    "start_time": "2025-01-27T06:39:08.543Z"
   },
   {
    "duration": 336,
    "start_time": "2025-01-27T06:39:08.859Z"
   },
   {
    "duration": 12,
    "start_time": "2025-01-27T06:39:09.197Z"
   },
   {
    "duration": 9,
    "start_time": "2025-01-27T06:39:09.211Z"
   },
   {
    "duration": 18,
    "start_time": "2025-01-27T06:39:09.222Z"
   },
   {
    "duration": 320,
    "start_time": "2025-01-27T06:39:09.242Z"
   },
   {
    "duration": 452,
    "start_time": "2025-01-27T06:39:09.564Z"
   },
   {
    "duration": 310,
    "start_time": "2025-01-27T06:39:10.032Z"
   },
   {
    "duration": 336,
    "start_time": "2025-01-27T06:39:10.344Z"
   },
   {
    "duration": 332,
    "start_time": "2025-01-27T06:39:10.681Z"
   },
   {
    "duration": 326,
    "start_time": "2025-01-27T06:39:11.016Z"
   },
   {
    "duration": 17,
    "start_time": "2025-01-27T06:39:11.344Z"
   },
   {
    "duration": 10,
    "start_time": "2025-01-27T06:39:11.363Z"
   },
   {
    "duration": 6,
    "start_time": "2025-01-27T06:39:11.374Z"
   },
   {
    "duration": 51,
    "start_time": "2025-01-27T06:39:11.382Z"
   },
   {
    "duration": 6,
    "start_time": "2025-01-27T06:39:11.435Z"
   },
   {
    "duration": 100,
    "start_time": "2025-01-27T06:39:11.443Z"
   },
   {
    "duration": 96,
    "start_time": "2025-01-27T06:39:11.545Z"
   },
   {
    "duration": 97,
    "start_time": "2025-01-27T06:39:11.646Z"
   },
   {
    "duration": 3,
    "start_time": "2025-01-27T06:39:11.748Z"
   },
   {
    "duration": 81,
    "start_time": "2025-01-27T06:39:11.755Z"
   },
   {
    "duration": 4,
    "start_time": "2025-01-27T06:39:11.837Z"
   },
   {
    "duration": 3,
    "start_time": "2025-01-27T06:39:11.842Z"
   },
   {
    "duration": 2,
    "start_time": "2025-01-27T06:39:11.847Z"
   },
   {
    "duration": 23,
    "start_time": "2025-01-27T06:39:11.850Z"
   },
   {
    "duration": 4,
    "start_time": "2025-01-27T06:39:11.930Z"
   },
   {
    "duration": 3,
    "start_time": "2025-01-27T06:39:11.935Z"
   },
   {
    "duration": 206,
    "start_time": "2025-01-27T06:39:11.939Z"
   },
   {
    "duration": 81,
    "start_time": "2025-01-27T06:39:12.150Z"
   },
   {
    "duration": 8,
    "start_time": "2025-01-27T06:39:12.233Z"
   },
   {
    "duration": 5,
    "start_time": "2025-01-27T06:39:12.242Z"
   },
   {
    "duration": 4,
    "start_time": "2025-01-27T06:39:12.249Z"
   },
   {
    "duration": 4,
    "start_time": "2025-01-27T06:39:12.254Z"
   },
   {
    "duration": 4,
    "start_time": "2025-01-27T06:39:12.260Z"
   },
   {
    "duration": 4,
    "start_time": "2025-01-27T06:39:12.266Z"
   },
   {
    "duration": 4,
    "start_time": "2025-01-27T06:39:12.272Z"
   },
   {
    "duration": 56,
    "start_time": "2025-01-27T06:39:12.277Z"
   },
   {
    "duration": 3,
    "start_time": "2025-01-27T06:39:12.335Z"
   },
   {
    "duration": 3,
    "start_time": "2025-01-27T06:39:12.339Z"
   },
   {
    "duration": 11,
    "start_time": "2025-01-27T06:39:12.344Z"
   },
   {
    "duration": 5,
    "start_time": "2025-01-27T06:45:37.989Z"
   },
   {
    "duration": 3,
    "start_time": "2025-01-27T06:45:43.778Z"
   },
   {
    "duration": 440,
    "start_time": "2025-01-27T06:46:14.095Z"
   },
   {
    "duration": 2749,
    "start_time": "2025-01-27T22:13:12.031Z"
   },
   {
    "duration": 297,
    "start_time": "2025-01-27T22:13:14.782Z"
   },
   {
    "duration": 15,
    "start_time": "2025-01-27T22:13:15.081Z"
   },
   {
    "duration": 12,
    "start_time": "2025-01-27T22:13:15.099Z"
   },
   {
    "duration": 11,
    "start_time": "2025-01-27T22:13:15.112Z"
   },
   {
    "duration": 19,
    "start_time": "2025-01-27T22:13:15.125Z"
   },
   {
    "duration": 7,
    "start_time": "2025-01-27T22:13:15.146Z"
   },
   {
    "duration": 8,
    "start_time": "2025-01-27T22:13:15.155Z"
   },
   {
    "duration": 58,
    "start_time": "2025-01-27T22:13:15.165Z"
   },
   {
    "duration": 29,
    "start_time": "2025-01-27T22:13:15.227Z"
   },
   {
    "duration": 48,
    "start_time": "2025-01-27T22:13:15.258Z"
   },
   {
    "duration": 2,
    "start_time": "2025-01-27T22:13:15.308Z"
   },
   {
    "duration": 628,
    "start_time": "2025-01-27T22:13:15.312Z"
   },
   {
    "duration": 583,
    "start_time": "2025-01-27T22:13:15.942Z"
   },
   {
    "duration": 565,
    "start_time": "2025-01-27T22:13:16.527Z"
   },
   {
    "duration": 351,
    "start_time": "2025-01-27T22:13:17.094Z"
   },
   {
    "duration": 314,
    "start_time": "2025-01-27T22:13:17.446Z"
   },
   {
    "duration": 406,
    "start_time": "2025-01-27T22:13:17.761Z"
   },
   {
    "duration": 12,
    "start_time": "2025-01-27T22:13:18.169Z"
   },
   {
    "duration": 28,
    "start_time": "2025-01-27T22:13:18.184Z"
   },
   {
    "duration": 11,
    "start_time": "2025-01-27T22:13:18.215Z"
   },
   {
    "duration": 468,
    "start_time": "2025-01-27T22:13:18.228Z"
   },
   {
    "duration": 328,
    "start_time": "2025-01-27T22:13:18.697Z"
   },
   {
    "duration": 319,
    "start_time": "2025-01-27T22:13:19.027Z"
   },
   {
    "duration": 333,
    "start_time": "2025-01-27T22:13:19.348Z"
   },
   {
    "duration": 332,
    "start_time": "2025-01-27T22:13:19.683Z"
   },
   {
    "duration": 330,
    "start_time": "2025-01-27T22:13:20.017Z"
   },
   {
    "duration": 15,
    "start_time": "2025-01-27T22:13:20.348Z"
   },
   {
    "duration": 43,
    "start_time": "2025-01-27T22:13:20.365Z"
   },
   {
    "duration": 3,
    "start_time": "2025-01-27T22:13:20.409Z"
   },
   {
    "duration": 5,
    "start_time": "2025-01-27T22:13:20.414Z"
   },
   {
    "duration": 9,
    "start_time": "2025-01-27T22:13:20.423Z"
   },
   {
    "duration": 26,
    "start_time": "2025-01-27T22:13:20.506Z"
   },
   {
    "duration": 80,
    "start_time": "2025-01-27T22:13:20.534Z"
   },
   {
    "duration": 95,
    "start_time": "2025-01-27T22:13:20.616Z"
   },
   {
    "duration": 3,
    "start_time": "2025-01-27T22:13:20.713Z"
   },
   {
    "duration": 6,
    "start_time": "2025-01-27T22:13:20.717Z"
   },
   {
    "duration": 81,
    "start_time": "2025-01-27T22:13:20.725Z"
   },
   {
    "duration": 3,
    "start_time": "2025-01-27T22:13:20.809Z"
   },
   {
    "duration": 3,
    "start_time": "2025-01-27T22:13:20.814Z"
   },
   {
    "duration": 20,
    "start_time": "2025-01-27T22:13:20.880Z"
   },
   {
    "duration": 3,
    "start_time": "2025-01-27T22:13:21.075Z"
   },
   {
    "duration": 2,
    "start_time": "2025-01-27T22:13:21.416Z"
   },
   {
    "duration": 78,
    "start_time": "2025-01-27T22:13:21.634Z"
   },
   {
    "duration": 6,
    "start_time": "2025-01-27T22:13:21.841Z"
   },
   {
    "duration": 6,
    "start_time": "2025-01-27T22:13:22.319Z"
   },
   {
    "duration": 6,
    "start_time": "2025-01-27T22:13:22.584Z"
   },
   {
    "duration": 4,
    "start_time": "2025-01-27T22:13:22.794Z"
   },
   {
    "duration": 5,
    "start_time": "2025-01-27T22:13:23.037Z"
   },
   {
    "duration": 4,
    "start_time": "2025-01-27T22:13:23.540Z"
   },
   {
    "duration": 4,
    "start_time": "2025-01-27T22:13:23.909Z"
   },
   {
    "duration": 4,
    "start_time": "2025-01-27T22:13:24.375Z"
   },
   {
    "duration": 4,
    "start_time": "2025-01-27T22:13:24.777Z"
   },
   {
    "duration": 3,
    "start_time": "2025-01-27T22:13:25.278Z"
   },
   {
    "duration": 3,
    "start_time": "2025-01-27T22:13:43.236Z"
   },
   {
    "duration": 12,
    "start_time": "2025-01-27T22:13:43.909Z"
   },
   {
    "duration": 237,
    "start_time": "2025-01-27T22:13:44.818Z"
   },
   {
    "duration": 3,
    "start_time": "2025-01-27T22:13:45.275Z"
   },
   {
    "duration": 3,
    "start_time": "2025-01-27T22:14:09.214Z"
   },
   {
    "duration": 20,
    "start_time": "2025-01-27T22:14:15.081Z"
   },
   {
    "duration": 3,
    "start_time": "2025-01-27T22:14:45.886Z"
   },
   {
    "duration": 3,
    "start_time": "2025-01-27T22:14:46.821Z"
   },
   {
    "duration": 438,
    "start_time": "2025-01-27T22:14:48.362Z"
   },
   {
    "duration": 9,
    "start_time": "2025-01-27T22:14:50.421Z"
   },
   {
    "duration": 2622,
    "start_time": "2025-01-31T06:54:34.977Z"
   },
   {
    "duration": 305,
    "start_time": "2025-01-31T06:54:37.601Z"
   },
   {
    "duration": 14,
    "start_time": "2025-01-31T06:54:37.907Z"
   },
   {
    "duration": 11,
    "start_time": "2025-01-31T06:54:37.923Z"
   },
   {
    "duration": 11,
    "start_time": "2025-01-31T06:54:37.936Z"
   },
   {
    "duration": 10,
    "start_time": "2025-01-31T06:54:37.948Z"
   },
   {
    "duration": 7,
    "start_time": "2025-01-31T06:54:37.960Z"
   },
   {
    "duration": 8,
    "start_time": "2025-01-31T06:54:37.968Z"
   },
   {
    "duration": 34,
    "start_time": "2025-01-31T06:54:38.010Z"
   },
   {
    "duration": 32,
    "start_time": "2025-01-31T06:54:38.047Z"
   },
   {
    "duration": 47,
    "start_time": "2025-01-31T06:54:38.081Z"
   },
   {
    "duration": 2,
    "start_time": "2025-01-31T06:54:38.130Z"
   },
   {
    "duration": 625,
    "start_time": "2025-01-31T06:54:38.134Z"
   },
   {
    "duration": 564,
    "start_time": "2025-01-31T06:54:38.761Z"
   },
   {
    "duration": 557,
    "start_time": "2025-01-31T06:54:39.326Z"
   },
   {
    "duration": 336,
    "start_time": "2025-01-31T06:54:39.884Z"
   },
   {
    "duration": 395,
    "start_time": "2025-01-31T06:54:40.222Z"
   },
   {
    "duration": 321,
    "start_time": "2025-01-31T06:54:40.619Z"
   },
   {
    "duration": 11,
    "start_time": "2025-01-31T06:54:40.942Z"
   },
   {
    "duration": 11,
    "start_time": "2025-01-31T06:54:40.954Z"
   },
   {
    "duration": 11,
    "start_time": "2025-01-31T06:54:40.966Z"
   },
   {
    "duration": 340,
    "start_time": "2025-01-31T06:54:40.980Z"
   },
   {
    "duration": 321,
    "start_time": "2025-01-31T06:54:41.322Z"
   },
   {
    "duration": 311,
    "start_time": "2025-01-31T06:54:41.645Z"
   },
   {
    "duration": 342,
    "start_time": "2025-01-31T06:54:41.957Z"
   },
   {
    "duration": 331,
    "start_time": "2025-01-31T06:54:42.301Z"
   },
   {
    "duration": 323,
    "start_time": "2025-01-31T06:54:42.634Z"
   },
   {
    "duration": 16,
    "start_time": "2025-01-31T06:54:42.962Z"
   },
   {
    "duration": 30,
    "start_time": "2025-01-31T06:54:42.980Z"
   },
   {
    "duration": 3,
    "start_time": "2025-01-31T06:54:43.012Z"
   },
   {
    "duration": 6,
    "start_time": "2025-01-31T06:54:43.017Z"
   },
   {
    "duration": 5,
    "start_time": "2025-01-31T06:54:43.025Z"
   },
   {
    "duration": 97,
    "start_time": "2025-01-31T06:54:43.032Z"
   },
   {
    "duration": 88,
    "start_time": "2025-01-31T06:54:43.133Z"
   },
   {
    "duration": 96,
    "start_time": "2025-01-31T06:54:43.225Z"
   },
   {
    "duration": 3,
    "start_time": "2025-01-31T06:54:43.326Z"
   },
   {
    "duration": 6,
    "start_time": "2025-01-31T06:54:43.410Z"
   },
   {
    "duration": 3,
    "start_time": "2025-01-31T06:54:43.418Z"
   },
   {
    "duration": 4,
    "start_time": "2025-01-31T06:54:43.423Z"
   },
   {
    "duration": 2,
    "start_time": "2025-01-31T06:54:43.428Z"
   },
   {
    "duration": 78,
    "start_time": "2025-01-31T06:54:43.432Z"
   },
   {
    "duration": 5,
    "start_time": "2025-01-31T06:54:43.511Z"
   },
   {
    "duration": 4,
    "start_time": "2025-01-31T06:54:43.517Z"
   },
   {
    "duration": 187,
    "start_time": "2025-01-31T06:54:43.524Z"
   },
   {
    "duration": 6,
    "start_time": "2025-01-31T06:54:43.716Z"
   },
   {
    "duration": 7,
    "start_time": "2025-01-31T06:54:43.726Z"
   },
   {
    "duration": 6,
    "start_time": "2025-01-31T06:54:43.809Z"
   },
   {
    "duration": 3,
    "start_time": "2025-01-31T06:54:43.817Z"
   },
   {
    "duration": 4,
    "start_time": "2025-01-31T06:54:43.822Z"
   },
   {
    "duration": 4,
    "start_time": "2025-01-31T06:54:43.827Z"
   },
   {
    "duration": 5,
    "start_time": "2025-01-31T06:54:43.832Z"
   },
   {
    "duration": 4,
    "start_time": "2025-01-31T06:54:43.838Z"
   },
   {
    "duration": 3,
    "start_time": "2025-01-31T06:54:43.845Z"
   },
   {
    "duration": 4,
    "start_time": "2025-01-31T06:54:43.849Z"
   },
   {
    "duration": 3,
    "start_time": "2025-01-31T06:54:43.854Z"
   },
   {
    "duration": 12,
    "start_time": "2025-01-31T06:54:43.908Z"
   },
   {
    "duration": 2,
    "start_time": "2025-01-31T06:54:43.922Z"
   },
   {
    "duration": 3,
    "start_time": "2025-01-31T06:54:43.926Z"
   },
   {
    "duration": 481,
    "start_time": "2025-01-31T06:54:43.931Z"
   },
   {
    "duration": 6,
    "start_time": "2025-01-31T06:54:44.414Z"
   },
   {
    "duration": 3,
    "start_time": "2025-01-31T06:55:28.685Z"
   },
   {
    "duration": 220,
    "start_time": "2025-01-31T06:55:28.690Z"
   },
   {
    "duration": 12,
    "start_time": "2025-01-31T06:55:28.912Z"
   },
   {
    "duration": 11,
    "start_time": "2025-01-31T06:55:28.925Z"
   },
   {
    "duration": 10,
    "start_time": "2025-01-31T06:55:28.937Z"
   },
   {
    "duration": 7,
    "start_time": "2025-01-31T06:55:28.949Z"
   },
   {
    "duration": 7,
    "start_time": "2025-01-31T06:55:28.957Z"
   },
   {
    "duration": 7,
    "start_time": "2025-01-31T06:55:28.965Z"
   },
   {
    "duration": 33,
    "start_time": "2025-01-31T06:55:29.008Z"
   },
   {
    "duration": 27,
    "start_time": "2025-01-31T06:55:29.043Z"
   },
   {
    "duration": 45,
    "start_time": "2025-01-31T06:55:29.073Z"
   },
   {
    "duration": 3,
    "start_time": "2025-01-31T06:55:29.119Z"
   },
   {
    "duration": 639,
    "start_time": "2025-01-31T06:55:29.123Z"
   },
   {
    "duration": 558,
    "start_time": "2025-01-31T06:55:29.764Z"
   },
   {
    "duration": 577,
    "start_time": "2025-01-31T06:55:30.324Z"
   },
   {
    "duration": 330,
    "start_time": "2025-01-31T06:55:30.909Z"
   },
   {
    "duration": 318,
    "start_time": "2025-01-31T06:55:31.241Z"
   },
   {
    "duration": 433,
    "start_time": "2025-01-31T06:55:31.561Z"
   },
   {
    "duration": 18,
    "start_time": "2025-01-31T06:55:31.996Z"
   },
   {
    "duration": 10,
    "start_time": "2025-01-31T06:55:32.015Z"
   },
   {
    "duration": 10,
    "start_time": "2025-01-31T06:55:32.027Z"
   },
   {
    "duration": 332,
    "start_time": "2025-01-31T06:55:32.038Z"
   },
   {
    "duration": 314,
    "start_time": "2025-01-31T06:55:32.372Z"
   },
   {
    "duration": 313,
    "start_time": "2025-01-31T06:55:32.689Z"
   },
   {
    "duration": 332,
    "start_time": "2025-01-31T06:55:33.008Z"
   },
   {
    "duration": 323,
    "start_time": "2025-01-31T06:55:33.342Z"
   },
   {
    "duration": 325,
    "start_time": "2025-01-31T06:55:33.666Z"
   },
   {
    "duration": 20,
    "start_time": "2025-01-31T06:55:33.993Z"
   },
   {
    "duration": 10,
    "start_time": "2025-01-31T06:55:34.017Z"
   },
   {
    "duration": 4,
    "start_time": "2025-01-31T06:55:34.028Z"
   },
   {
    "duration": 5,
    "start_time": "2025-01-31T06:55:34.034Z"
   },
   {
    "duration": 68,
    "start_time": "2025-01-31T06:55:34.041Z"
   },
   {
    "duration": 98,
    "start_time": "2025-01-31T06:55:34.111Z"
   },
   {
    "duration": 106,
    "start_time": "2025-01-31T06:55:34.211Z"
   },
   {
    "duration": 102,
    "start_time": "2025-01-31T06:55:34.322Z"
   },
   {
    "duration": 3,
    "start_time": "2025-01-31T06:55:34.426Z"
   },
   {
    "duration": 4,
    "start_time": "2025-01-31T06:55:34.431Z"
   },
   {
    "duration": 73,
    "start_time": "2025-01-31T06:55:34.437Z"
   },
   {
    "duration": 4,
    "start_time": "2025-01-31T06:55:34.512Z"
   },
   {
    "duration": 3,
    "start_time": "2025-01-31T06:55:34.518Z"
   },
   {
    "duration": 89,
    "start_time": "2025-01-31T06:55:34.522Z"
   },
   {
    "duration": 3,
    "start_time": "2025-01-31T06:55:34.613Z"
   },
   {
    "duration": 3,
    "start_time": "2025-01-31T06:55:34.617Z"
   },
   {
    "duration": 193,
    "start_time": "2025-01-31T06:55:34.622Z"
   },
   {
    "duration": 5,
    "start_time": "2025-01-31T06:55:34.817Z"
   },
   {
    "duration": 5,
    "start_time": "2025-01-31T06:55:34.824Z"
   },
   {
    "duration": 78,
    "start_time": "2025-01-31T06:55:34.831Z"
   },
   {
    "duration": 5,
    "start_time": "2025-01-31T06:55:34.911Z"
   },
   {
    "duration": 4,
    "start_time": "2025-01-31T06:55:34.917Z"
   },
   {
    "duration": 4,
    "start_time": "2025-01-31T06:55:34.922Z"
   },
   {
    "duration": 4,
    "start_time": "2025-01-31T06:55:34.928Z"
   },
   {
    "duration": 4,
    "start_time": "2025-01-31T06:55:34.933Z"
   },
   {
    "duration": 4,
    "start_time": "2025-01-31T06:55:34.938Z"
   },
   {
    "duration": 3,
    "start_time": "2025-01-31T06:55:34.944Z"
   },
   {
    "duration": 59,
    "start_time": "2025-01-31T06:55:34.949Z"
   },
   {
    "duration": 12,
    "start_time": "2025-01-31T06:55:35.010Z"
   },
   {
    "duration": 2,
    "start_time": "2025-01-31T06:55:35.024Z"
   },
   {
    "duration": 3,
    "start_time": "2025-01-31T06:55:35.028Z"
   },
   {
    "duration": 470,
    "start_time": "2025-01-31T06:55:35.033Z"
   },
   {
    "duration": 4,
    "start_time": "2025-01-31T06:55:35.509Z"
   },
   {
    "duration": 3,
    "start_time": "2025-01-31T07:31:57.878Z"
   },
   {
    "duration": 462,
    "start_time": "2025-01-31T07:31:58.597Z"
   },
   {
    "duration": 3,
    "start_time": "2025-01-31T07:32:15.196Z"
   },
   {
    "duration": 4,
    "start_time": "2025-01-31T07:32:15.532Z"
   },
   {
    "duration": 470,
    "start_time": "2025-01-31T07:32:16.619Z"
   },
   {
    "duration": 466,
    "start_time": "2025-01-31T07:32:24.071Z"
   },
   {
    "duration": 452,
    "start_time": "2025-01-31T07:32:31.889Z"
   },
   {
    "duration": 4,
    "start_time": "2025-01-31T07:53:55.433Z"
   },
   {
    "duration": 8,
    "start_time": "2025-01-31T07:54:32.909Z"
   },
   {
    "duration": 9,
    "start_time": "2025-01-31T07:56:13.462Z"
   },
   {
    "duration": 440,
    "start_time": "2025-01-31T08:29:04.079Z"
   },
   {
    "duration": 2616,
    "start_time": "2025-01-31T17:13:39.670Z"
   },
   {
    "duration": 293,
    "start_time": "2025-01-31T17:13:42.288Z"
   },
   {
    "duration": 12,
    "start_time": "2025-01-31T17:13:42.583Z"
   },
   {
    "duration": 11,
    "start_time": "2025-01-31T17:13:42.596Z"
   },
   {
    "duration": 11,
    "start_time": "2025-01-31T17:13:42.608Z"
   },
   {
    "duration": 9,
    "start_time": "2025-01-31T17:13:42.620Z"
   },
   {
    "duration": 7,
    "start_time": "2025-01-31T17:13:42.630Z"
   },
   {
    "duration": 6,
    "start_time": "2025-01-31T17:13:42.671Z"
   },
   {
    "duration": 33,
    "start_time": "2025-01-31T17:13:42.679Z"
   },
   {
    "duration": 33,
    "start_time": "2025-01-31T17:13:42.715Z"
   },
   {
    "duration": 37,
    "start_time": "2025-01-31T17:13:42.770Z"
   },
   {
    "duration": 3,
    "start_time": "2025-01-31T17:13:42.809Z"
   },
   {
    "duration": 417,
    "start_time": "2025-01-31T17:13:42.814Z"
   },
   {
    "duration": 0,
    "start_time": "2025-01-31T17:13:43.234Z"
   },
   {
    "duration": 0,
    "start_time": "2025-01-31T17:13:43.235Z"
   },
   {
    "duration": 0,
    "start_time": "2025-01-31T17:13:43.237Z"
   },
   {
    "duration": 0,
    "start_time": "2025-01-31T17:13:43.238Z"
   },
   {
    "duration": 0,
    "start_time": "2025-01-31T17:13:43.239Z"
   },
   {
    "duration": 0,
    "start_time": "2025-01-31T17:13:43.241Z"
   },
   {
    "duration": 0,
    "start_time": "2025-01-31T17:13:43.242Z"
   },
   {
    "duration": 0,
    "start_time": "2025-01-31T17:13:43.243Z"
   },
   {
    "duration": 0,
    "start_time": "2025-01-31T17:13:43.244Z"
   },
   {
    "duration": 0,
    "start_time": "2025-01-31T17:13:43.245Z"
   },
   {
    "duration": 0,
    "start_time": "2025-01-31T17:13:43.270Z"
   },
   {
    "duration": 0,
    "start_time": "2025-01-31T17:13:43.271Z"
   },
   {
    "duration": 0,
    "start_time": "2025-01-31T17:13:43.272Z"
   },
   {
    "duration": 0,
    "start_time": "2025-01-31T17:13:43.272Z"
   },
   {
    "duration": 0,
    "start_time": "2025-01-31T17:13:43.274Z"
   },
   {
    "duration": 0,
    "start_time": "2025-01-31T17:13:43.274Z"
   },
   {
    "duration": 0,
    "start_time": "2025-01-31T17:13:43.275Z"
   },
   {
    "duration": 0,
    "start_time": "2025-01-31T17:13:43.276Z"
   },
   {
    "duration": 0,
    "start_time": "2025-01-31T17:13:43.278Z"
   },
   {
    "duration": 0,
    "start_time": "2025-01-31T17:13:43.279Z"
   },
   {
    "duration": 0,
    "start_time": "2025-01-31T17:13:43.280Z"
   },
   {
    "duration": 19,
    "start_time": "2025-01-31T17:13:43.282Z"
   },
   {
    "duration": 3,
    "start_time": "2025-01-31T17:13:43.406Z"
   },
   {
    "duration": 4,
    "start_time": "2025-01-31T17:13:43.437Z"
   },
   {
    "duration": 3,
    "start_time": "2025-01-31T17:13:43.479Z"
   },
   {
    "duration": 3,
    "start_time": "2025-01-31T17:13:43.508Z"
   },
   {
    "duration": 3,
    "start_time": "2025-01-31T17:13:43.551Z"
   },
   {
    "duration": 13,
    "start_time": "2025-01-31T17:13:43.581Z"
   },
   {
    "duration": 13,
    "start_time": "2025-01-31T17:13:43.623Z"
   },
   {
    "duration": 2,
    "start_time": "2025-01-31T17:13:43.655Z"
   },
   {
    "duration": 13,
    "start_time": "2025-01-31T17:13:43.689Z"
   },
   {
    "duration": 14,
    "start_time": "2025-01-31T17:13:43.743Z"
   },
   {
    "duration": 13,
    "start_time": "2025-01-31T17:13:43.769Z"
   },
   {
    "duration": 13,
    "start_time": "2025-01-31T17:13:44.150Z"
   },
   {
    "duration": 13,
    "start_time": "2025-01-31T17:13:44.360Z"
   },
   {
    "duration": 17,
    "start_time": "2025-01-31T17:13:44.526Z"
   },
   {
    "duration": 15,
    "start_time": "2025-01-31T17:13:44.707Z"
   },
   {
    "duration": 18,
    "start_time": "2025-01-31T17:13:44.875Z"
   },
   {
    "duration": 14,
    "start_time": "2025-01-31T17:13:45.047Z"
   },
   {
    "duration": 15,
    "start_time": "2025-01-31T17:13:45.199Z"
   },
   {
    "duration": 14,
    "start_time": "2025-01-31T17:13:45.356Z"
   },
   {
    "duration": 4,
    "start_time": "2025-01-31T17:13:46.583Z"
   },
   {
    "duration": 25,
    "start_time": "2025-01-31T17:13:47.171Z"
   },
   {
    "duration": 3,
    "start_time": "2025-01-31T17:13:47.964Z"
   },
   {
    "duration": 6,
    "start_time": "2025-01-31T17:13:48.428Z"
   },
   {
    "duration": 19,
    "start_time": "2025-01-31T17:13:48.699Z"
   },
   {
    "duration": 4,
    "start_time": "2025-01-31T17:14:15.718Z"
   },
   {
    "duration": 240,
    "start_time": "2025-01-31T17:14:15.724Z"
   },
   {
    "duration": 14,
    "start_time": "2025-01-31T17:14:15.965Z"
   },
   {
    "duration": 9,
    "start_time": "2025-01-31T17:14:15.981Z"
   },
   {
    "duration": 11,
    "start_time": "2025-01-31T17:14:15.992Z"
   },
   {
    "duration": 7,
    "start_time": "2025-01-31T17:14:16.004Z"
   },
   {
    "duration": 8,
    "start_time": "2025-01-31T17:14:16.013Z"
   },
   {
    "duration": 7,
    "start_time": "2025-01-31T17:14:16.022Z"
   },
   {
    "duration": 66,
    "start_time": "2025-01-31T17:14:16.030Z"
   },
   {
    "duration": 27,
    "start_time": "2025-01-31T17:14:16.098Z"
   },
   {
    "duration": 50,
    "start_time": "2025-01-31T17:14:16.126Z"
   },
   {
    "duration": 2,
    "start_time": "2025-01-31T17:14:16.178Z"
   },
   {
    "duration": 138,
    "start_time": "2025-01-31T17:14:16.183Z"
   },
   {
    "duration": 0,
    "start_time": "2025-01-31T17:14:16.325Z"
   },
   {
    "duration": 0,
    "start_time": "2025-01-31T17:14:16.326Z"
   },
   {
    "duration": 0,
    "start_time": "2025-01-31T17:14:16.327Z"
   },
   {
    "duration": 0,
    "start_time": "2025-01-31T17:14:16.328Z"
   },
   {
    "duration": 0,
    "start_time": "2025-01-31T17:14:16.329Z"
   },
   {
    "duration": 0,
    "start_time": "2025-01-31T17:14:16.330Z"
   },
   {
    "duration": 0,
    "start_time": "2025-01-31T17:14:16.331Z"
   },
   {
    "duration": 0,
    "start_time": "2025-01-31T17:14:16.332Z"
   },
   {
    "duration": 0,
    "start_time": "2025-01-31T17:14:16.333Z"
   },
   {
    "duration": 0,
    "start_time": "2025-01-31T17:14:16.335Z"
   },
   {
    "duration": 0,
    "start_time": "2025-01-31T17:14:16.336Z"
   },
   {
    "duration": 0,
    "start_time": "2025-01-31T17:14:16.337Z"
   },
   {
    "duration": 0,
    "start_time": "2025-01-31T17:14:16.338Z"
   },
   {
    "duration": 0,
    "start_time": "2025-01-31T17:14:16.339Z"
   },
   {
    "duration": 0,
    "start_time": "2025-01-31T17:14:16.341Z"
   },
   {
    "duration": 0,
    "start_time": "2025-01-31T17:14:16.342Z"
   },
   {
    "duration": 0,
    "start_time": "2025-01-31T17:14:16.343Z"
   },
   {
    "duration": 0,
    "start_time": "2025-01-31T17:14:16.344Z"
   },
   {
    "duration": 0,
    "start_time": "2025-01-31T17:14:16.346Z"
   },
   {
    "duration": 0,
    "start_time": "2025-01-31T17:14:16.347Z"
   },
   {
    "duration": 0,
    "start_time": "2025-01-31T17:14:16.348Z"
   },
   {
    "duration": 0,
    "start_time": "2025-01-31T17:14:16.348Z"
   },
   {
    "duration": 0,
    "start_time": "2025-01-31T17:14:16.378Z"
   },
   {
    "duration": 0,
    "start_time": "2025-01-31T17:14:16.379Z"
   },
   {
    "duration": 0,
    "start_time": "2025-01-31T17:14:16.380Z"
   },
   {
    "duration": 0,
    "start_time": "2025-01-31T17:14:16.381Z"
   },
   {
    "duration": 0,
    "start_time": "2025-01-31T17:14:16.382Z"
   },
   {
    "duration": 0,
    "start_time": "2025-01-31T17:14:16.383Z"
   },
   {
    "duration": 0,
    "start_time": "2025-01-31T17:14:16.384Z"
   },
   {
    "duration": 0,
    "start_time": "2025-01-31T17:14:16.385Z"
   },
   {
    "duration": 0,
    "start_time": "2025-01-31T17:14:16.386Z"
   },
   {
    "duration": 0,
    "start_time": "2025-01-31T17:14:16.387Z"
   },
   {
    "duration": 0,
    "start_time": "2025-01-31T17:14:16.388Z"
   },
   {
    "duration": 0,
    "start_time": "2025-01-31T17:14:16.389Z"
   },
   {
    "duration": 0,
    "start_time": "2025-01-31T17:14:16.390Z"
   },
   {
    "duration": 0,
    "start_time": "2025-01-31T17:14:16.391Z"
   },
   {
    "duration": 0,
    "start_time": "2025-01-31T17:14:16.392Z"
   },
   {
    "duration": 0,
    "start_time": "2025-01-31T17:14:16.393Z"
   },
   {
    "duration": 0,
    "start_time": "2025-01-31T17:14:16.394Z"
   },
   {
    "duration": 0,
    "start_time": "2025-01-31T17:14:16.396Z"
   },
   {
    "duration": 0,
    "start_time": "2025-01-31T17:14:16.397Z"
   },
   {
    "duration": 0,
    "start_time": "2025-01-31T17:14:16.398Z"
   },
   {
    "duration": 0,
    "start_time": "2025-01-31T17:14:16.400Z"
   },
   {
    "duration": 0,
    "start_time": "2025-01-31T17:14:16.401Z"
   },
   {
    "duration": 0,
    "start_time": "2025-01-31T17:14:16.402Z"
   },
   {
    "duration": 0,
    "start_time": "2025-01-31T17:14:16.403Z"
   },
   {
    "duration": 0,
    "start_time": "2025-01-31T17:14:16.404Z"
   },
   {
    "duration": 0,
    "start_time": "2025-01-31T17:14:16.406Z"
   },
   {
    "duration": 0,
    "start_time": "2025-01-31T17:14:16.407Z"
   },
   {
    "duration": 0,
    "start_time": "2025-01-31T17:14:16.408Z"
   },
   {
    "duration": 0,
    "start_time": "2025-01-31T17:14:16.409Z"
   },
   {
    "duration": 3,
    "start_time": "2025-01-31T17:14:39.132Z"
   },
   {
    "duration": 217,
    "start_time": "2025-01-31T17:14:39.138Z"
   },
   {
    "duration": 16,
    "start_time": "2025-01-31T17:14:39.356Z"
   },
   {
    "duration": 11,
    "start_time": "2025-01-31T17:14:39.374Z"
   },
   {
    "duration": 9,
    "start_time": "2025-01-31T17:14:39.387Z"
   },
   {
    "duration": 7,
    "start_time": "2025-01-31T17:14:39.398Z"
   },
   {
    "duration": 8,
    "start_time": "2025-01-31T17:14:39.406Z"
   },
   {
    "duration": 7,
    "start_time": "2025-01-31T17:14:39.415Z"
   },
   {
    "duration": 66,
    "start_time": "2025-01-31T17:14:39.424Z"
   },
   {
    "duration": 28,
    "start_time": "2025-01-31T17:14:39.492Z"
   },
   {
    "duration": 49,
    "start_time": "2025-01-31T17:14:39.522Z"
   },
   {
    "duration": 3,
    "start_time": "2025-01-31T17:14:39.572Z"
   },
   {
    "duration": 135,
    "start_time": "2025-01-31T17:14:39.576Z"
   },
   {
    "duration": 0,
    "start_time": "2025-01-31T17:14:39.714Z"
   },
   {
    "duration": 0,
    "start_time": "2025-01-31T17:14:39.716Z"
   },
   {
    "duration": 0,
    "start_time": "2025-01-31T17:14:39.717Z"
   },
   {
    "duration": 0,
    "start_time": "2025-01-31T17:14:39.719Z"
   },
   {
    "duration": 0,
    "start_time": "2025-01-31T17:14:39.721Z"
   },
   {
    "duration": 0,
    "start_time": "2025-01-31T17:14:39.722Z"
   },
   {
    "duration": 0,
    "start_time": "2025-01-31T17:14:39.723Z"
   },
   {
    "duration": 0,
    "start_time": "2025-01-31T17:14:39.724Z"
   },
   {
    "duration": 0,
    "start_time": "2025-01-31T17:14:39.727Z"
   },
   {
    "duration": 0,
    "start_time": "2025-01-31T17:14:39.728Z"
   },
   {
    "duration": 0,
    "start_time": "2025-01-31T17:14:39.729Z"
   },
   {
    "duration": 0,
    "start_time": "2025-01-31T17:14:39.731Z"
   },
   {
    "duration": 0,
    "start_time": "2025-01-31T17:14:39.732Z"
   },
   {
    "duration": 0,
    "start_time": "2025-01-31T17:14:39.734Z"
   },
   {
    "duration": 0,
    "start_time": "2025-01-31T17:14:39.736Z"
   },
   {
    "duration": 0,
    "start_time": "2025-01-31T17:14:39.769Z"
   },
   {
    "duration": 0,
    "start_time": "2025-01-31T17:14:39.770Z"
   },
   {
    "duration": 0,
    "start_time": "2025-01-31T17:14:39.772Z"
   },
   {
    "duration": 0,
    "start_time": "2025-01-31T17:14:39.773Z"
   },
   {
    "duration": 0,
    "start_time": "2025-01-31T17:14:39.774Z"
   },
   {
    "duration": 0,
    "start_time": "2025-01-31T17:14:39.776Z"
   },
   {
    "duration": 0,
    "start_time": "2025-01-31T17:14:39.777Z"
   },
   {
    "duration": 0,
    "start_time": "2025-01-31T17:14:39.779Z"
   },
   {
    "duration": 0,
    "start_time": "2025-01-31T17:14:39.780Z"
   },
   {
    "duration": 0,
    "start_time": "2025-01-31T17:14:39.781Z"
   },
   {
    "duration": 0,
    "start_time": "2025-01-31T17:14:39.782Z"
   },
   {
    "duration": 0,
    "start_time": "2025-01-31T17:14:39.783Z"
   },
   {
    "duration": 0,
    "start_time": "2025-01-31T17:14:39.784Z"
   },
   {
    "duration": 0,
    "start_time": "2025-01-31T17:14:39.785Z"
   },
   {
    "duration": 0,
    "start_time": "2025-01-31T17:14:39.786Z"
   },
   {
    "duration": 0,
    "start_time": "2025-01-31T17:14:39.787Z"
   },
   {
    "duration": 0,
    "start_time": "2025-01-31T17:14:39.788Z"
   },
   {
    "duration": 0,
    "start_time": "2025-01-31T17:14:39.788Z"
   },
   {
    "duration": 0,
    "start_time": "2025-01-31T17:14:39.789Z"
   },
   {
    "duration": 0,
    "start_time": "2025-01-31T17:14:39.790Z"
   },
   {
    "duration": 0,
    "start_time": "2025-01-31T17:14:39.792Z"
   },
   {
    "duration": 0,
    "start_time": "2025-01-31T17:14:39.793Z"
   },
   {
    "duration": 0,
    "start_time": "2025-01-31T17:14:39.794Z"
   },
   {
    "duration": 0,
    "start_time": "2025-01-31T17:14:39.795Z"
   },
   {
    "duration": 0,
    "start_time": "2025-01-31T17:14:39.795Z"
   },
   {
    "duration": 0,
    "start_time": "2025-01-31T17:14:39.796Z"
   },
   {
    "duration": 0,
    "start_time": "2025-01-31T17:14:39.798Z"
   },
   {
    "duration": 0,
    "start_time": "2025-01-31T17:14:39.799Z"
   },
   {
    "duration": 0,
    "start_time": "2025-01-31T17:14:39.800Z"
   },
   {
    "duration": 0,
    "start_time": "2025-01-31T17:14:39.801Z"
   },
   {
    "duration": 0,
    "start_time": "2025-01-31T17:14:39.802Z"
   },
   {
    "duration": 0,
    "start_time": "2025-01-31T17:14:39.804Z"
   },
   {
    "duration": 0,
    "start_time": "2025-01-31T17:14:39.808Z"
   },
   {
    "duration": 0,
    "start_time": "2025-01-31T17:14:39.810Z"
   },
   {
    "duration": 0,
    "start_time": "2025-01-31T17:14:39.870Z"
   },
   {
    "duration": 0,
    "start_time": "2025-01-31T17:14:39.871Z"
   },
   {
    "duration": 3,
    "start_time": "2025-01-31T17:14:48.934Z"
   },
   {
    "duration": 215,
    "start_time": "2025-01-31T17:14:48.939Z"
   },
   {
    "duration": 16,
    "start_time": "2025-01-31T17:14:49.156Z"
   },
   {
    "duration": 10,
    "start_time": "2025-01-31T17:14:49.173Z"
   },
   {
    "duration": 10,
    "start_time": "2025-01-31T17:14:49.186Z"
   },
   {
    "duration": 7,
    "start_time": "2025-01-31T17:14:49.197Z"
   },
   {
    "duration": 8,
    "start_time": "2025-01-31T17:14:49.205Z"
   },
   {
    "duration": 7,
    "start_time": "2025-01-31T17:14:49.214Z"
   },
   {
    "duration": 65,
    "start_time": "2025-01-31T17:14:49.223Z"
   },
   {
    "duration": 28,
    "start_time": "2025-01-31T17:14:49.290Z"
   },
   {
    "duration": 29,
    "start_time": "2025-01-31T17:14:49.319Z"
   },
   {
    "duration": 20,
    "start_time": "2025-01-31T17:14:49.350Z"
   },
   {
    "duration": 142,
    "start_time": "2025-01-31T17:14:49.374Z"
   },
   {
    "duration": 0,
    "start_time": "2025-01-31T17:14:49.519Z"
   },
   {
    "duration": 0,
    "start_time": "2025-01-31T17:14:49.521Z"
   },
   {
    "duration": 0,
    "start_time": "2025-01-31T17:14:49.522Z"
   },
   {
    "duration": 0,
    "start_time": "2025-01-31T17:14:49.523Z"
   },
   {
    "duration": 0,
    "start_time": "2025-01-31T17:14:49.524Z"
   },
   {
    "duration": 0,
    "start_time": "2025-01-31T17:14:49.525Z"
   },
   {
    "duration": 0,
    "start_time": "2025-01-31T17:14:49.526Z"
   },
   {
    "duration": 0,
    "start_time": "2025-01-31T17:14:49.526Z"
   },
   {
    "duration": 0,
    "start_time": "2025-01-31T17:14:49.527Z"
   },
   {
    "duration": 0,
    "start_time": "2025-01-31T17:14:49.529Z"
   },
   {
    "duration": 0,
    "start_time": "2025-01-31T17:14:49.530Z"
   },
   {
    "duration": 0,
    "start_time": "2025-01-31T17:14:49.532Z"
   },
   {
    "duration": 0,
    "start_time": "2025-01-31T17:14:49.533Z"
   },
   {
    "duration": 0,
    "start_time": "2025-01-31T17:14:49.535Z"
   },
   {
    "duration": 0,
    "start_time": "2025-01-31T17:14:49.536Z"
   },
   {
    "duration": 0,
    "start_time": "2025-01-31T17:14:49.537Z"
   },
   {
    "duration": 0,
    "start_time": "2025-01-31T17:14:49.538Z"
   },
   {
    "duration": 0,
    "start_time": "2025-01-31T17:14:49.540Z"
   },
   {
    "duration": 0,
    "start_time": "2025-01-31T17:14:49.541Z"
   },
   {
    "duration": 0,
    "start_time": "2025-01-31T17:14:49.571Z"
   },
   {
    "duration": 0,
    "start_time": "2025-01-31T17:14:49.572Z"
   },
   {
    "duration": 0,
    "start_time": "2025-01-31T17:14:49.573Z"
   },
   {
    "duration": 0,
    "start_time": "2025-01-31T17:14:49.574Z"
   },
   {
    "duration": 0,
    "start_time": "2025-01-31T17:14:49.575Z"
   },
   {
    "duration": 0,
    "start_time": "2025-01-31T17:14:49.576Z"
   },
   {
    "duration": 0,
    "start_time": "2025-01-31T17:14:49.577Z"
   },
   {
    "duration": 0,
    "start_time": "2025-01-31T17:14:49.578Z"
   },
   {
    "duration": 0,
    "start_time": "2025-01-31T17:14:49.579Z"
   },
   {
    "duration": 0,
    "start_time": "2025-01-31T17:14:49.580Z"
   },
   {
    "duration": 0,
    "start_time": "2025-01-31T17:14:49.581Z"
   },
   {
    "duration": 0,
    "start_time": "2025-01-31T17:14:49.582Z"
   },
   {
    "duration": 0,
    "start_time": "2025-01-31T17:14:49.583Z"
   },
   {
    "duration": 0,
    "start_time": "2025-01-31T17:14:49.584Z"
   },
   {
    "duration": 0,
    "start_time": "2025-01-31T17:14:49.586Z"
   },
   {
    "duration": 0,
    "start_time": "2025-01-31T17:14:49.587Z"
   },
   {
    "duration": 0,
    "start_time": "2025-01-31T17:14:49.588Z"
   },
   {
    "duration": 0,
    "start_time": "2025-01-31T17:14:49.590Z"
   },
   {
    "duration": 0,
    "start_time": "2025-01-31T17:14:49.593Z"
   },
   {
    "duration": 0,
    "start_time": "2025-01-31T17:14:49.595Z"
   },
   {
    "duration": 0,
    "start_time": "2025-01-31T17:14:49.596Z"
   },
   {
    "duration": 0,
    "start_time": "2025-01-31T17:14:49.597Z"
   },
   {
    "duration": 0,
    "start_time": "2025-01-31T17:14:49.599Z"
   },
   {
    "duration": 0,
    "start_time": "2025-01-31T17:14:49.600Z"
   },
   {
    "duration": 0,
    "start_time": "2025-01-31T17:14:49.601Z"
   },
   {
    "duration": 0,
    "start_time": "2025-01-31T17:14:49.602Z"
   },
   {
    "duration": 0,
    "start_time": "2025-01-31T17:14:49.603Z"
   },
   {
    "duration": 0,
    "start_time": "2025-01-31T17:14:49.604Z"
   },
   {
    "duration": 0,
    "start_time": "2025-01-31T17:14:49.605Z"
   },
   {
    "duration": 0,
    "start_time": "2025-01-31T17:14:49.606Z"
   },
   {
    "duration": 0,
    "start_time": "2025-01-31T17:14:49.607Z"
   },
   {
    "duration": 0,
    "start_time": "2025-01-31T17:14:49.609Z"
   },
   {
    "duration": 2,
    "start_time": "2025-01-31T17:14:55.914Z"
   },
   {
    "duration": 225,
    "start_time": "2025-01-31T17:14:56.940Z"
   },
   {
    "duration": 11,
    "start_time": "2025-01-31T17:14:57.764Z"
   },
   {
    "duration": 13,
    "start_time": "2025-01-31T17:14:58.473Z"
   },
   {
    "duration": 11,
    "start_time": "2025-01-31T17:14:59.325Z"
   },
   {
    "duration": 7,
    "start_time": "2025-01-31T17:14:59.952Z"
   },
   {
    "duration": 7,
    "start_time": "2025-01-31T17:15:00.418Z"
   },
   {
    "duration": 7,
    "start_time": "2025-01-31T17:15:00.938Z"
   },
   {
    "duration": 34,
    "start_time": "2025-01-31T17:15:01.338Z"
   },
   {
    "duration": 34,
    "start_time": "2025-01-31T17:15:01.712Z"
   },
   {
    "duration": 30,
    "start_time": "2025-01-31T17:15:02.323Z"
   },
   {
    "duration": 3,
    "start_time": "2025-01-31T17:15:02.592Z"
   },
   {
    "duration": 123,
    "start_time": "2025-01-31T17:15:03.002Z"
   },
   {
    "duration": 74,
    "start_time": "2025-01-31T17:16:36.540Z"
   },
   {
    "duration": 210,
    "start_time": "2025-01-31T17:16:38.776Z"
   },
   {
    "duration": 11,
    "start_time": "2025-01-31T17:16:39.024Z"
   },
   {
    "duration": 11,
    "start_time": "2025-01-31T17:16:39.234Z"
   },
   {
    "duration": 11,
    "start_time": "2025-01-31T17:16:39.435Z"
   },
   {
    "duration": 7,
    "start_time": "2025-01-31T17:16:39.626Z"
   },
   {
    "duration": 7,
    "start_time": "2025-01-31T17:16:40.208Z"
   },
   {
    "duration": 7,
    "start_time": "2025-01-31T17:16:40.450Z"
   },
   {
    "duration": 32,
    "start_time": "2025-01-31T17:16:40.703Z"
   },
   {
    "duration": 27,
    "start_time": "2025-01-31T17:16:41.391Z"
   },
   {
    "duration": 30,
    "start_time": "2025-01-31T17:16:41.675Z"
   },
   {
    "duration": 2,
    "start_time": "2025-01-31T17:16:41.899Z"
   },
   {
    "duration": 622,
    "start_time": "2025-01-31T17:16:42.116Z"
   },
   {
    "duration": 563,
    "start_time": "2025-01-31T17:16:43.054Z"
   },
   {
    "duration": 560,
    "start_time": "2025-01-31T17:16:44.184Z"
   },
   {
    "duration": 339,
    "start_time": "2025-01-31T17:16:44.748Z"
   },
   {
    "duration": 306,
    "start_time": "2025-01-31T17:16:45.524Z"
   },
   {
    "duration": 424,
    "start_time": "2025-01-31T17:16:45.965Z"
   },
   {
    "duration": 11,
    "start_time": "2025-01-31T17:16:46.707Z"
   },
   {
    "duration": 11,
    "start_time": "2025-01-31T17:16:47.004Z"
   },
   {
    "duration": 11,
    "start_time": "2025-01-31T17:16:47.292Z"
   },
   {
    "duration": 310,
    "start_time": "2025-01-31T17:16:47.512Z"
   },
   {
    "duration": 315,
    "start_time": "2025-01-31T17:16:47.824Z"
   },
   {
    "duration": 324,
    "start_time": "2025-01-31T17:16:48.141Z"
   },
   {
    "duration": 332,
    "start_time": "2025-01-31T17:16:48.466Z"
   },
   {
    "duration": 328,
    "start_time": "2025-01-31T17:16:48.800Z"
   },
   {
    "duration": 341,
    "start_time": "2025-01-31T17:16:49.130Z"
   },
   {
    "duration": 14,
    "start_time": "2025-01-31T17:16:50.132Z"
   },
   {
    "duration": 11,
    "start_time": "2025-01-31T17:16:51.004Z"
   },
   {
    "duration": 3,
    "start_time": "2025-01-31T17:16:51.953Z"
   },
   {
    "duration": 4,
    "start_time": "2025-01-31T17:16:52.433Z"
   },
   {
    "duration": 5,
    "start_time": "2025-01-31T17:16:52.977Z"
   },
   {
    "duration": 27,
    "start_time": "2025-01-31T17:16:53.680Z"
   },
   {
    "duration": 19,
    "start_time": "2025-01-31T17:16:54.023Z"
   },
   {
    "duration": 18,
    "start_time": "2025-01-31T17:16:54.271Z"
   },
   {
    "duration": 2,
    "start_time": "2025-01-31T17:16:55.318Z"
   },
   {
    "duration": 3,
    "start_time": "2025-01-31T17:16:55.534Z"
   },
   {
    "duration": 3,
    "start_time": "2025-01-31T17:16:56.035Z"
   },
   {
    "duration": 5,
    "start_time": "2025-01-31T17:16:56.346Z"
   },
   {
    "duration": 3,
    "start_time": "2025-01-31T17:16:56.663Z"
   },
   {
    "duration": 20,
    "start_time": "2025-01-31T17:16:57.119Z"
   },
   {
    "duration": 2,
    "start_time": "2025-01-31T17:16:57.459Z"
   },
   {
    "duration": 2,
    "start_time": "2025-01-31T17:16:57.814Z"
   },
   {
    "duration": 41,
    "start_time": "2025-01-31T17:16:58.140Z"
   },
   {
    "duration": 5,
    "start_time": "2025-01-31T17:16:58.449Z"
   },
   {
    "duration": 5,
    "start_time": "2025-01-31T17:16:58.755Z"
   },
   {
    "duration": 6,
    "start_time": "2025-01-31T17:16:59.060Z"
   },
   {
    "duration": 4,
    "start_time": "2025-01-31T17:16:59.362Z"
   },
   {
    "duration": 4,
    "start_time": "2025-01-31T17:16:59.709Z"
   },
   {
    "duration": 3,
    "start_time": "2025-01-31T17:17:00.152Z"
   },
   {
    "duration": 4,
    "start_time": "2025-01-31T17:17:00.561Z"
   },
   {
    "duration": 4,
    "start_time": "2025-01-31T17:17:00.968Z"
   },
   {
    "duration": 4,
    "start_time": "2025-01-31T17:17:01.264Z"
   },
   {
    "duration": 3,
    "start_time": "2025-01-31T17:17:01.526Z"
   },
   {
    "duration": 3,
    "start_time": "2025-01-31T17:17:02.893Z"
   },
   {
    "duration": 12,
    "start_time": "2025-01-31T17:17:04.083Z"
   },
   {
    "duration": 3,
    "start_time": "2025-01-31T17:17:05.596Z"
   },
   {
    "duration": 3,
    "start_time": "2025-01-31T17:17:06.157Z"
   },
   {
    "duration": 457,
    "start_time": "2025-01-31T17:17:06.648Z"
   },
   {
    "duration": 464,
    "start_time": "2025-01-31T17:17:07.107Z"
   },
   {
    "duration": 438,
    "start_time": "2025-01-31T17:17:07.673Z"
   },
   {
    "duration": 7,
    "start_time": "2025-01-31T17:17:08.208Z"
   },
   {
    "duration": 2685,
    "start_time": "2025-02-03T04:17:39.712Z"
   },
   {
    "duration": 311,
    "start_time": "2025-02-03T04:17:42.399Z"
   },
   {
    "duration": 11,
    "start_time": "2025-02-03T04:17:42.712Z"
   },
   {
    "duration": 10,
    "start_time": "2025-02-03T04:17:42.725Z"
   },
   {
    "duration": 11,
    "start_time": "2025-02-03T04:17:42.737Z"
   },
   {
    "duration": 10,
    "start_time": "2025-02-03T04:17:42.751Z"
   },
   {
    "duration": 7,
    "start_time": "2025-02-03T04:17:42.762Z"
   },
   {
    "duration": 7,
    "start_time": "2025-02-03T04:17:42.771Z"
   },
   {
    "duration": 63,
    "start_time": "2025-02-03T04:17:42.779Z"
   },
   {
    "duration": 31,
    "start_time": "2025-02-03T04:17:42.843Z"
   },
   {
    "duration": 31,
    "start_time": "2025-02-03T04:17:42.876Z"
   },
   {
    "duration": 3,
    "start_time": "2025-02-03T04:17:42.924Z"
   },
   {
    "duration": 629,
    "start_time": "2025-02-03T04:17:42.929Z"
   },
   {
    "duration": 578,
    "start_time": "2025-02-03T04:17:43.563Z"
   },
   {
    "duration": 651,
    "start_time": "2025-02-03T04:17:44.144Z"
   },
   {
    "duration": 345,
    "start_time": "2025-02-03T04:17:44.797Z"
   },
   {
    "duration": 321,
    "start_time": "2025-02-03T04:17:45.144Z"
   },
   {
    "duration": 323,
    "start_time": "2025-02-03T04:17:45.467Z"
   },
   {
    "duration": 12,
    "start_time": "2025-02-03T04:17:45.792Z"
   },
   {
    "duration": 23,
    "start_time": "2025-02-03T04:17:45.805Z"
   },
   {
    "duration": 11,
    "start_time": "2025-02-03T04:17:45.829Z"
   },
   {
    "duration": 323,
    "start_time": "2025-02-03T04:17:45.841Z"
   },
   {
    "duration": 317,
    "start_time": "2025-02-03T04:17:46.165Z"
   },
   {
    "duration": 313,
    "start_time": "2025-02-03T04:17:46.484Z"
   },
   {
    "duration": 330,
    "start_time": "2025-02-03T04:17:46.799Z"
   },
   {
    "duration": 329,
    "start_time": "2025-02-03T04:17:47.130Z"
   },
   {
    "duration": 337,
    "start_time": "2025-02-03T04:17:47.461Z"
   },
   {
    "duration": 16,
    "start_time": "2025-02-03T04:17:47.800Z"
   },
   {
    "duration": 19,
    "start_time": "2025-02-03T04:17:47.826Z"
   },
   {
    "duration": 3,
    "start_time": "2025-02-03T04:17:47.848Z"
   },
   {
    "duration": 6,
    "start_time": "2025-02-03T04:17:47.853Z"
   },
   {
    "duration": 7,
    "start_time": "2025-02-03T04:17:47.925Z"
   },
   {
    "duration": 94,
    "start_time": "2025-02-03T04:17:47.934Z"
   },
   {
    "duration": 93,
    "start_time": "2025-02-03T04:17:48.032Z"
   },
   {
    "duration": 99,
    "start_time": "2025-02-03T04:17:48.129Z"
   },
   {
    "duration": 5,
    "start_time": "2025-02-03T04:17:48.232Z"
   },
   {
    "duration": 5,
    "start_time": "2025-02-03T04:17:48.242Z"
   },
   {
    "duration": 4,
    "start_time": "2025-02-03T04:17:48.250Z"
   },
   {
    "duration": 4,
    "start_time": "2025-02-03T04:17:48.325Z"
   },
   {
    "duration": 2,
    "start_time": "2025-02-03T04:17:48.331Z"
   },
   {
    "duration": 21,
    "start_time": "2025-02-03T04:17:48.338Z"
   },
   {
    "duration": 3,
    "start_time": "2025-02-03T04:17:48.360Z"
   },
   {
    "duration": 2,
    "start_time": "2025-02-03T04:17:48.425Z"
   },
   {
    "duration": 118,
    "start_time": "2025-02-03T04:17:48.429Z"
   },
   {
    "duration": 8,
    "start_time": "2025-02-03T04:17:48.626Z"
   },
   {
    "duration": 6,
    "start_time": "2025-02-03T04:17:48.639Z"
   },
   {
    "duration": 5,
    "start_time": "2025-02-03T04:17:48.648Z"
   },
   {
    "duration": 4,
    "start_time": "2025-02-03T04:17:48.655Z"
   },
   {
    "duration": 66,
    "start_time": "2025-02-03T04:17:48.660Z"
   },
   {
    "duration": 4,
    "start_time": "2025-02-03T04:17:48.728Z"
   },
   {
    "duration": 4,
    "start_time": "2025-02-03T04:17:48.733Z"
   },
   {
    "duration": 4,
    "start_time": "2025-02-03T04:17:48.739Z"
   },
   {
    "duration": 4,
    "start_time": "2025-02-03T04:17:48.745Z"
   },
   {
    "duration": 3,
    "start_time": "2025-02-03T04:17:48.751Z"
   },
   {
    "duration": 3,
    "start_time": "2025-02-03T04:17:48.756Z"
   },
   {
    "duration": 11,
    "start_time": "2025-02-03T04:17:48.761Z"
   },
   {
    "duration": 2,
    "start_time": "2025-02-03T04:17:48.774Z"
   },
   {
    "duration": 3,
    "start_time": "2025-02-03T04:17:48.778Z"
   },
   {
    "duration": 457,
    "start_time": "2025-02-03T04:17:48.824Z"
   },
   {
    "duration": 448,
    "start_time": "2025-02-03T04:17:49.283Z"
   },
   {
    "duration": 447,
    "start_time": "2025-02-03T04:17:49.733Z"
   },
   {
    "duration": 6,
    "start_time": "2025-02-03T04:17:50.182Z"
   },
   {
    "duration": 6,
    "start_time": "2025-02-03T04:17:50.190Z"
   },
   {
    "duration": 0,
    "start_time": "2025-02-03T04:17:50.197Z"
   },
   {
    "duration": 6,
    "start_time": "2025-02-03T04:37:46.542Z"
   },
   {
    "duration": 5,
    "start_time": "2025-02-03T04:37:51.633Z"
   },
   {
    "duration": 6,
    "start_time": "2025-02-03T04:37:52.621Z"
   },
   {
    "duration": 4,
    "start_time": "2025-02-03T04:37:53.050Z"
   },
   {
    "duration": 5,
    "start_time": "2025-02-03T04:37:54.123Z"
   },
   {
    "duration": 4,
    "start_time": "2025-02-03T04:37:54.651Z"
   },
   {
    "duration": 3,
    "start_time": "2025-02-03T04:37:55.400Z"
   },
   {
    "duration": 4,
    "start_time": "2025-02-03T04:37:56.770Z"
   },
   {
    "duration": 4,
    "start_time": "2025-02-03T04:37:57.228Z"
   },
   {
    "duration": 3,
    "start_time": "2025-02-03T04:37:58.934Z"
   },
   {
    "duration": 6,
    "start_time": "2025-02-03T04:38:20.094Z"
   },
   {
    "duration": 4,
    "start_time": "2025-02-03T04:38:20.960Z"
   },
   {
    "duration": 5,
    "start_time": "2025-02-03T04:38:21.335Z"
   },
   {
    "duration": 4,
    "start_time": "2025-02-03T04:38:21.741Z"
   },
   {
    "duration": 4,
    "start_time": "2025-02-03T04:38:22.020Z"
   },
   {
    "duration": 4,
    "start_time": "2025-02-03T04:38:22.901Z"
   },
   {
    "duration": 4,
    "start_time": "2025-02-03T04:38:24.005Z"
   },
   {
    "duration": 3,
    "start_time": "2025-02-03T04:38:25.301Z"
   },
   {
    "duration": 2,
    "start_time": "2025-02-03T04:39:07.945Z"
   },
   {
    "duration": 3,
    "start_time": "2025-02-03T04:39:08.245Z"
   },
   {
    "duration": 446,
    "start_time": "2025-02-03T04:39:09.056Z"
   },
   {
    "duration": 423,
    "start_time": "2025-02-03T04:39:09.762Z"
   },
   {
    "duration": 444,
    "start_time": "2025-02-03T04:39:10.983Z"
   },
   {
    "duration": 7,
    "start_time": "2025-02-03T04:40:06.600Z"
   },
   {
    "duration": 6,
    "start_time": "2025-02-03T04:43:58.221Z"
   },
   {
    "duration": 4,
    "start_time": "2025-02-03T06:20:14.808Z"
   },
   {
    "duration": 3235,
    "start_time": "2025-02-03T17:55:52.320Z"
   },
   {
    "duration": 331,
    "start_time": "2025-02-03T17:55:55.557Z"
   },
   {
    "duration": 16,
    "start_time": "2025-02-03T17:55:55.890Z"
   },
   {
    "duration": 14,
    "start_time": "2025-02-03T17:55:55.909Z"
   },
   {
    "duration": 13,
    "start_time": "2025-02-03T17:55:55.924Z"
   },
   {
    "duration": 12,
    "start_time": "2025-02-03T17:55:55.939Z"
   },
   {
    "duration": 42,
    "start_time": "2025-02-03T17:55:55.953Z"
   },
   {
    "duration": 8,
    "start_time": "2025-02-03T17:55:55.997Z"
   },
   {
    "duration": 37,
    "start_time": "2025-02-03T17:55:56.007Z"
   },
   {
    "duration": 59,
    "start_time": "2025-02-03T17:55:56.047Z"
   },
   {
    "duration": 36,
    "start_time": "2025-02-03T17:55:56.108Z"
   },
   {
    "duration": 3,
    "start_time": "2025-02-03T17:55:56.146Z"
   },
   {
    "duration": 641,
    "start_time": "2025-02-03T17:55:56.151Z"
   },
   {
    "duration": 642,
    "start_time": "2025-02-03T17:55:56.794Z"
   },
   {
    "duration": 743,
    "start_time": "2025-02-03T17:55:57.438Z"
   },
   {
    "duration": 354,
    "start_time": "2025-02-03T17:55:58.183Z"
   },
   {
    "duration": 333,
    "start_time": "2025-02-03T17:55:58.539Z"
   },
   {
    "duration": 357,
    "start_time": "2025-02-03T17:55:58.874Z"
   },
   {
    "duration": 12,
    "start_time": "2025-02-03T17:55:59.234Z"
   },
   {
    "duration": 12,
    "start_time": "2025-02-03T17:55:59.248Z"
   },
   {
    "duration": 36,
    "start_time": "2025-02-03T17:55:59.261Z"
   },
   {
    "duration": 341,
    "start_time": "2025-02-03T17:55:59.299Z"
   },
   {
    "duration": 329,
    "start_time": "2025-02-03T17:55:59.641Z"
   },
   {
    "duration": 340,
    "start_time": "2025-02-03T17:55:59.972Z"
   },
   {
    "duration": 341,
    "start_time": "2025-02-03T17:56:00.314Z"
   },
   {
    "duration": 339,
    "start_time": "2025-02-03T17:56:00.657Z"
   },
   {
    "duration": 351,
    "start_time": "2025-02-03T17:56:00.998Z"
   },
   {
    "duration": 17,
    "start_time": "2025-02-03T17:56:01.354Z"
   },
   {
    "duration": 23,
    "start_time": "2025-02-03T17:56:01.373Z"
   },
   {
    "duration": 3,
    "start_time": "2025-02-03T17:56:01.399Z"
   },
   {
    "duration": 6,
    "start_time": "2025-02-03T17:56:01.404Z"
   },
   {
    "duration": 76,
    "start_time": "2025-02-03T17:56:01.412Z"
   },
   {
    "duration": 26,
    "start_time": "2025-02-03T17:56:01.491Z"
   },
   {
    "duration": 169,
    "start_time": "2025-02-03T17:56:01.520Z"
   },
   {
    "duration": 105,
    "start_time": "2025-02-03T17:56:01.692Z"
   },
   {
    "duration": 4,
    "start_time": "2025-02-03T17:56:01.804Z"
   },
   {
    "duration": 10,
    "start_time": "2025-02-03T17:56:01.813Z"
   },
   {
    "duration": 63,
    "start_time": "2025-02-03T17:56:01.827Z"
   },
   {
    "duration": 5,
    "start_time": "2025-02-03T17:56:01.892Z"
   },
   {
    "duration": 3,
    "start_time": "2025-02-03T17:56:01.899Z"
   },
   {
    "duration": 23,
    "start_time": "2025-02-03T17:56:01.904Z"
   },
   {
    "duration": 3,
    "start_time": "2025-02-03T17:56:01.929Z"
   },
   {
    "duration": 54,
    "start_time": "2025-02-03T17:56:01.934Z"
   },
   {
    "duration": 209,
    "start_time": "2025-02-03T17:56:01.990Z"
   },
   {
    "duration": 10,
    "start_time": "2025-02-03T17:56:02.201Z"
   },
   {
    "duration": 9,
    "start_time": "2025-02-03T17:56:02.290Z"
   },
   {
    "duration": 8,
    "start_time": "2025-02-03T17:56:02.302Z"
   },
   {
    "duration": 4,
    "start_time": "2025-02-03T17:56:02.313Z"
   },
   {
    "duration": 6,
    "start_time": "2025-02-03T17:56:02.320Z"
   },
   {
    "duration": 6,
    "start_time": "2025-02-03T17:56:02.329Z"
   },
   {
    "duration": 4,
    "start_time": "2025-02-03T17:56:02.386Z"
   },
   {
    "duration": 5,
    "start_time": "2025-02-03T17:56:02.393Z"
   },
   {
    "duration": 4,
    "start_time": "2025-02-03T17:56:02.400Z"
   },
   {
    "duration": 3,
    "start_time": "2025-02-03T17:56:02.406Z"
   },
   {
    "duration": 4,
    "start_time": "2025-02-03T17:56:02.411Z"
   },
   {
    "duration": 14,
    "start_time": "2025-02-03T17:56:02.416Z"
   },
   {
    "duration": 3,
    "start_time": "2025-02-03T17:56:02.432Z"
   },
   {
    "duration": 4,
    "start_time": "2025-02-03T17:56:02.437Z"
   },
   {
    "duration": 501,
    "start_time": "2025-02-03T17:56:02.487Z"
   },
   {
    "duration": 524,
    "start_time": "2025-02-03T17:56:02.990Z"
   },
   {
    "duration": 502,
    "start_time": "2025-02-03T17:56:03.516Z"
   },
   {
    "duration": 8,
    "start_time": "2025-02-03T17:56:04.020Z"
   },
   {
    "duration": 6,
    "start_time": "2025-02-03T17:56:04.030Z"
   },
   {
    "duration": 0,
    "start_time": "2025-02-03T17:56:04.038Z"
   },
   {
    "duration": 7,
    "start_time": "2025-02-03T18:04:34.825Z"
   },
   {
    "duration": 6,
    "start_time": "2025-02-03T18:04:35.240Z"
   },
   {
    "duration": 6,
    "start_time": "2025-02-03T18:04:35.868Z"
   },
   {
    "duration": 4,
    "start_time": "2025-02-03T18:04:36.572Z"
   },
   {
    "duration": 4,
    "start_time": "2025-02-03T18:04:38.020Z"
   },
   {
    "duration": 4,
    "start_time": "2025-02-03T18:04:38.799Z"
   },
   {
    "duration": 4,
    "start_time": "2025-02-03T18:04:40.821Z"
   },
   {
    "duration": 4,
    "start_time": "2025-02-03T18:04:42.642Z"
   },
   {
    "duration": 4,
    "start_time": "2025-02-03T18:04:43.528Z"
   },
   {
    "duration": 3,
    "start_time": "2025-02-03T18:04:45.828Z"
   },
   {
    "duration": 2,
    "start_time": "2025-02-03T18:05:04.065Z"
   },
   {
    "duration": 13,
    "start_time": "2025-02-03T18:05:05.325Z"
   },
   {
    "duration": 3,
    "start_time": "2025-02-03T18:05:17.204Z"
   },
   {
    "duration": 2,
    "start_time": "2025-02-03T18:05:17.493Z"
   },
   {
    "duration": 81,
    "start_time": "2025-02-03T18:05:18.020Z"
   },
   {
    "duration": 7,
    "start_time": "2025-02-03T18:05:19.246Z"
   },
   {
    "duration": 6,
    "start_time": "2025-02-03T18:05:19.462Z"
   },
   {
    "duration": 7,
    "start_time": "2025-02-03T18:05:19.691Z"
   },
   {
    "duration": 4,
    "start_time": "2025-02-03T18:05:19.969Z"
   },
   {
    "duration": 4,
    "start_time": "2025-02-03T18:05:20.390Z"
   },
   {
    "duration": 4,
    "start_time": "2025-02-03T18:05:20.735Z"
   },
   {
    "duration": 3,
    "start_time": "2025-02-03T18:05:21.089Z"
   },
   {
    "duration": 4,
    "start_time": "2025-02-03T18:05:21.851Z"
   },
   {
    "duration": 4,
    "start_time": "2025-02-03T18:05:22.394Z"
   },
   {
    "duration": 3,
    "start_time": "2025-02-03T18:05:25.074Z"
   },
   {
    "duration": 2,
    "start_time": "2025-02-03T18:05:27.280Z"
   },
   {
    "duration": 13,
    "start_time": "2025-02-03T18:05:27.888Z"
   },
   {
    "duration": 3,
    "start_time": "2025-02-03T18:09:50.852Z"
   },
   {
    "duration": 253,
    "start_time": "2025-02-03T18:09:51.214Z"
   },
   {
    "duration": 19,
    "start_time": "2025-02-03T18:09:51.470Z"
   },
   {
    "duration": 13,
    "start_time": "2025-02-03T18:09:51.591Z"
   },
   {
    "duration": 14,
    "start_time": "2025-02-03T18:09:51.721Z"
   },
   {
    "duration": 10,
    "start_time": "2025-02-03T18:09:51.877Z"
   },
   {
    "duration": 9,
    "start_time": "2025-02-03T18:09:52.044Z"
   },
   {
    "duration": 8,
    "start_time": "2025-02-03T18:09:52.211Z"
   },
   {
    "duration": 42,
    "start_time": "2025-02-03T18:09:52.402Z"
   },
   {
    "duration": 33,
    "start_time": "2025-02-03T18:09:52.570Z"
   },
   {
    "duration": 37,
    "start_time": "2025-02-03T18:09:52.759Z"
   },
   {
    "duration": 2,
    "start_time": "2025-02-03T18:09:53.050Z"
   },
   {
    "duration": 785,
    "start_time": "2025-02-03T18:09:53.115Z"
   },
   {
    "duration": 636,
    "start_time": "2025-02-03T18:09:53.903Z"
   },
   {
    "duration": 853,
    "start_time": "2025-02-03T18:09:54.542Z"
   },
   {
    "duration": 367,
    "start_time": "2025-02-03T18:09:55.399Z"
   },
   {
    "duration": 345,
    "start_time": "2025-02-03T18:09:55.769Z"
   },
   {
    "duration": 345,
    "start_time": "2025-02-03T18:09:56.117Z"
   },
   {
    "duration": 22,
    "start_time": "2025-02-03T18:09:56.465Z"
   },
   {
    "duration": 15,
    "start_time": "2025-02-03T18:09:56.489Z"
   },
   {
    "duration": 14,
    "start_time": "2025-02-03T18:09:56.508Z"
   },
   {
    "duration": 361,
    "start_time": "2025-02-03T18:09:56.525Z"
   },
   {
    "duration": 332,
    "start_time": "2025-02-03T18:09:56.889Z"
   },
   {
    "duration": 335,
    "start_time": "2025-02-03T18:09:57.223Z"
   },
   {
    "duration": 377,
    "start_time": "2025-02-03T18:09:57.560Z"
   },
   {
    "duration": 363,
    "start_time": "2025-02-03T18:09:57.939Z"
   },
   {
    "duration": 350,
    "start_time": "2025-02-03T18:09:58.303Z"
   },
   {
    "duration": 31,
    "start_time": "2025-02-03T18:09:58.656Z"
   },
   {
    "duration": 17,
    "start_time": "2025-02-03T18:09:58.689Z"
   },
   {
    "duration": 7,
    "start_time": "2025-02-03T18:09:58.708Z"
   },
   {
    "duration": 69,
    "start_time": "2025-02-03T18:09:58.718Z"
   },
   {
    "duration": 11,
    "start_time": "2025-02-03T18:09:58.790Z"
   },
   {
    "duration": 89,
    "start_time": "2025-02-03T18:09:58.803Z"
   },
   {
    "duration": 116,
    "start_time": "2025-02-03T18:09:58.895Z"
   },
   {
    "duration": 90,
    "start_time": "2025-02-03T18:09:59.013Z"
   },
   {
    "duration": 2,
    "start_time": "2025-02-03T18:09:59.411Z"
   },
   {
    "duration": 4,
    "start_time": "2025-02-03T18:09:59.583Z"
   },
   {
    "duration": 4,
    "start_time": "2025-02-03T18:09:59.765Z"
   },
   {
    "duration": 4,
    "start_time": "2025-02-03T18:09:59.950Z"
   },
   {
    "duration": 6,
    "start_time": "2025-02-03T18:10:00.142Z"
   },
   {
    "duration": 22,
    "start_time": "2025-02-03T18:10:00.340Z"
   },
   {
    "duration": 3,
    "start_time": "2025-02-03T18:10:00.522Z"
   },
   {
    "duration": 3,
    "start_time": "2025-02-03T18:10:00.720Z"
   },
   {
    "duration": 66,
    "start_time": "2025-02-03T18:10:01.144Z"
   },
   {
    "duration": 8,
    "start_time": "2025-02-03T18:10:01.581Z"
   },
   {
    "duration": 6,
    "start_time": "2025-02-03T18:10:01.770Z"
   },
   {
    "duration": 6,
    "start_time": "2025-02-03T18:10:01.978Z"
   },
   {
    "duration": 5,
    "start_time": "2025-02-03T18:10:02.166Z"
   },
   {
    "duration": 6,
    "start_time": "2025-02-03T18:10:02.369Z"
   },
   {
    "duration": 4,
    "start_time": "2025-02-03T18:10:02.604Z"
   },
   {
    "duration": 5,
    "start_time": "2025-02-03T18:10:02.801Z"
   },
   {
    "duration": 6,
    "start_time": "2025-02-03T18:10:03.027Z"
   },
   {
    "duration": 6,
    "start_time": "2025-02-03T18:10:03.258Z"
   },
   {
    "duration": 7,
    "start_time": "2025-02-03T18:10:03.449Z"
   },
   {
    "duration": 4,
    "start_time": "2025-02-03T18:10:04.250Z"
   },
   {
    "duration": 14,
    "start_time": "2025-02-03T18:10:04.676Z"
   },
   {
    "duration": 4,
    "start_time": "2025-02-03T18:10:12.602Z"
   },
   {
    "duration": 3,
    "start_time": "2025-02-03T18:10:14.218Z"
   },
   {
    "duration": 489,
    "start_time": "2025-02-03T18:10:15.352Z"
   },
   {
    "duration": 559,
    "start_time": "2025-02-03T18:10:15.918Z"
   },
   {
    "duration": 470,
    "start_time": "2025-02-03T18:10:16.555Z"
   },
   {
    "duration": 352,
    "start_time": "2025-02-03T18:24:06.861Z"
   },
   {
    "duration": 339,
    "start_time": "2025-02-03T18:24:22.872Z"
   },
   {
    "duration": 418,
    "start_time": "2025-02-03T18:24:32.160Z"
   },
   {
    "duration": 13,
    "start_time": "2025-02-03T18:24:48.648Z"
   },
   {
    "duration": 14,
    "start_time": "2025-02-03T18:24:50.189Z"
   },
   {
    "duration": 12,
    "start_time": "2025-02-03T18:24:51.436Z"
   },
   {
    "duration": 397,
    "start_time": "2025-02-03T18:25:30.436Z"
   },
   {
    "duration": 343,
    "start_time": "2025-02-03T18:25:30.835Z"
   },
   {
    "duration": 377,
    "start_time": "2025-02-03T18:25:31.180Z"
   },
   {
    "duration": 15,
    "start_time": "2025-02-03T18:25:31.560Z"
   },
   {
    "duration": 332,
    "start_time": "2025-02-03T18:25:55.982Z"
   },
   {
    "duration": 481,
    "start_time": "2025-02-03T18:25:56.511Z"
   },
   {
    "duration": 12,
    "start_time": "2025-02-03T18:25:57.741Z"
   },
   {
    "duration": 13,
    "start_time": "2025-02-03T18:25:59.564Z"
   },
   {
    "duration": 12,
    "start_time": "2025-02-03T18:26:00.285Z"
   },
   {
    "duration": 327,
    "start_time": "2025-02-03T18:26:11.178Z"
   },
   {
    "duration": 314,
    "start_time": "2025-02-03T18:26:21.628Z"
   },
   {
    "duration": 313,
    "start_time": "2025-02-03T18:26:38.540Z"
   },
   {
    "duration": 340,
    "start_time": "2025-02-03T18:26:45.577Z"
   },
   {
    "duration": 349,
    "start_time": "2025-02-03T18:26:54.249Z"
   },
   {
    "duration": 333,
    "start_time": "2025-02-03T18:27:01.323Z"
   },
   {
    "duration": 3,
    "start_time": "2025-02-03T18:27:37.541Z"
   },
   {
    "duration": 17,
    "start_time": "2025-02-03T18:27:38.915Z"
   },
   {
    "duration": 15,
    "start_time": "2025-02-03T18:27:44.185Z"
   },
   {
    "duration": 3,
    "start_time": "2025-02-03T18:27:51.644Z"
   },
   {
    "duration": 4,
    "start_time": "2025-02-03T18:27:52.986Z"
   },
   {
    "duration": 8,
    "start_time": "2025-02-03T18:27:53.886Z"
   },
   {
    "duration": 25,
    "start_time": "2025-02-03T18:27:54.829Z"
   },
   {
    "duration": 21,
    "start_time": "2025-02-03T18:27:55.587Z"
   },
   {
    "duration": 27,
    "start_time": "2025-02-03T18:27:56.238Z"
   },
   {
    "duration": 2,
    "start_time": "2025-02-03T18:28:25.694Z"
   },
   {
    "duration": 4,
    "start_time": "2025-02-03T18:28:26.310Z"
   },
   {
    "duration": 3,
    "start_time": "2025-02-03T18:28:26.878Z"
   },
   {
    "duration": 4,
    "start_time": "2025-02-03T18:28:27.459Z"
   },
   {
    "duration": 3,
    "start_time": "2025-02-03T18:28:28.223Z"
   },
   {
    "duration": 29,
    "start_time": "2025-02-03T18:28:34.951Z"
   },
   {
    "duration": 3,
    "start_time": "2025-02-03T18:28:35.901Z"
   },
   {
    "duration": 3,
    "start_time": "2025-02-03T18:28:37.916Z"
   },
   {
    "duration": 107,
    "start_time": "2025-02-03T18:28:42.400Z"
   },
   {
    "duration": 6,
    "start_time": "2025-02-03T18:28:55.004Z"
   },
   {
    "duration": 6,
    "start_time": "2025-02-03T18:28:55.739Z"
   },
   {
    "duration": 6,
    "start_time": "2025-02-03T18:28:56.109Z"
   },
   {
    "duration": 4,
    "start_time": "2025-02-03T18:28:56.824Z"
   },
   {
    "duration": 4,
    "start_time": "2025-02-03T18:28:57.627Z"
   },
   {
    "duration": 4,
    "start_time": "2025-02-03T18:28:58.488Z"
   },
   {
    "duration": 4,
    "start_time": "2025-02-03T18:28:59.808Z"
   },
   {
    "duration": 4,
    "start_time": "2025-02-03T18:29:00.691Z"
   },
   {
    "duration": 4,
    "start_time": "2025-02-03T18:29:01.953Z"
   },
   {
    "duration": 3,
    "start_time": "2025-02-03T18:29:03.128Z"
   },
   {
    "duration": 3,
    "start_time": "2025-02-03T18:29:15.950Z"
   },
   {
    "duration": 13,
    "start_time": "2025-02-03T18:29:16.611Z"
   },
   {
    "duration": 2,
    "start_time": "2025-02-03T18:30:24.771Z"
   },
   {
    "duration": 3,
    "start_time": "2025-02-03T18:30:25.021Z"
   },
   {
    "duration": 4,
    "start_time": "2025-02-03T18:30:25.452Z"
   },
   {
    "duration": 5,
    "start_time": "2025-02-03T18:30:25.667Z"
   },
   {
    "duration": 2,
    "start_time": "2025-02-03T18:30:25.994Z"
   },
   {
    "duration": 24,
    "start_time": "2025-02-03T18:30:26.059Z"
   },
   {
    "duration": 3,
    "start_time": "2025-02-03T18:30:26.236Z"
   },
   {
    "duration": 2,
    "start_time": "2025-02-03T18:30:26.427Z"
   },
   {
    "duration": 89,
    "start_time": "2025-02-03T18:30:26.613Z"
   },
   {
    "duration": 7,
    "start_time": "2025-02-03T18:30:26.985Z"
   },
   {
    "duration": 8,
    "start_time": "2025-02-03T18:30:27.455Z"
   },
   {
    "duration": 6,
    "start_time": "2025-02-03T18:30:27.706Z"
   },
   {
    "duration": 5,
    "start_time": "2025-02-03T18:30:27.905Z"
   },
   {
    "duration": 4,
    "start_time": "2025-02-03T18:30:28.580Z"
   },
   {
    "duration": 7,
    "start_time": "2025-02-03T18:30:28.929Z"
   },
   {
    "duration": 5,
    "start_time": "2025-02-03T18:30:29.173Z"
   },
   {
    "duration": 4,
    "start_time": "2025-02-03T18:30:29.840Z"
   },
   {
    "duration": 5,
    "start_time": "2025-02-03T18:30:30.235Z"
   },
   {
    "duration": 6,
    "start_time": "2025-02-03T18:30:33.289Z"
   },
   {
    "duration": 3,
    "start_time": "2025-02-03T18:30:37.290Z"
   },
   {
    "duration": 14,
    "start_time": "2025-02-03T18:30:38.637Z"
   },
   {
    "duration": 2,
    "start_time": "2025-02-03T18:30:50.446Z"
   },
   {
    "duration": 3,
    "start_time": "2025-02-03T18:30:54.393Z"
   },
   {
    "duration": 498,
    "start_time": "2025-02-03T18:30:56.940Z"
   },
   {
    "duration": 494,
    "start_time": "2025-02-03T18:30:57.638Z"
   },
   {
    "duration": 491,
    "start_time": "2025-02-03T18:30:58.950Z"
   },
   {
    "duration": 489,
    "start_time": "2025-02-03T18:31:16.009Z"
   },
   {
    "duration": 529,
    "start_time": "2025-02-03T18:31:47.297Z"
   },
   {
    "duration": 517,
    "start_time": "2025-02-03T18:31:50.013Z"
   },
   {
    "duration": 520,
    "start_time": "2025-02-03T18:31:50.533Z"
   },
   {
    "duration": 3,
    "start_time": "2025-02-03T18:32:05.251Z"
   },
   {
    "duration": 496,
    "start_time": "2025-02-03T18:32:05.469Z"
   },
   {
    "duration": 520,
    "start_time": "2025-02-03T18:32:05.967Z"
   },
   {
    "duration": 497,
    "start_time": "2025-02-03T18:32:06.489Z"
   },
   {
    "duration": 499,
    "start_time": "2025-02-03T18:32:06.988Z"
   },
   {
    "duration": 503,
    "start_time": "2025-02-03T18:32:07.489Z"
   },
   {
    "duration": 524,
    "start_time": "2025-02-03T18:32:07.995Z"
   },
   {
    "duration": 8,
    "start_time": "2025-02-03T18:32:09.381Z"
   },
   {
    "duration": 4,
    "start_time": "2025-02-03T19:26:16.587Z"
   },
   {
    "duration": 1020,
    "start_time": "2025-02-03T19:26:58.366Z"
   },
   {
    "duration": 3,
    "start_time": "2025-02-03T19:27:23.375Z"
   },
   {
    "duration": 487,
    "start_time": "2025-02-03T19:27:26.828Z"
   },
   {
    "duration": 461,
    "start_time": "2025-02-03T19:27:58.138Z"
   },
   {
    "duration": 460,
    "start_time": "2025-02-03T19:27:58.702Z"
   },
   {
    "duration": 465,
    "start_time": "2025-02-03T19:27:59.232Z"
   },
   {
    "duration": 468,
    "start_time": "2025-02-03T19:29:10.032Z"
   },
   {
    "duration": 474,
    "start_time": "2025-02-03T19:29:10.502Z"
   },
   {
    "duration": 473,
    "start_time": "2025-02-03T19:29:10.978Z"
   },
   {
    "duration": 4,
    "start_time": "2025-02-03T19:29:26.254Z"
   },
   {
    "duration": 474,
    "start_time": "2025-02-03T19:29:26.871Z"
   },
   {
    "duration": 463,
    "start_time": "2025-02-03T19:30:29.859Z"
   },
   {
    "duration": 472,
    "start_time": "2025-02-03T19:30:43.606Z"
   },
   {
    "duration": 469,
    "start_time": "2025-02-03T19:30:46.558Z"
   },
   {
    "duration": 939,
    "start_time": "2025-02-03T19:31:57.523Z"
   },
   {
    "duration": 4,
    "start_time": "2025-02-03T19:32:17.998Z"
   },
   {
    "duration": 937,
    "start_time": "2025-02-03T19:32:20.091Z"
   },
   {
    "duration": 5,
    "start_time": "2025-02-03T21:29:44.895Z"
   },
   {
    "duration": 8,
    "start_time": "2025-02-03T21:31:33.225Z"
   },
   {
    "duration": 5,
    "start_time": "2025-02-03T21:31:47.216Z"
   },
   {
    "duration": 988,
    "start_time": "2025-02-03T21:31:50.439Z"
   },
   {
    "duration": 1006,
    "start_time": "2025-02-03T21:32:01.282Z"
   },
   {
    "duration": 3,
    "start_time": "2025-02-03T21:33:43.644Z"
   },
   {
    "duration": 975,
    "start_time": "2025-02-03T21:33:44.417Z"
   },
   {
    "duration": 3,
    "start_time": "2025-02-03T21:37:34.610Z"
   },
   {
    "duration": 4,
    "start_time": "2025-02-03T21:37:35.025Z"
   },
   {
    "duration": 484,
    "start_time": "2025-02-03T21:37:35.716Z"
   },
   {
    "duration": 499,
    "start_time": "2025-02-03T21:37:36.476Z"
   },
   {
    "duration": 504,
    "start_time": "2025-02-03T21:37:38.211Z"
   },
   {
    "duration": 481,
    "start_time": "2025-02-03T21:37:39.715Z"
   },
   {
    "duration": 477,
    "start_time": "2025-02-03T21:37:41.426Z"
   },
   {
    "duration": 490,
    "start_time": "2025-02-03T21:37:42.700Z"
   },
   {
    "duration": 8,
    "start_time": "2025-02-03T21:37:43.918Z"
   },
   {
    "duration": 478,
    "start_time": "2025-02-03T21:37:46.865Z"
   },
   {
    "duration": 487,
    "start_time": "2025-02-03T21:37:48.063Z"
   },
   {
    "duration": 4,
    "start_time": "2025-02-03T21:37:50.360Z"
   },
   {
    "duration": 992,
    "start_time": "2025-02-03T21:37:52.968Z"
   },
   {
    "duration": 4,
    "start_time": "2025-02-03T22:00:52.307Z"
   },
   {
    "duration": 1052,
    "start_time": "2025-02-03T22:00:52.767Z"
   },
   {
    "duration": 5,
    "start_time": "2025-02-03T22:09:08.018Z"
   },
   {
    "duration": 4,
    "start_time": "2025-02-03T22:09:11.315Z"
   },
   {
    "duration": 960,
    "start_time": "2025-02-03T22:09:13.793Z"
   },
   {
    "duration": 4,
    "start_time": "2025-02-03T22:09:49.772Z"
   },
   {
    "duration": 984,
    "start_time": "2025-02-03T22:09:50.475Z"
   },
   {
    "duration": 4,
    "start_time": "2025-02-03T22:26:40.357Z"
   },
   {
    "duration": 957,
    "start_time": "2025-02-03T22:26:41.064Z"
   },
   {
    "duration": 952,
    "start_time": "2025-02-03T22:27:51.001Z"
   },
   {
    "duration": 952,
    "start_time": "2025-02-03T22:28:04.620Z"
   },
   {
    "duration": 986,
    "start_time": "2025-02-03T22:28:13.186Z"
   },
   {
    "duration": 5,
    "start_time": "2025-02-03T22:28:26.384Z"
   },
   {
    "duration": 943,
    "start_time": "2025-02-03T22:28:26.861Z"
   },
   {
    "duration": 946,
    "start_time": "2025-02-03T22:28:35.388Z"
   },
   {
    "duration": 1002,
    "start_time": "2025-02-03T22:28:42.746Z"
   },
   {
    "duration": 940,
    "start_time": "2025-02-03T22:28:51.741Z"
   },
   {
    "duration": 5,
    "start_time": "2025-02-03T22:36:41.961Z"
   },
   {
    "duration": 986,
    "start_time": "2025-02-03T22:36:42.454Z"
   },
   {
    "duration": 4,
    "start_time": "2025-02-03T22:37:05.870Z"
   },
   {
    "duration": 225,
    "start_time": "2025-02-03T22:37:06.320Z"
   },
   {
    "duration": 12,
    "start_time": "2025-02-03T22:37:06.806Z"
   },
   {
    "duration": 11,
    "start_time": "2025-02-03T22:37:07.151Z"
   },
   {
    "duration": 12,
    "start_time": "2025-02-03T22:37:07.291Z"
   },
   {
    "duration": 8,
    "start_time": "2025-02-03T22:37:07.641Z"
   },
   {
    "duration": 9,
    "start_time": "2025-02-03T22:37:08.114Z"
   },
   {
    "duration": 9,
    "start_time": "2025-02-03T22:37:08.673Z"
   },
   {
    "duration": 35,
    "start_time": "2025-02-03T22:37:11.160Z"
   },
   {
    "duration": 35,
    "start_time": "2025-02-03T22:37:11.843Z"
   },
   {
    "duration": 34,
    "start_time": "2025-02-03T22:37:12.166Z"
   },
   {
    "duration": 4,
    "start_time": "2025-02-03T22:37:12.827Z"
   },
   {
    "duration": 343,
    "start_time": "2025-02-03T22:40:30.631Z"
   },
   {
    "duration": 4,
    "start_time": "2025-02-03T22:40:33.047Z"
   },
   {
    "duration": 15,
    "start_time": "2025-02-03T22:40:34.179Z"
   },
   {
    "duration": 14,
    "start_time": "2025-02-03T22:40:35.349Z"
   },
   {
    "duration": 4,
    "start_time": "2025-02-03T22:40:37.153Z"
   },
   {
    "duration": 3,
    "start_time": "2025-02-03T22:40:56.024Z"
   },
   {
    "duration": 5,
    "start_time": "2025-02-03T22:40:56.257Z"
   },
   {
    "duration": 6,
    "start_time": "2025-02-03T22:40:56.718Z"
   },
   {
    "duration": 25,
    "start_time": "2025-02-03T22:40:57.016Z"
   },
   {
    "duration": 21,
    "start_time": "2025-02-03T22:40:57.322Z"
   },
   {
    "duration": 21,
    "start_time": "2025-02-03T22:40:57.770Z"
   },
   {
    "duration": 2,
    "start_time": "2025-02-03T22:41:28.578Z"
   },
   {
    "duration": 4,
    "start_time": "2025-02-03T22:41:29.808Z"
   },
   {
    "duration": 3,
    "start_time": "2025-02-03T22:41:30.478Z"
   },
   {
    "duration": 5,
    "start_time": "2025-02-03T22:41:30.856Z"
   },
   {
    "duration": 22,
    "start_time": "2025-02-03T22:41:31.574Z"
   },
   {
    "duration": 3,
    "start_time": "2025-02-03T22:41:32.258Z"
   },
   {
    "duration": 3,
    "start_time": "2025-02-03T22:41:32.707Z"
   },
   {
    "duration": 94,
    "start_time": "2025-02-03T22:41:33.303Z"
   },
   {
    "duration": 3,
    "start_time": "2025-02-03T22:41:33.994Z"
   },
   {
    "duration": 7,
    "start_time": "2025-02-03T22:42:05.710Z"
   },
   {
    "duration": 6,
    "start_time": "2025-02-03T22:42:06.439Z"
   },
   {
    "duration": 7,
    "start_time": "2025-02-03T22:42:06.752Z"
   },
   {
    "duration": 4,
    "start_time": "2025-02-03T22:42:06.911Z"
   },
   {
    "duration": 4,
    "start_time": "2025-02-03T22:42:07.376Z"
   },
   {
    "duration": 4,
    "start_time": "2025-02-03T22:42:07.724Z"
   },
   {
    "duration": 4,
    "start_time": "2025-02-03T22:42:08.007Z"
   },
   {
    "duration": 4,
    "start_time": "2025-02-03T22:42:08.672Z"
   },
   {
    "duration": 5,
    "start_time": "2025-02-03T22:42:08.967Z"
   },
   {
    "duration": 3,
    "start_time": "2025-02-03T22:42:09.209Z"
   },
   {
    "duration": 13,
    "start_time": "2025-02-03T22:42:44.001Z"
   },
   {
    "duration": 4,
    "start_time": "2025-02-03T22:42:47.964Z"
   },
   {
    "duration": 3,
    "start_time": "2025-02-03T22:42:48.149Z"
   },
   {
    "duration": 4,
    "start_time": "2025-02-03T23:10:06.736Z"
   },
   {
    "duration": 997,
    "start_time": "2025-02-03T23:10:07.504Z"
   },
   {
    "duration": 8,
    "start_time": "2025-02-03T23:31:05.792Z"
   },
   {
    "duration": 5,
    "start_time": "2025-02-03T23:31:45.473Z"
   },
   {
    "duration": 10,
    "start_time": "2025-02-03T23:33:41.212Z"
   },
   {
    "duration": 582,
    "start_time": "2025-02-03T23:33:41.761Z"
   },
   {
    "duration": 514,
    "start_time": "2025-02-03T23:33:43.184Z"
   },
   {
    "duration": 503,
    "start_time": "2025-02-03T23:33:43.753Z"
   },
   {
    "duration": 502,
    "start_time": "2025-02-03T23:33:44.815Z"
   },
   {
    "duration": 451,
    "start_time": "2025-02-03T23:33:46.376Z"
   },
   {
    "duration": 502,
    "start_time": "2025-02-03T23:33:46.829Z"
   },
   {
    "duration": 4,
    "start_time": "2025-02-03T23:33:50.273Z"
   },
   {
    "duration": 960,
    "start_time": "2025-02-03T23:33:51.210Z"
   },
   {
    "duration": 4,
    "start_time": "2025-02-03T23:34:24.463Z"
   },
   {
    "duration": 956,
    "start_time": "2025-02-03T23:34:24.957Z"
   },
   {
    "duration": 4,
    "start_time": "2025-02-03T23:50:46.140Z"
   },
   {
    "duration": 965,
    "start_time": "2025-02-03T23:50:46.946Z"
   },
   {
    "duration": 958,
    "start_time": "2025-02-03T23:53:53.614Z"
   },
   {
    "duration": 999,
    "start_time": "2025-02-03T23:54:13.287Z"
   }
  ],
  "kernelspec": {
   "display_name": "Python 3 (ipykernel)",
   "language": "python",
   "name": "python3"
  },
  "language_info": {
   "codemirror_mode": {
    "name": "ipython",
    "version": 3
   },
   "file_extension": ".py",
   "mimetype": "text/x-python",
   "name": "python",
   "nbconvert_exporter": "python",
   "pygments_lexer": "ipython3",
   "version": "3.9.19"
  },
  "toc": {
   "base_numbering": 1,
   "nav_menu": {},
   "number_sections": true,
   "sideBar": true,
   "skip_h1_title": true,
   "title_cell": "Table of Contents",
   "title_sidebar": "Contents",
   "toc_cell": false,
   "toc_position": {},
   "toc_section_display": true,
   "toc_window_display": false
  }
 },
 "nbformat": 4,
 "nbformat_minor": 2
}
